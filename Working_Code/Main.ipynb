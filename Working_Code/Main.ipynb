{
 "cells": [
  {
   "cell_type": "markdown",
   "id": "9556680e",
   "metadata": {},
   "source": [
    "# Set 1\n",
    "## Load data"
   ]
  },
  {
   "cell_type": "code",
   "execution_count": 1,
   "id": "17110fbf",
   "metadata": {},
   "outputs": [
    {
     "data": {
      "application/javascript": [
       "IPython.OutputArea.prototype._should_scroll = function(lines) {\n",
       "    return false;\n",
       "}\n"
      ],
      "text/plain": [
       "<IPython.core.display.Javascript object>"
      ]
     },
     "metadata": {},
     "output_type": "display_data"
    }
   ],
   "source": [
    "%%javascript\n",
    "IPython.OutputArea.prototype._should_scroll = function(lines) {\n",
    "    return false;\n",
    "}"
   ]
  },
  {
   "cell_type": "code",
   "execution_count": null,
   "id": "2dd75081",
   "metadata": {
    "ExecuteTime": {
     "end_time": "2021-09-17T08:47:53.410863Z",
     "start_time": "2021-09-17T08:47:51.795329Z"
    },
    "scrolled": false
   },
   "outputs": [],
   "source": [
    "from tqdm import tqdm\n",
    "\n",
    "import pickle\n",
    "import os\n",
    "import pandas as pd\n",
    "import matplotlib.pyplot as plt\n",
    "import numpy as np\n",
    "import seaborn as sns\n",
    "\n",
    "from sklearn.preprocessing import MinMaxScaler"
   ]
  },
  {
   "cell_type": "code",
   "execution_count": null,
   "id": "3552c393",
   "metadata": {},
   "outputs": [],
   "source": [
    "top_performers = pd.DataFrame()"
   ]
  },
  {
   "cell_type": "markdown",
   "id": "0aa32f57",
   "metadata": {},
   "source": [
    "# Combine"
   ]
  },
  {
   "cell_type": "code",
   "execution_count": null,
   "id": "838c6b98",
   "metadata": {},
   "outputs": [],
   "source": [
    "def cluster_plot_bokeh(grid):\n",
    "    line_dash = ['solid', 'dashed', 'dotted', 'dotdash']\n",
    "    color = ['blue', 'red', 'hotpink', 'green']\n",
    "    p = figure(width=1400, height=500, x_axis_label='Number clusters', y_axis_label='Correlation silhouette score')\n",
    "    p1 = figure(width=1400, height=500, x_axis_label='Number clusters', y_axis_label='Euclidian silhouette score')\n",
    "    for i, alg in enumerate(grid):\n",
    "        df = grid[alg].groupby(['n_clusters']).max().reset_index()\n",
    "        df = df.sort_values('n_clusters')\n",
    "        source = ColumnDataSource(df)\n",
    "        p.line('n_clusters', 'silhouette_score_correlation', source=source,\n",
    "                    legend_label=f'silhouette score {alg}', color=color[i])\n",
    "        p1.line('n_clusters', 'silhouette_score_euclidean', source=source,\n",
    "                    legend_label=f'silhouette score {alg}', color=color[i])\n",
    "\n",
    "    p.add_layout(p.legend[0], 'right')\n",
    "    p.legend.click_policy=\"hide\"\n",
    "    p1.add_layout(p1.legend[0], 'right')\n",
    "    p1.legend.click_policy=\"hide\"\n",
    "    return column(p, p1)"
   ]
  },
  {
   "cell_type": "code",
   "execution_count": null,
   "id": "501c4bd2",
   "metadata": {},
   "outputs": [],
   "source": [
    "pd.options.display.width = 100\n",
    "def get_individual_score(grid, i):\n",
    "    top_df = []\n",
    "    for alg in grid:\n",
    "        print(f'_________________________________________{alg}_________________________________________')\n",
    "        print()\n",
    "        df = grid[alg].copy()\n",
    "        if 'silhouette_score_manhattan' in df.columns:\n",
    "            df = df.drop('silhouette_score_manhattan', axis=1)\n",
    "        if 'calinski_harabasz_score' in df.columns:\n",
    "            df = df.drop('calinski_harabasz_score', axis=1)\n",
    "        if 'Fit_Time' in df.columns:\n",
    "            df = df.drop('Fit_Time', axis=1)\n",
    "        print(f'                        -----------------mean------------------')\n",
    "        value1 = MinMaxScaler().fit_transform(df['silhouette_score_correlation'].values.reshape(-1, 1))\n",
    "        value2 = MinMaxScaler().fit_transform(df['silhouette_score_euclidean'].values.reshape(-1, 1))\n",
    "        df['mean'] = (value1 + value2) / 2\n",
    "        #df = df.drop(['silhouette_score_correlation', 'silhouette_score_euclidean'], axis=1)\n",
    "        df = df.sort_values(by='mean', ascending=False)\n",
    "        df = df.drop('mean', axis=1)\n",
    "        print(df.head(3))\n",
    "        print()\n",
    "        top_df.append([alg, df['silhouette_score_correlation'].values[0], df['silhouette_score_euclidean'].values[0]])\n",
    "    with open(f'/home/g0017139/UMCG_Thesis/Working_Code/Results/TSet{i}/baseline_df.pkl', 'rb') as f:\n",
    "        baseline = pickle.load(f)\n",
    "    top_df.append(['Baseline', baseline['silhouette_score_correlation'].values[0], \n",
    "                   baseline['silhouette_score_euclidean'].values[0]])\n",
    "    print('_________________________________________BEST_________________________________________')\n",
    "    top_df = pd.DataFrame.from_records(top_df, columns=['Algorithm', 'silhouette_score_correlation', \n",
    "                                                      'silhouette_score_euclidean'])\n",
    "    print(top_df)\n",
    "    names = {\n",
    "        1: 'CCLE',\n",
    "        2: 'GPL570',\n",
    "        4: 'TCGA'\n",
    "    }\n",
    "    top_df['Set'] = names[i]\n",
    "    return top_df"
   ]
  },
  {
   "cell_type": "code",
   "execution_count": null,
   "id": "ac335fc9",
   "metadata": {},
   "outputs": [],
   "source": [
    "def get_results_plot(grid, i, end=15):\n",
    "    plot_df = pd.DataFrame()\n",
    "    for alg in grid:\n",
    "        df = grid[alg].groupby(['n_clusters']).max().reset_index()\n",
    "        df = df.sort_values('n_clusters')[['n_clusters','silhouette_score_euclidean', 'silhouette_score_correlation']]\n",
    "        df['algorithm'] = alg\n",
    "        plot_df = pd.concat([plot_df, df], ignore_index=True)\n",
    "    plot_df = plot_df.dropna()\n",
    "    # Add the baselilne\n",
    "    with open(f'/home/g0017139/UMCG_Thesis/Working_Code/Results/TSet{i}/baseline_df.pkl', 'rb') as f:\n",
    "        df = pickle.load(f)    \n",
    "    plot_df = pd.concat([plot_df, df], ignore_index=True)\n",
    "    fig, axs = plt.subplots(2,1,  figsize=(20,10), sharex=True)\n",
    "    axs[0].set_xlim(2, end)\n",
    "    axs[1].set_xlim(2, end)\n",
    "    g = sns.lineplot(data=plot_df, x='n_clusters', y='silhouette_score_euclidean', hue='algorithm', ax=axs[0])\n",
    "    g1 = sns.lineplot(data=plot_df, x='n_clusters', y='silhouette_score_correlation', hue='algorithm', ax=axs[1], legend=False)\n",
    "    fig.suptitle(f'Set {i}', fontsize=24)\n",
    "    plt.show()\n",
    "    return plot_df"
   ]
  },
  {
   "cell_type": "markdown",
   "id": "c6cf90f7",
   "metadata": {},
   "source": [
    "# Set 1"
   ]
  },
  {
   "cell_type": "code",
   "execution_count": null,
   "id": "6482510f",
   "metadata": {
    "scrolled": false
   },
   "outputs": [],
   "source": [
    "i = 1\n",
    "with open(f'/home/g0017139/UMCG_Thesis/Working_Code/Results/TSet{i}/Merged_results.pkl', 'rb') as f:\n",
    "    results_grid = pickle.load(f)\n",
    "end_df = get_results_plot(results_grid, i)"
   ]
  },
  {
   "cell_type": "code",
   "execution_count": null,
   "id": "6b1d1ca0",
   "metadata": {
    "scrolled": true
   },
   "outputs": [],
   "source": [
    "top_df = get_individual_score(results_grid, i)"
   ]
  },
  {
   "cell_type": "code",
   "execution_count": null,
   "id": "796ba320",
   "metadata": {},
   "outputs": [],
   "source": [
    "top_performers = pd.concat([top_performers, top_df])\n",
    "top_performers"
   ]
  },
  {
   "cell_type": "markdown",
   "id": "cecb305e",
   "metadata": {},
   "source": [
    "# Set2"
   ]
  },
  {
   "cell_type": "code",
   "execution_count": null,
   "id": "3ed2b000",
   "metadata": {
    "scrolled": false
   },
   "outputs": [],
   "source": [
    "i = 2\n",
    "with open(f'/home/g0017139/UMCG_Thesis/Working_Code/Results/TSet{i}/Merged_results.pkl', 'rb') as f:\n",
    "    results_grid = pickle.load(f)\n",
    "end_df = get_results_plot(results_grid, i,15)"
   ]
  },
  {
   "cell_type": "code",
   "execution_count": null,
   "id": "a68e674e",
   "metadata": {},
   "outputs": [],
   "source": [
    "top_df = get_individual_score(results_grid, i)"
   ]
  },
  {
   "cell_type": "code",
   "execution_count": null,
   "id": "8ed20834",
   "metadata": {},
   "outputs": [],
   "source": [
    "with open(f'/home/g0017139/UMCG_Thesis/Working_Code/Results/TSet2/Merged_GridHDDC.pkl', 'rb') as f:\n",
    "    grid = pickle.load(f)\n",
    "grid[grid['K']==2]"
   ]
  },
  {
   "cell_type": "code",
   "execution_count": null,
   "id": "9793317d",
   "metadata": {},
   "outputs": [],
   "source": [
    "top_performers = pd.concat([top_performers, top_df])"
   ]
  },
  {
   "cell_type": "markdown",
   "id": "ecfb28e1",
   "metadata": {},
   "source": [
    "# Set4"
   ]
  },
  {
   "cell_type": "code",
   "execution_count": null,
   "id": "33e032e9",
   "metadata": {
    "scrolled": false
   },
   "outputs": [],
   "source": [
    "i = 4\n",
    "with open(f'/home/g0017139/UMCG_Thesis/Working_Code/Results/TSet{i}/Merged_results.pkl', 'rb') as f:\n",
    "    results_grid = pickle.load(f)\n",
    "end_df = get_results_plot(results_grid, i, 30)"
   ]
  },
  {
   "cell_type": "code",
   "execution_count": null,
   "id": "115da137",
   "metadata": {},
   "outputs": [],
   "source": [
    "top_df = get_individual_score(results_grid, i)"
   ]
  },
  {
   "cell_type": "code",
   "execution_count": null,
   "id": "5861f981",
   "metadata": {},
   "outputs": [],
   "source": [
    "with open(f'/home/g0017139/UMCG_Thesis/Working_Code/Results/TSet4/Merged_GridHDDC.pkl', 'rb') as f:\n",
    "    grid = pickle.load(f)\n",
    "grid[grid['K']==19]"
   ]
  },
  {
   "cell_type": "code",
   "execution_count": null,
   "id": "ddb073e9",
   "metadata": {},
   "outputs": [],
   "source": [
    "top_performers = pd.concat([top_performers, top_df])"
   ]
  },
  {
   "cell_type": "markdown",
   "id": "90445b1c",
   "metadata": {},
   "source": [
    "# Combine"
   ]
  },
  {
   "cell_type": "code",
   "execution_count": null,
   "id": "57f5a965",
   "metadata": {},
   "outputs": [],
   "source": [
    "import seaborn as sns\n",
    "sns.set(font_scale = 1.3,style=\"whitegrid\")\n",
    "fig, (ax1, ax2) = plt.subplots(1,2, figsize=(16,8))\n",
    "\n",
    "sns.barplot(x=\"Set\", y=\"silhouette_score_euclidean\", hue=\"Algorithm\", data=top_performers, ax=ax1)\n",
    "sns.barplot(x=\"Set\", y=\"silhouette_score_correlation\", hue=\"Algorithm\", data=top_performers, ax=ax2)\n",
    "\n",
    "ax1.get_legend().remove()\n",
    "ax1.set_ylabel('Euclidian distance')\n",
    "ax2.set_ylabel('Correlation distance')\n",
    "ax2.legend(bbox_to_anchor=(1.04,1), loc=\"upper left\")\n",
    "fig.suptitle('Best silhoutte scores')\n",
    "plt.savefig(f'Results/Best_Scores.svg', dpi=1200)\n"
   ]
  },
  {
   "cell_type": "code",
   "execution_count": null,
   "id": "f5af6117",
   "metadata": {},
   "outputs": [],
   "source": []
  }
 ],
 "metadata": {
  "kernelspec": {
   "display_name": "TryTwo",
   "language": "python",
   "name": "trytwo"
  },
  "language_info": {
   "codemirror_mode": {
    "name": "ipython",
    "version": 3
   },
   "file_extension": ".py",
   "mimetype": "text/x-python",
   "name": "python",
   "nbconvert_exporter": "python",
   "pygments_lexer": "ipython3",
   "version": "3.9.6"
  }
 },
 "nbformat": 4,
 "nbformat_minor": 5
}
