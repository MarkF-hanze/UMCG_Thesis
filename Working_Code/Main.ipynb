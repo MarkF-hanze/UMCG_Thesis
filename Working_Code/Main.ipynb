{
 "cells": [
  {
   "cell_type": "markdown",
   "id": "9556680e",
   "metadata": {},
   "source": [
    "# Set 1\n",
    "## Load data"
   ]
  },
  {
   "cell_type": "code",
   "execution_count": 1,
   "id": "17110fbf",
   "metadata": {},
   "outputs": [
    {
     "data": {
      "application/javascript": [
       "IPython.OutputArea.prototype._should_scroll = function(lines) {\n",
       "    return false;\n",
       "}\n"
      ],
      "text/plain": [
       "<IPython.core.display.Javascript object>"
      ]
     },
     "metadata": {},
     "output_type": "display_data"
    }
   ],
   "source": [
    "%%javascript\n",
    "IPython.OutputArea.prototype._should_scroll = function(lines) {\n",
    "    return false;\n",
    "}"
   ]
  },
  {
   "cell_type": "code",
   "execution_count": 2,
   "id": "2dd75081",
   "metadata": {
    "ExecuteTime": {
     "end_time": "2021-09-17T08:47:53.410863Z",
     "start_time": "2021-09-17T08:47:51.795329Z"
    },
    "scrolled": false
   },
   "outputs": [],
   "source": [
    "from IPython.display import SVG, display\n",
    "from tqdm import tqdm\n",
    "from pyclustertend import hopkins,ivat\n",
    "from tqdm import tqdm\n",
    "\n",
    "\n",
    "import hdbscan\n",
    "import umap\n",
    "import pickle\n",
    "import os\n",
    "import itertools\n",
    "import time\n",
    "import pandas as pd\n",
    "import matplotlib.pyplot as plt\n",
    "import numpy as np\n",
    "import seaborn as sns\n",
    "from distinctipy import distinctipy\n",
    "\n",
    "from sklearn.pipeline import Pipeline\n",
    "from sklearn.decomposition import PCA, FastICA\n",
    "from sklearn.preprocessing import MinMaxScaler, StandardScaler\n",
    "from sklearn.cluster import MiniBatchKMeans, AgglomerativeClustering\n",
    "from sklearn.metrics import silhouette_score, calinski_harabasz_score, davies_bouldin_score\n",
    "\n",
    "from Commen_Functions import get_score, get_score_df, merge_Results, load_sets"
   ]
  },
  {
   "cell_type": "code",
   "execution_count": 3,
   "id": "cb4ee924",
   "metadata": {},
   "outputs": [],
   "source": [
    "df, df_normalized, Type_df = load_sets(1)"
   ]
  },
  {
   "cell_type": "markdown",
   "id": "a3cf9747",
   "metadata": {},
   "source": [
    "## Hierarchical clustering"
   ]
  },
  {
   "cell_type": "code",
   "execution_count": 4,
   "id": "cbe845b7",
   "metadata": {
    "scrolled": false
   },
   "outputs": [],
   "source": [
    "with open(f'/home/g0017139/UMCG_Thesis/Working_Code/Results/TSet1/Merged_results.pkl', 'rb') as f:\n",
    "    results_grid = pickle.load(f)"
   ]
  },
  {
   "cell_type": "code",
   "execution_count": 5,
   "id": "805970bc",
   "metadata": {
    "scrolled": false
   },
   "outputs": [
    {
     "data": {
      "text/html": [
       "<div>\n",
       "<style scoped>\n",
       "    .dataframe tbody tr th:only-of-type {\n",
       "        vertical-align: middle;\n",
       "    }\n",
       "\n",
       "    .dataframe tbody tr th {\n",
       "        vertical-align: top;\n",
       "    }\n",
       "\n",
       "    .dataframe thead th {\n",
       "        text-align: right;\n",
       "    }\n",
       "</style>\n",
       "<table border=\"1\" class=\"dataframe\">\n",
       "  <thead>\n",
       "    <tr style=\"text-align: right;\">\n",
       "      <th></th>\n",
       "      <th>n_clusters</th>\n",
       "      <th>silhouette_score_euclidean</th>\n",
       "      <th>silhouette_score_correlation</th>\n",
       "      <th>silhouette_score_manhattan</th>\n",
       "      <th>calinski_harabasz_score</th>\n",
       "    </tr>\n",
       "  </thead>\n",
       "  <tbody>\n",
       "    <tr>\n",
       "      <th>13</th>\n",
       "      <td>2</td>\n",
       "      <td>0.096876</td>\n",
       "      <td>0.097234</td>\n",
       "      <td>0.102570</td>\n",
       "      <td>64.930801</td>\n",
       "    </tr>\n",
       "    <tr>\n",
       "      <th>12</th>\n",
       "      <td>15</td>\n",
       "      <td>0.039052</td>\n",
       "      <td>0.089617</td>\n",
       "      <td>0.046065</td>\n",
       "      <td>21.237303</td>\n",
       "    </tr>\n",
       "    <tr>\n",
       "      <th>9</th>\n",
       "      <td>6</td>\n",
       "      <td>0.039044</td>\n",
       "      <td>0.097117</td>\n",
       "      <td>0.052476</td>\n",
       "      <td>36.334550</td>\n",
       "    </tr>\n",
       "    <tr>\n",
       "      <th>10</th>\n",
       "      <td>4</td>\n",
       "      <td>0.038910</td>\n",
       "      <td>0.093733</td>\n",
       "      <td>0.054215</td>\n",
       "      <td>45.541359</td>\n",
       "    </tr>\n",
       "  </tbody>\n",
       "</table>\n",
       "</div>"
      ],
      "text/plain": [
       "    n_clusters  silhouette_score_euclidean  silhouette_score_correlation  \\\n",
       "13           2                    0.096876                      0.097234   \n",
       "12          15                    0.039052                      0.089617   \n",
       "9            6                    0.039044                      0.097117   \n",
       "10           4                    0.038910                      0.093733   \n",
       "\n",
       "    silhouette_score_manhattan  calinski_harabasz_score  \n",
       "13                    0.102570                64.930801  \n",
       "12                    0.046065                21.237303  \n",
       "9                     0.052476                36.334550  \n",
       "10                    0.054215                45.541359  "
      ]
     },
     "execution_count": 5,
     "metadata": {},
     "output_type": "execute_result"
    }
   ],
   "source": [
    "results_grid['Hierarch'].sort_values('silhouette_score_euclidean', axis=0, ascending=False).head(4)"
   ]
  },
  {
   "cell_type": "code",
   "execution_count": 6,
   "id": "44d246f9",
   "metadata": {
    "scrolled": true
   },
   "outputs": [
    {
     "data": {
      "text/html": [
       "<div>\n",
       "<style scoped>\n",
       "    .dataframe tbody tr th:only-of-type {\n",
       "        vertical-align: middle;\n",
       "    }\n",
       "\n",
       "    .dataframe tbody tr th {\n",
       "        vertical-align: top;\n",
       "    }\n",
       "\n",
       "    .dataframe thead th {\n",
       "        text-align: right;\n",
       "    }\n",
       "</style>\n",
       "<table border=\"1\" class=\"dataframe\">\n",
       "  <thead>\n",
       "    <tr style=\"text-align: right;\">\n",
       "      <th></th>\n",
       "      <th>n_clusters</th>\n",
       "      <th>silhouette_score_euclidean</th>\n",
       "      <th>silhouette_score_correlation</th>\n",
       "      <th>silhouette_score_manhattan</th>\n",
       "      <th>calinski_harabasz_score</th>\n",
       "    </tr>\n",
       "  </thead>\n",
       "  <tbody>\n",
       "    <tr>\n",
       "      <th>5</th>\n",
       "      <td>11</td>\n",
       "      <td>0.037080</td>\n",
       "      <td>0.108922</td>\n",
       "      <td>0.047856</td>\n",
       "      <td>24.547031</td>\n",
       "    </tr>\n",
       "    <tr>\n",
       "      <th>6</th>\n",
       "      <td>10</td>\n",
       "      <td>0.034417</td>\n",
       "      <td>0.105647</td>\n",
       "      <td>0.044849</td>\n",
       "      <td>26.079604</td>\n",
       "    </tr>\n",
       "    <tr>\n",
       "      <th>2</th>\n",
       "      <td>9</td>\n",
       "      <td>0.031330</td>\n",
       "      <td>0.104123</td>\n",
       "      <td>0.041963</td>\n",
       "      <td>27.852091</td>\n",
       "    </tr>\n",
       "    <tr>\n",
       "      <th>1</th>\n",
       "      <td>7</td>\n",
       "      <td>0.037010</td>\n",
       "      <td>0.100873</td>\n",
       "      <td>0.048823</td>\n",
       "      <td>32.871596</td>\n",
       "    </tr>\n",
       "  </tbody>\n",
       "</table>\n",
       "</div>"
      ],
      "text/plain": [
       "   n_clusters  silhouette_score_euclidean  silhouette_score_correlation  \\\n",
       "5          11                    0.037080                      0.108922   \n",
       "6          10                    0.034417                      0.105647   \n",
       "2           9                    0.031330                      0.104123   \n",
       "1           7                    0.037010                      0.100873   \n",
       "\n",
       "   silhouette_score_manhattan  calinski_harabasz_score  \n",
       "5                    0.047856                24.547031  \n",
       "6                    0.044849                26.079604  \n",
       "2                    0.041963                27.852091  \n",
       "1                    0.048823                32.871596  "
      ]
     },
     "execution_count": 6,
     "metadata": {},
     "output_type": "execute_result"
    }
   ],
   "source": [
    "results_grid['Hierarch'].sort_values('silhouette_score_correlation', axis=0, ascending=False).head(4)"
   ]
  },
  {
   "cell_type": "code",
   "execution_count": 7,
   "id": "60a64a60",
   "metadata": {},
   "outputs": [
    {
     "data": {
      "text/html": [
       "<div>\n",
       "<style scoped>\n",
       "    .dataframe tbody tr th:only-of-type {\n",
       "        vertical-align: middle;\n",
       "    }\n",
       "\n",
       "    .dataframe tbody tr th {\n",
       "        vertical-align: top;\n",
       "    }\n",
       "\n",
       "    .dataframe thead th {\n",
       "        text-align: right;\n",
       "    }\n",
       "</style>\n",
       "<table border=\"1\" class=\"dataframe\">\n",
       "  <thead>\n",
       "    <tr style=\"text-align: right;\">\n",
       "      <th></th>\n",
       "      <th>n_clusters</th>\n",
       "      <th>silhouette_score_euclidean</th>\n",
       "      <th>silhouette_score_correlation</th>\n",
       "      <th>silhouette_score_manhattan</th>\n",
       "      <th>calinski_harabasz_score</th>\n",
       "    </tr>\n",
       "  </thead>\n",
       "  <tbody>\n",
       "    <tr>\n",
       "      <th>13</th>\n",
       "      <td>2</td>\n",
       "      <td>0.096876</td>\n",
       "      <td>0.097234</td>\n",
       "      <td>0.102570</td>\n",
       "      <td>64.930801</td>\n",
       "    </tr>\n",
       "    <tr>\n",
       "      <th>10</th>\n",
       "      <td>4</td>\n",
       "      <td>0.038910</td>\n",
       "      <td>0.093733</td>\n",
       "      <td>0.054215</td>\n",
       "      <td>45.541359</td>\n",
       "    </tr>\n",
       "    <tr>\n",
       "      <th>9</th>\n",
       "      <td>6</td>\n",
       "      <td>0.039044</td>\n",
       "      <td>0.097117</td>\n",
       "      <td>0.052476</td>\n",
       "      <td>36.334550</td>\n",
       "    </tr>\n",
       "    <tr>\n",
       "      <th>3</th>\n",
       "      <td>5</td>\n",
       "      <td>0.035483</td>\n",
       "      <td>0.091507</td>\n",
       "      <td>0.049485</td>\n",
       "      <td>39.454022</td>\n",
       "    </tr>\n",
       "  </tbody>\n",
       "</table>\n",
       "</div>"
      ],
      "text/plain": [
       "    n_clusters  silhouette_score_euclidean  silhouette_score_correlation  \\\n",
       "13           2                    0.096876                      0.097234   \n",
       "10           4                    0.038910                      0.093733   \n",
       "9            6                    0.039044                      0.097117   \n",
       "3            5                    0.035483                      0.091507   \n",
       "\n",
       "    silhouette_score_manhattan  calinski_harabasz_score  \n",
       "13                    0.102570                64.930801  \n",
       "10                    0.054215                45.541359  \n",
       "9                     0.052476                36.334550  \n",
       "3                     0.049485                39.454022  "
      ]
     },
     "execution_count": 7,
     "metadata": {},
     "output_type": "execute_result"
    }
   ],
   "source": [
    "results_grid['Hierarch'].sort_values('silhouette_score_manhattan', axis=0, ascending=False).head(4)"
   ]
  },
  {
   "cell_type": "code",
   "execution_count": 8,
   "id": "623528a0",
   "metadata": {
    "scrolled": true
   },
   "outputs": [
    {
     "data": {
      "text/html": [
       "<div>\n",
       "<style scoped>\n",
       "    .dataframe tbody tr th:only-of-type {\n",
       "        vertical-align: middle;\n",
       "    }\n",
       "\n",
       "    .dataframe tbody tr th {\n",
       "        vertical-align: top;\n",
       "    }\n",
       "\n",
       "    .dataframe thead th {\n",
       "        text-align: right;\n",
       "    }\n",
       "</style>\n",
       "<table border=\"1\" class=\"dataframe\">\n",
       "  <thead>\n",
       "    <tr style=\"text-align: right;\">\n",
       "      <th></th>\n",
       "      <th>n_clusters</th>\n",
       "      <th>silhouette_score_euclidean</th>\n",
       "      <th>silhouette_score_correlation</th>\n",
       "      <th>silhouette_score_manhattan</th>\n",
       "      <th>calinski_harabasz_score</th>\n",
       "    </tr>\n",
       "  </thead>\n",
       "  <tbody>\n",
       "    <tr>\n",
       "      <th>13</th>\n",
       "      <td>2</td>\n",
       "      <td>0.096876</td>\n",
       "      <td>0.097234</td>\n",
       "      <td>0.102570</td>\n",
       "      <td>64.930801</td>\n",
       "    </tr>\n",
       "    <tr>\n",
       "      <th>8</th>\n",
       "      <td>3</td>\n",
       "      <td>0.025232</td>\n",
       "      <td>0.088729</td>\n",
       "      <td>0.038095</td>\n",
       "      <td>47.205457</td>\n",
       "    </tr>\n",
       "    <tr>\n",
       "      <th>10</th>\n",
       "      <td>4</td>\n",
       "      <td>0.038910</td>\n",
       "      <td>0.093733</td>\n",
       "      <td>0.054215</td>\n",
       "      <td>45.541359</td>\n",
       "    </tr>\n",
       "    <tr>\n",
       "      <th>3</th>\n",
       "      <td>5</td>\n",
       "      <td>0.035483</td>\n",
       "      <td>0.091507</td>\n",
       "      <td>0.049485</td>\n",
       "      <td>39.454022</td>\n",
       "    </tr>\n",
       "  </tbody>\n",
       "</table>\n",
       "</div>"
      ],
      "text/plain": [
       "    n_clusters  silhouette_score_euclidean  silhouette_score_correlation  \\\n",
       "13           2                    0.096876                      0.097234   \n",
       "8            3                    0.025232                      0.088729   \n",
       "10           4                    0.038910                      0.093733   \n",
       "3            5                    0.035483                      0.091507   \n",
       "\n",
       "    silhouette_score_manhattan  calinski_harabasz_score  \n",
       "13                    0.102570                64.930801  \n",
       "8                     0.038095                47.205457  \n",
       "10                    0.054215                45.541359  \n",
       "3                     0.049485                39.454022  "
      ]
     },
     "execution_count": 8,
     "metadata": {},
     "output_type": "execute_result"
    }
   ],
   "source": [
    "results_grid['Hierarch'].sort_values('calinski_harabasz_score', axis=0, ascending=False).head(4)"
   ]
  },
  {
   "cell_type": "markdown",
   "id": "f4f9d286",
   "metadata": {},
   "source": [
    "## K-means"
   ]
  },
  {
   "cell_type": "code",
   "execution_count": 9,
   "id": "ac097030",
   "metadata": {
    "scrolled": false
   },
   "outputs": [
    {
     "data": {
      "text/html": [
       "<div>\n",
       "<style scoped>\n",
       "    .dataframe tbody tr th:only-of-type {\n",
       "        vertical-align: middle;\n",
       "    }\n",
       "\n",
       "    .dataframe tbody tr th {\n",
       "        vertical-align: top;\n",
       "    }\n",
       "\n",
       "    .dataframe thead th {\n",
       "        text-align: right;\n",
       "    }\n",
       "</style>\n",
       "<table border=\"1\" class=\"dataframe\">\n",
       "  <thead>\n",
       "    <tr style=\"text-align: right;\">\n",
       "      <th></th>\n",
       "      <th>silhouette_score_euclidean</th>\n",
       "      <th>silhouette_score_correlation</th>\n",
       "      <th>silhouette_score_manhattan</th>\n",
       "      <th>calinski_harabasz_score</th>\n",
       "      <th>Fit_Time</th>\n",
       "      <th>n_clusters</th>\n",
       "      <th>batch_size</th>\n",
       "    </tr>\n",
       "  </thead>\n",
       "  <tbody>\n",
       "    <tr>\n",
       "      <th>2</th>\n",
       "      <td>0.104322</td>\n",
       "      <td>0.099542</td>\n",
       "      <td>NaN</td>\n",
       "      <td>66.925385</td>\n",
       "      <td>3.742997</td>\n",
       "      <td>2</td>\n",
       "      <td>512</td>\n",
       "    </tr>\n",
       "    <tr>\n",
       "      <th>3</th>\n",
       "      <td>0.104322</td>\n",
       "      <td>0.099542</td>\n",
       "      <td>0.111301</td>\n",
       "      <td>66.925385</td>\n",
       "      <td>6.348439</td>\n",
       "      <td>2</td>\n",
       "      <td>1024</td>\n",
       "    </tr>\n",
       "    <tr>\n",
       "      <th>1</th>\n",
       "      <td>0.104322</td>\n",
       "      <td>0.099542</td>\n",
       "      <td>0.111301</td>\n",
       "      <td>66.925385</td>\n",
       "      <td>2.610711</td>\n",
       "      <td>2</td>\n",
       "      <td>256</td>\n",
       "    </tr>\n",
       "    <tr>\n",
       "      <th>0</th>\n",
       "      <td>0.102786</td>\n",
       "      <td>0.100446</td>\n",
       "      <td>0.109186</td>\n",
       "      <td>67.610557</td>\n",
       "      <td>2.326726</td>\n",
       "      <td>2</td>\n",
       "      <td>128</td>\n",
       "    </tr>\n",
       "  </tbody>\n",
       "</table>\n",
       "</div>"
      ],
      "text/plain": [
       "   silhouette_score_euclidean  silhouette_score_correlation  \\\n",
       "2                    0.104322                      0.099542   \n",
       "3                    0.104322                      0.099542   \n",
       "1                    0.104322                      0.099542   \n",
       "0                    0.102786                      0.100446   \n",
       "\n",
       "   silhouette_score_manhattan  calinski_harabasz_score  Fit_Time  n_clusters  \\\n",
       "2                         NaN                66.925385  3.742997           2   \n",
       "3                    0.111301                66.925385  6.348439           2   \n",
       "1                    0.111301                66.925385  2.610711           2   \n",
       "0                    0.109186                67.610557  2.326726           2   \n",
       "\n",
       "   batch_size  \n",
       "2         512  \n",
       "3        1024  \n",
       "1         256  \n",
       "0         128  "
      ]
     },
     "execution_count": 9,
     "metadata": {},
     "output_type": "execute_result"
    }
   ],
   "source": [
    "results_grid['kMeans'].sort_values('silhouette_score_euclidean', axis=0, ascending=False).head(4)"
   ]
  },
  {
   "cell_type": "code",
   "execution_count": 10,
   "id": "ea1f2bf3",
   "metadata": {
    "scrolled": true
   },
   "outputs": [
    {
     "data": {
      "text/html": [
       "<div>\n",
       "<style scoped>\n",
       "    .dataframe tbody tr th:only-of-type {\n",
       "        vertical-align: middle;\n",
       "    }\n",
       "\n",
       "    .dataframe tbody tr th {\n",
       "        vertical-align: top;\n",
       "    }\n",
       "\n",
       "    .dataframe thead th {\n",
       "        text-align: right;\n",
       "    }\n",
       "</style>\n",
       "<table border=\"1\" class=\"dataframe\">\n",
       "  <thead>\n",
       "    <tr style=\"text-align: right;\">\n",
       "      <th></th>\n",
       "      <th>silhouette_score_euclidean</th>\n",
       "      <th>silhouette_score_correlation</th>\n",
       "      <th>silhouette_score_manhattan</th>\n",
       "      <th>calinski_harabasz_score</th>\n",
       "      <th>Fit_Time</th>\n",
       "      <th>n_clusters</th>\n",
       "      <th>batch_size</th>\n",
       "    </tr>\n",
       "  </thead>\n",
       "  <tbody>\n",
       "    <tr>\n",
       "      <th>9</th>\n",
       "      <td>0.049518</td>\n",
       "      <td>0.107492</td>\n",
       "      <td>0.066756</td>\n",
       "      <td>49.714021</td>\n",
       "      <td>3.091774</td>\n",
       "      <td>4</td>\n",
       "      <td>256</td>\n",
       "    </tr>\n",
       "    <tr>\n",
       "      <th>11</th>\n",
       "      <td>0.050610</td>\n",
       "      <td>0.106588</td>\n",
       "      <td>0.067730</td>\n",
       "      <td>49.595017</td>\n",
       "      <td>6.594293</td>\n",
       "      <td>4</td>\n",
       "      <td>1024</td>\n",
       "    </tr>\n",
       "    <tr>\n",
       "      <th>10</th>\n",
       "      <td>0.050594</td>\n",
       "      <td>0.106517</td>\n",
       "      <td>0.067694</td>\n",
       "      <td>49.571423</td>\n",
       "      <td>4.164761</td>\n",
       "      <td>4</td>\n",
       "      <td>512</td>\n",
       "    </tr>\n",
       "    <tr>\n",
       "      <th>4</th>\n",
       "      <td>0.037555</td>\n",
       "      <td>0.101401</td>\n",
       "      <td>0.051724</td>\n",
       "      <td>52.356986</td>\n",
       "      <td>1.515158</td>\n",
       "      <td>3</td>\n",
       "      <td>128</td>\n",
       "    </tr>\n",
       "  </tbody>\n",
       "</table>\n",
       "</div>"
      ],
      "text/plain": [
       "    silhouette_score_euclidean  silhouette_score_correlation  \\\n",
       "9                     0.049518                      0.107492   \n",
       "11                    0.050610                      0.106588   \n",
       "10                    0.050594                      0.106517   \n",
       "4                     0.037555                      0.101401   \n",
       "\n",
       "    silhouette_score_manhattan  calinski_harabasz_score  Fit_Time  n_clusters  \\\n",
       "9                     0.066756                49.714021  3.091774           4   \n",
       "11                    0.067730                49.595017  6.594293           4   \n",
       "10                    0.067694                49.571423  4.164761           4   \n",
       "4                     0.051724                52.356986  1.515158           3   \n",
       "\n",
       "    batch_size  \n",
       "9          256  \n",
       "11        1024  \n",
       "10         512  \n",
       "4          128  "
      ]
     },
     "execution_count": 10,
     "metadata": {},
     "output_type": "execute_result"
    }
   ],
   "source": [
    "results_grid['kMeans'].sort_values('silhouette_score_correlation', axis=0, ascending=False).head(4)"
   ]
  },
  {
   "cell_type": "code",
   "execution_count": 11,
   "id": "b2b5a307",
   "metadata": {},
   "outputs": [
    {
     "data": {
      "text/html": [
       "<div>\n",
       "<style scoped>\n",
       "    .dataframe tbody tr th:only-of-type {\n",
       "        vertical-align: middle;\n",
       "    }\n",
       "\n",
       "    .dataframe tbody tr th {\n",
       "        vertical-align: top;\n",
       "    }\n",
       "\n",
       "    .dataframe thead th {\n",
       "        text-align: right;\n",
       "    }\n",
       "</style>\n",
       "<table border=\"1\" class=\"dataframe\">\n",
       "  <thead>\n",
       "    <tr style=\"text-align: right;\">\n",
       "      <th></th>\n",
       "      <th>silhouette_score_euclidean</th>\n",
       "      <th>silhouette_score_correlation</th>\n",
       "      <th>silhouette_score_manhattan</th>\n",
       "      <th>calinski_harabasz_score</th>\n",
       "      <th>Fit_Time</th>\n",
       "      <th>n_clusters</th>\n",
       "      <th>batch_size</th>\n",
       "    </tr>\n",
       "  </thead>\n",
       "  <tbody>\n",
       "    <tr>\n",
       "      <th>3</th>\n",
       "      <td>0.104322</td>\n",
       "      <td>0.099542</td>\n",
       "      <td>0.111301</td>\n",
       "      <td>66.925385</td>\n",
       "      <td>6.348439</td>\n",
       "      <td>2</td>\n",
       "      <td>1024</td>\n",
       "    </tr>\n",
       "    <tr>\n",
       "      <th>1</th>\n",
       "      <td>0.104322</td>\n",
       "      <td>0.099542</td>\n",
       "      <td>0.111301</td>\n",
       "      <td>66.925385</td>\n",
       "      <td>2.610711</td>\n",
       "      <td>2</td>\n",
       "      <td>256</td>\n",
       "    </tr>\n",
       "    <tr>\n",
       "      <th>0</th>\n",
       "      <td>0.102786</td>\n",
       "      <td>0.100446</td>\n",
       "      <td>0.109186</td>\n",
       "      <td>67.610557</td>\n",
       "      <td>2.326726</td>\n",
       "      <td>2</td>\n",
       "      <td>128</td>\n",
       "    </tr>\n",
       "    <tr>\n",
       "      <th>11</th>\n",
       "      <td>0.050610</td>\n",
       "      <td>0.106588</td>\n",
       "      <td>0.067730</td>\n",
       "      <td>49.595017</td>\n",
       "      <td>6.594293</td>\n",
       "      <td>4</td>\n",
       "      <td>1024</td>\n",
       "    </tr>\n",
       "  </tbody>\n",
       "</table>\n",
       "</div>"
      ],
      "text/plain": [
       "    silhouette_score_euclidean  silhouette_score_correlation  \\\n",
       "3                     0.104322                      0.099542   \n",
       "1                     0.104322                      0.099542   \n",
       "0                     0.102786                      0.100446   \n",
       "11                    0.050610                      0.106588   \n",
       "\n",
       "    silhouette_score_manhattan  calinski_harabasz_score  Fit_Time  n_clusters  \\\n",
       "3                     0.111301                66.925385  6.348439           2   \n",
       "1                     0.111301                66.925385  2.610711           2   \n",
       "0                     0.109186                67.610557  2.326726           2   \n",
       "11                    0.067730                49.595017  6.594293           4   \n",
       "\n",
       "    batch_size  \n",
       "3         1024  \n",
       "1          256  \n",
       "0          128  \n",
       "11        1024  "
      ]
     },
     "execution_count": 11,
     "metadata": {},
     "output_type": "execute_result"
    }
   ],
   "source": [
    "results_grid['kMeans'].sort_values('silhouette_score_manhattan', axis=0, ascending=False).head(4)"
   ]
  },
  {
   "cell_type": "code",
   "execution_count": 12,
   "id": "a4460b8b",
   "metadata": {
    "scrolled": true
   },
   "outputs": [
    {
     "data": {
      "text/html": [
       "<div>\n",
       "<style scoped>\n",
       "    .dataframe tbody tr th:only-of-type {\n",
       "        vertical-align: middle;\n",
       "    }\n",
       "\n",
       "    .dataframe tbody tr th {\n",
       "        vertical-align: top;\n",
       "    }\n",
       "\n",
       "    .dataframe thead th {\n",
       "        text-align: right;\n",
       "    }\n",
       "</style>\n",
       "<table border=\"1\" class=\"dataframe\">\n",
       "  <thead>\n",
       "    <tr style=\"text-align: right;\">\n",
       "      <th></th>\n",
       "      <th>silhouette_score_euclidean</th>\n",
       "      <th>silhouette_score_correlation</th>\n",
       "      <th>silhouette_score_manhattan</th>\n",
       "      <th>calinski_harabasz_score</th>\n",
       "      <th>Fit_Time</th>\n",
       "      <th>n_clusters</th>\n",
       "      <th>batch_size</th>\n",
       "    </tr>\n",
       "  </thead>\n",
       "  <tbody>\n",
       "    <tr>\n",
       "      <th>0</th>\n",
       "      <td>0.102786</td>\n",
       "      <td>0.100446</td>\n",
       "      <td>0.109186</td>\n",
       "      <td>67.610557</td>\n",
       "      <td>2.326726</td>\n",
       "      <td>2</td>\n",
       "      <td>128</td>\n",
       "    </tr>\n",
       "    <tr>\n",
       "      <th>2</th>\n",
       "      <td>0.104322</td>\n",
       "      <td>0.099542</td>\n",
       "      <td>NaN</td>\n",
       "      <td>66.925385</td>\n",
       "      <td>3.742997</td>\n",
       "      <td>2</td>\n",
       "      <td>512</td>\n",
       "    </tr>\n",
       "    <tr>\n",
       "      <th>3</th>\n",
       "      <td>0.104322</td>\n",
       "      <td>0.099542</td>\n",
       "      <td>0.111301</td>\n",
       "      <td>66.925385</td>\n",
       "      <td>6.348439</td>\n",
       "      <td>2</td>\n",
       "      <td>1024</td>\n",
       "    </tr>\n",
       "    <tr>\n",
       "      <th>1</th>\n",
       "      <td>0.104322</td>\n",
       "      <td>0.099542</td>\n",
       "      <td>0.111301</td>\n",
       "      <td>66.925385</td>\n",
       "      <td>2.610711</td>\n",
       "      <td>2</td>\n",
       "      <td>256</td>\n",
       "    </tr>\n",
       "  </tbody>\n",
       "</table>\n",
       "</div>"
      ],
      "text/plain": [
       "   silhouette_score_euclidean  silhouette_score_correlation  \\\n",
       "0                    0.102786                      0.100446   \n",
       "2                    0.104322                      0.099542   \n",
       "3                    0.104322                      0.099542   \n",
       "1                    0.104322                      0.099542   \n",
       "\n",
       "   silhouette_score_manhattan  calinski_harabasz_score  Fit_Time  n_clusters  \\\n",
       "0                    0.109186                67.610557  2.326726           2   \n",
       "2                         NaN                66.925385  3.742997           2   \n",
       "3                    0.111301                66.925385  6.348439           2   \n",
       "1                    0.111301                66.925385  2.610711           2   \n",
       "\n",
       "   batch_size  \n",
       "0         128  \n",
       "2         512  \n",
       "3        1024  \n",
       "1         256  "
      ]
     },
     "execution_count": 12,
     "metadata": {},
     "output_type": "execute_result"
    }
   ],
   "source": [
    "results_grid['kMeans'].sort_values('calinski_harabasz_score', axis=0, ascending=False).head(4)"
   ]
  },
  {
   "cell_type": "markdown",
   "id": "bb6f36ec",
   "metadata": {},
   "source": [
    "## UMAP + DBSCAN"
   ]
  },
  {
   "cell_type": "code",
   "execution_count": 13,
   "id": "e4a5daab",
   "metadata": {
    "scrolled": false
   },
   "outputs": [],
   "source": [
    "with open('/home/g0017139/UMCG_Thesis/Working_Code/Results/TSet1/dbscan.pkl', 'rb') as f:\n",
    "        results_grid['dbscan'] = pickle.load(f)"
   ]
  },
  {
   "cell_type": "code",
   "execution_count": 14,
   "id": "cfef1791",
   "metadata": {
    "scrolled": false
   },
   "outputs": [
    {
     "data": {
      "text/html": [
       "<div>\n",
       "<style scoped>\n",
       "    .dataframe tbody tr th:only-of-type {\n",
       "        vertical-align: middle;\n",
       "    }\n",
       "\n",
       "    .dataframe tbody tr th {\n",
       "        vertical-align: top;\n",
       "    }\n",
       "\n",
       "    .dataframe thead th {\n",
       "        text-align: right;\n",
       "    }\n",
       "</style>\n",
       "<table border=\"1\" class=\"dataframe\">\n",
       "  <thead>\n",
       "    <tr style=\"text-align: right;\">\n",
       "      <th></th>\n",
       "      <th>silhouette_score_euclidean</th>\n",
       "      <th>silhouette_score_correlation</th>\n",
       "      <th>silhouette_score_manhattan</th>\n",
       "      <th>calinski_harabasz_score</th>\n",
       "      <th>Fit_Time</th>\n",
       "      <th>DimReduction__n_neighbors</th>\n",
       "      <th>DimReduction__min_dist</th>\n",
       "      <th>DimReduction__n_components</th>\n",
       "      <th>Clustering__min_cluster_size</th>\n",
       "      <th>Clustering__min_samples</th>\n",
       "      <th>Clustering__cluster_selection_epsilon</th>\n",
       "      <th>Clustering__cluster_selection_method</th>\n",
       "      <th>n_clusters</th>\n",
       "    </tr>\n",
       "  </thead>\n",
       "  <tbody>\n",
       "    <tr>\n",
       "      <th>146</th>\n",
       "      <td>0.104322</td>\n",
       "      <td>0.099542</td>\n",
       "      <td>0.111301</td>\n",
       "      <td>66.925385</td>\n",
       "      <td>10.296356</td>\n",
       "      <td>25</td>\n",
       "      <td>0.1</td>\n",
       "      <td>2</td>\n",
       "      <td>100</td>\n",
       "      <td>25</td>\n",
       "      <td>0.5</td>\n",
       "      <td>eom</td>\n",
       "      <td>2</td>\n",
       "    </tr>\n",
       "    <tr>\n",
       "      <th>149</th>\n",
       "      <td>0.104322</td>\n",
       "      <td>0.099542</td>\n",
       "      <td>0.111301</td>\n",
       "      <td>66.925385</td>\n",
       "      <td>8.794039</td>\n",
       "      <td>25</td>\n",
       "      <td>0.1</td>\n",
       "      <td>2</td>\n",
       "      <td>100</td>\n",
       "      <td>25</td>\n",
       "      <td>1.0</td>\n",
       "      <td>leaf</td>\n",
       "      <td>2</td>\n",
       "    </tr>\n",
       "    <tr>\n",
       "      <th>98</th>\n",
       "      <td>0.104322</td>\n",
       "      <td>0.099542</td>\n",
       "      <td>0.111301</td>\n",
       "      <td>66.925385</td>\n",
       "      <td>9.190575</td>\n",
       "      <td>25</td>\n",
       "      <td>0.1</td>\n",
       "      <td>10</td>\n",
       "      <td>100</td>\n",
       "      <td>50</td>\n",
       "      <td>0.5</td>\n",
       "      <td>eom</td>\n",
       "      <td>2</td>\n",
       "    </tr>\n",
       "    <tr>\n",
       "      <th>90</th>\n",
       "      <td>0.104322</td>\n",
       "      <td>0.099542</td>\n",
       "      <td>0.111301</td>\n",
       "      <td>66.925385</td>\n",
       "      <td>9.674362</td>\n",
       "      <td>25</td>\n",
       "      <td>0.1</td>\n",
       "      <td>10</td>\n",
       "      <td>100</td>\n",
       "      <td>25</td>\n",
       "      <td>0.1</td>\n",
       "      <td>eom</td>\n",
       "      <td>2</td>\n",
       "    </tr>\n",
       "  </tbody>\n",
       "</table>\n",
       "</div>"
      ],
      "text/plain": [
       "     silhouette_score_euclidean  silhouette_score_correlation  \\\n",
       "146                    0.104322                      0.099542   \n",
       "149                    0.104322                      0.099542   \n",
       "98                     0.104322                      0.099542   \n",
       "90                     0.104322                      0.099542   \n",
       "\n",
       "     silhouette_score_manhattan  calinski_harabasz_score   Fit_Time  \\\n",
       "146                    0.111301                66.925385  10.296356   \n",
       "149                    0.111301                66.925385   8.794039   \n",
       "98                     0.111301                66.925385   9.190575   \n",
       "90                     0.111301                66.925385   9.674362   \n",
       "\n",
       "     DimReduction__n_neighbors  DimReduction__min_dist  \\\n",
       "146                         25                     0.1   \n",
       "149                         25                     0.1   \n",
       "98                          25                     0.1   \n",
       "90                          25                     0.1   \n",
       "\n",
       "     DimReduction__n_components  Clustering__min_cluster_size  \\\n",
       "146                           2                           100   \n",
       "149                           2                           100   \n",
       "98                           10                           100   \n",
       "90                           10                           100   \n",
       "\n",
       "     Clustering__min_samples  Clustering__cluster_selection_epsilon  \\\n",
       "146                       25                                    0.5   \n",
       "149                       25                                    1.0   \n",
       "98                        50                                    0.5   \n",
       "90                        25                                    0.1   \n",
       "\n",
       "    Clustering__cluster_selection_method  n_clusters  \n",
       "146                                  eom           2  \n",
       "149                                 leaf           2  \n",
       "98                                   eom           2  \n",
       "90                                   eom           2  "
      ]
     },
     "execution_count": 14,
     "metadata": {},
     "output_type": "execute_result"
    }
   ],
   "source": [
    "results_grid['dbscan'].sort_values('silhouette_score_euclidean', axis=0, ascending=False).head(4)"
   ]
  },
  {
   "cell_type": "code",
   "execution_count": 15,
   "id": "27783200",
   "metadata": {
    "scrolled": true
   },
   "outputs": [
    {
     "data": {
      "text/html": [
       "<div>\n",
       "<style scoped>\n",
       "    .dataframe tbody tr th:only-of-type {\n",
       "        vertical-align: middle;\n",
       "    }\n",
       "\n",
       "    .dataframe tbody tr th {\n",
       "        vertical-align: top;\n",
       "    }\n",
       "\n",
       "    .dataframe thead th {\n",
       "        text-align: right;\n",
       "    }\n",
       "</style>\n",
       "<table border=\"1\" class=\"dataframe\">\n",
       "  <thead>\n",
       "    <tr style=\"text-align: right;\">\n",
       "      <th></th>\n",
       "      <th>silhouette_score_euclidean</th>\n",
       "      <th>silhouette_score_correlation</th>\n",
       "      <th>silhouette_score_manhattan</th>\n",
       "      <th>calinski_harabasz_score</th>\n",
       "      <th>Fit_Time</th>\n",
       "      <th>DimReduction__n_neighbors</th>\n",
       "      <th>DimReduction__min_dist</th>\n",
       "      <th>DimReduction__n_components</th>\n",
       "      <th>Clustering__min_cluster_size</th>\n",
       "      <th>Clustering__min_samples</th>\n",
       "      <th>Clustering__cluster_selection_epsilon</th>\n",
       "      <th>Clustering__cluster_selection_method</th>\n",
       "      <th>n_clusters</th>\n",
       "    </tr>\n",
       "  </thead>\n",
       "  <tbody>\n",
       "    <tr>\n",
       "      <th>144</th>\n",
       "      <td>0.104322</td>\n",
       "      <td>0.099542</td>\n",
       "      <td>0.111301</td>\n",
       "      <td>66.925385</td>\n",
       "      <td>8.580284</td>\n",
       "      <td>25</td>\n",
       "      <td>0.1</td>\n",
       "      <td>2</td>\n",
       "      <td>100</td>\n",
       "      <td>25</td>\n",
       "      <td>0.1</td>\n",
       "      <td>eom</td>\n",
       "      <td>2</td>\n",
       "    </tr>\n",
       "    <tr>\n",
       "      <th>160</th>\n",
       "      <td>0.104322</td>\n",
       "      <td>0.099542</td>\n",
       "      <td>0.111301</td>\n",
       "      <td>66.925385</td>\n",
       "      <td>8.494964</td>\n",
       "      <td>25</td>\n",
       "      <td>0.1</td>\n",
       "      <td>2</td>\n",
       "      <td>100</td>\n",
       "      <td>100</td>\n",
       "      <td>1.0</td>\n",
       "      <td>eom</td>\n",
       "      <td>2</td>\n",
       "    </tr>\n",
       "    <tr>\n",
       "      <th>158</th>\n",
       "      <td>0.104322</td>\n",
       "      <td>0.099542</td>\n",
       "      <td>0.111301</td>\n",
       "      <td>66.925385</td>\n",
       "      <td>8.453750</td>\n",
       "      <td>25</td>\n",
       "      <td>0.1</td>\n",
       "      <td>2</td>\n",
       "      <td>100</td>\n",
       "      <td>100</td>\n",
       "      <td>0.5</td>\n",
       "      <td>eom</td>\n",
       "      <td>2</td>\n",
       "    </tr>\n",
       "    <tr>\n",
       "      <th>157</th>\n",
       "      <td>0.104322</td>\n",
       "      <td>0.099542</td>\n",
       "      <td>0.111301</td>\n",
       "      <td>66.925385</td>\n",
       "      <td>8.844681</td>\n",
       "      <td>25</td>\n",
       "      <td>0.1</td>\n",
       "      <td>2</td>\n",
       "      <td>100</td>\n",
       "      <td>100</td>\n",
       "      <td>0.1</td>\n",
       "      <td>leaf</td>\n",
       "      <td>2</td>\n",
       "    </tr>\n",
       "  </tbody>\n",
       "</table>\n",
       "</div>"
      ],
      "text/plain": [
       "     silhouette_score_euclidean  silhouette_score_correlation  \\\n",
       "144                    0.104322                      0.099542   \n",
       "160                    0.104322                      0.099542   \n",
       "158                    0.104322                      0.099542   \n",
       "157                    0.104322                      0.099542   \n",
       "\n",
       "     silhouette_score_manhattan  calinski_harabasz_score  Fit_Time  \\\n",
       "144                    0.111301                66.925385  8.580284   \n",
       "160                    0.111301                66.925385  8.494964   \n",
       "158                    0.111301                66.925385  8.453750   \n",
       "157                    0.111301                66.925385  8.844681   \n",
       "\n",
       "     DimReduction__n_neighbors  DimReduction__min_dist  \\\n",
       "144                         25                     0.1   \n",
       "160                         25                     0.1   \n",
       "158                         25                     0.1   \n",
       "157                         25                     0.1   \n",
       "\n",
       "     DimReduction__n_components  Clustering__min_cluster_size  \\\n",
       "144                           2                           100   \n",
       "160                           2                           100   \n",
       "158                           2                           100   \n",
       "157                           2                           100   \n",
       "\n",
       "     Clustering__min_samples  Clustering__cluster_selection_epsilon  \\\n",
       "144                       25                                    0.1   \n",
       "160                      100                                    1.0   \n",
       "158                      100                                    0.5   \n",
       "157                      100                                    0.1   \n",
       "\n",
       "    Clustering__cluster_selection_method  n_clusters  \n",
       "144                                  eom           2  \n",
       "160                                  eom           2  \n",
       "158                                  eom           2  \n",
       "157                                 leaf           2  "
      ]
     },
     "execution_count": 15,
     "metadata": {},
     "output_type": "execute_result"
    }
   ],
   "source": [
    "results_grid['dbscan'].sort_values('silhouette_score_correlation', axis=0, ascending=False).head(4)"
   ]
  },
  {
   "cell_type": "code",
   "execution_count": 16,
   "id": "3ad52da3",
   "metadata": {},
   "outputs": [
    {
     "data": {
      "text/html": [
       "<div>\n",
       "<style scoped>\n",
       "    .dataframe tbody tr th:only-of-type {\n",
       "        vertical-align: middle;\n",
       "    }\n",
       "\n",
       "    .dataframe tbody tr th {\n",
       "        vertical-align: top;\n",
       "    }\n",
       "\n",
       "    .dataframe thead th {\n",
       "        text-align: right;\n",
       "    }\n",
       "</style>\n",
       "<table border=\"1\" class=\"dataframe\">\n",
       "  <thead>\n",
       "    <tr style=\"text-align: right;\">\n",
       "      <th></th>\n",
       "      <th>silhouette_score_euclidean</th>\n",
       "      <th>silhouette_score_correlation</th>\n",
       "      <th>silhouette_score_manhattan</th>\n",
       "      <th>calinski_harabasz_score</th>\n",
       "      <th>Fit_Time</th>\n",
       "      <th>DimReduction__n_neighbors</th>\n",
       "      <th>DimReduction__min_dist</th>\n",
       "      <th>DimReduction__n_components</th>\n",
       "      <th>Clustering__min_cluster_size</th>\n",
       "      <th>Clustering__min_samples</th>\n",
       "      <th>Clustering__cluster_selection_epsilon</th>\n",
       "      <th>Clustering__cluster_selection_method</th>\n",
       "      <th>n_clusters</th>\n",
       "    </tr>\n",
       "  </thead>\n",
       "  <tbody>\n",
       "    <tr>\n",
       "      <th>306</th>\n",
       "      <td>0.104322</td>\n",
       "      <td>0.099542</td>\n",
       "      <td>0.111301</td>\n",
       "      <td>66.925385</td>\n",
       "      <td>8.391026</td>\n",
       "      <td>25</td>\n",
       "      <td>0.5</td>\n",
       "      <td>2</td>\n",
       "      <td>100</td>\n",
       "      <td>25</td>\n",
       "      <td>0.1</td>\n",
       "      <td>eom</td>\n",
       "      <td>2</td>\n",
       "    </tr>\n",
       "    <tr>\n",
       "      <th>150</th>\n",
       "      <td>0.104322</td>\n",
       "      <td>0.099542</td>\n",
       "      <td>0.111301</td>\n",
       "      <td>66.925385</td>\n",
       "      <td>8.451244</td>\n",
       "      <td>25</td>\n",
       "      <td>0.1</td>\n",
       "      <td>2</td>\n",
       "      <td>100</td>\n",
       "      <td>50</td>\n",
       "      <td>0.1</td>\n",
       "      <td>eom</td>\n",
       "      <td>2</td>\n",
       "    </tr>\n",
       "    <tr>\n",
       "      <th>624</th>\n",
       "      <td>0.104322</td>\n",
       "      <td>0.099542</td>\n",
       "      <td>0.111301</td>\n",
       "      <td>66.925385</td>\n",
       "      <td>9.036973</td>\n",
       "      <td>50</td>\n",
       "      <td>0.1</td>\n",
       "      <td>2</td>\n",
       "      <td>50</td>\n",
       "      <td>100</td>\n",
       "      <td>0.1</td>\n",
       "      <td>eom</td>\n",
       "      <td>2</td>\n",
       "    </tr>\n",
       "    <tr>\n",
       "      <th>68</th>\n",
       "      <td>0.104322</td>\n",
       "      <td>0.099542</td>\n",
       "      <td>0.111301</td>\n",
       "      <td>66.925385</td>\n",
       "      <td>8.537752</td>\n",
       "      <td>25</td>\n",
       "      <td>0.1</td>\n",
       "      <td>10</td>\n",
       "      <td>25</td>\n",
       "      <td>100</td>\n",
       "      <td>0.5</td>\n",
       "      <td>eom</td>\n",
       "      <td>2</td>\n",
       "    </tr>\n",
       "  </tbody>\n",
       "</table>\n",
       "</div>"
      ],
      "text/plain": [
       "     silhouette_score_euclidean  silhouette_score_correlation  \\\n",
       "306                    0.104322                      0.099542   \n",
       "150                    0.104322                      0.099542   \n",
       "624                    0.104322                      0.099542   \n",
       "68                     0.104322                      0.099542   \n",
       "\n",
       "     silhouette_score_manhattan  calinski_harabasz_score  Fit_Time  \\\n",
       "306                    0.111301                66.925385  8.391026   \n",
       "150                    0.111301                66.925385  8.451244   \n",
       "624                    0.111301                66.925385  9.036973   \n",
       "68                     0.111301                66.925385  8.537752   \n",
       "\n",
       "     DimReduction__n_neighbors  DimReduction__min_dist  \\\n",
       "306                         25                     0.5   \n",
       "150                         25                     0.1   \n",
       "624                         50                     0.1   \n",
       "68                          25                     0.1   \n",
       "\n",
       "     DimReduction__n_components  Clustering__min_cluster_size  \\\n",
       "306                           2                           100   \n",
       "150                           2                           100   \n",
       "624                           2                            50   \n",
       "68                           10                            25   \n",
       "\n",
       "     Clustering__min_samples  Clustering__cluster_selection_epsilon  \\\n",
       "306                       25                                    0.1   \n",
       "150                       50                                    0.1   \n",
       "624                      100                                    0.1   \n",
       "68                       100                                    0.5   \n",
       "\n",
       "    Clustering__cluster_selection_method  n_clusters  \n",
       "306                                  eom           2  \n",
       "150                                  eom           2  \n",
       "624                                  eom           2  \n",
       "68                                   eom           2  "
      ]
     },
     "execution_count": 16,
     "metadata": {},
     "output_type": "execute_result"
    }
   ],
   "source": [
    "results_grid['dbscan'].sort_values('silhouette_score_manhattan', axis=0, ascending=False).head(4)"
   ]
  },
  {
   "cell_type": "code",
   "execution_count": 17,
   "id": "eea7af36",
   "metadata": {
    "scrolled": true
   },
   "outputs": [
    {
     "data": {
      "text/html": [
       "<div>\n",
       "<style scoped>\n",
       "    .dataframe tbody tr th:only-of-type {\n",
       "        vertical-align: middle;\n",
       "    }\n",
       "\n",
       "    .dataframe tbody tr th {\n",
       "        vertical-align: top;\n",
       "    }\n",
       "\n",
       "    .dataframe thead th {\n",
       "        text-align: right;\n",
       "    }\n",
       "</style>\n",
       "<table border=\"1\" class=\"dataframe\">\n",
       "  <thead>\n",
       "    <tr style=\"text-align: right;\">\n",
       "      <th></th>\n",
       "      <th>silhouette_score_euclidean</th>\n",
       "      <th>silhouette_score_correlation</th>\n",
       "      <th>silhouette_score_manhattan</th>\n",
       "      <th>calinski_harabasz_score</th>\n",
       "      <th>Fit_Time</th>\n",
       "      <th>DimReduction__n_neighbors</th>\n",
       "      <th>DimReduction__min_dist</th>\n",
       "      <th>DimReduction__n_components</th>\n",
       "      <th>Clustering__min_cluster_size</th>\n",
       "      <th>Clustering__min_samples</th>\n",
       "      <th>Clustering__cluster_selection_epsilon</th>\n",
       "      <th>Clustering__cluster_selection_method</th>\n",
       "      <th>n_clusters</th>\n",
       "    </tr>\n",
       "  </thead>\n",
       "  <tbody>\n",
       "    <tr>\n",
       "      <th>306</th>\n",
       "      <td>0.104322</td>\n",
       "      <td>0.099542</td>\n",
       "      <td>0.111301</td>\n",
       "      <td>66.925385</td>\n",
       "      <td>8.391026</td>\n",
       "      <td>25</td>\n",
       "      <td>0.5</td>\n",
       "      <td>2</td>\n",
       "      <td>100</td>\n",
       "      <td>25</td>\n",
       "      <td>0.1</td>\n",
       "      <td>eom</td>\n",
       "      <td>2</td>\n",
       "    </tr>\n",
       "    <tr>\n",
       "      <th>144</th>\n",
       "      <td>0.104322</td>\n",
       "      <td>0.099542</td>\n",
       "      <td>0.111301</td>\n",
       "      <td>66.925385</td>\n",
       "      <td>8.580284</td>\n",
       "      <td>25</td>\n",
       "      <td>0.1</td>\n",
       "      <td>2</td>\n",
       "      <td>100</td>\n",
       "      <td>25</td>\n",
       "      <td>0.1</td>\n",
       "      <td>eom</td>\n",
       "      <td>2</td>\n",
       "    </tr>\n",
       "    <tr>\n",
       "      <th>624</th>\n",
       "      <td>0.104322</td>\n",
       "      <td>0.099542</td>\n",
       "      <td>0.111301</td>\n",
       "      <td>66.925385</td>\n",
       "      <td>9.036973</td>\n",
       "      <td>50</td>\n",
       "      <td>0.1</td>\n",
       "      <td>2</td>\n",
       "      <td>50</td>\n",
       "      <td>100</td>\n",
       "      <td>0.1</td>\n",
       "      <td>eom</td>\n",
       "      <td>2</td>\n",
       "    </tr>\n",
       "    <tr>\n",
       "      <th>160</th>\n",
       "      <td>0.104322</td>\n",
       "      <td>0.099542</td>\n",
       "      <td>0.111301</td>\n",
       "      <td>66.925385</td>\n",
       "      <td>8.494964</td>\n",
       "      <td>25</td>\n",
       "      <td>0.1</td>\n",
       "      <td>2</td>\n",
       "      <td>100</td>\n",
       "      <td>100</td>\n",
       "      <td>1.0</td>\n",
       "      <td>eom</td>\n",
       "      <td>2</td>\n",
       "    </tr>\n",
       "  </tbody>\n",
       "</table>\n",
       "</div>"
      ],
      "text/plain": [
       "     silhouette_score_euclidean  silhouette_score_correlation  \\\n",
       "306                    0.104322                      0.099542   \n",
       "144                    0.104322                      0.099542   \n",
       "624                    0.104322                      0.099542   \n",
       "160                    0.104322                      0.099542   \n",
       "\n",
       "     silhouette_score_manhattan  calinski_harabasz_score  Fit_Time  \\\n",
       "306                    0.111301                66.925385  8.391026   \n",
       "144                    0.111301                66.925385  8.580284   \n",
       "624                    0.111301                66.925385  9.036973   \n",
       "160                    0.111301                66.925385  8.494964   \n",
       "\n",
       "     DimReduction__n_neighbors  DimReduction__min_dist  \\\n",
       "306                         25                     0.5   \n",
       "144                         25                     0.1   \n",
       "624                         50                     0.1   \n",
       "160                         25                     0.1   \n",
       "\n",
       "     DimReduction__n_components  Clustering__min_cluster_size  \\\n",
       "306                           2                           100   \n",
       "144                           2                           100   \n",
       "624                           2                            50   \n",
       "160                           2                           100   \n",
       "\n",
       "     Clustering__min_samples  Clustering__cluster_selection_epsilon  \\\n",
       "306                       25                                    0.1   \n",
       "144                       25                                    0.1   \n",
       "624                      100                                    0.1   \n",
       "160                      100                                    1.0   \n",
       "\n",
       "    Clustering__cluster_selection_method  n_clusters  \n",
       "306                                  eom           2  \n",
       "144                                  eom           2  \n",
       "624                                  eom           2  \n",
       "160                                  eom           2  "
      ]
     },
     "execution_count": 17,
     "metadata": {},
     "output_type": "execute_result"
    }
   ],
   "source": [
    "results_grid['dbscan'].sort_values('calinski_harabasz_score', axis=0, ascending=False).head(4)"
   ]
  },
  {
   "cell_type": "markdown",
   "id": "9dbb7933",
   "metadata": {},
   "source": [
    "## HDDC"
   ]
  },
  {
   "cell_type": "code",
   "execution_count": 18,
   "id": "68673724",
   "metadata": {
    "scrolled": false
   },
   "outputs": [
    {
     "data": {
      "text/html": [
       "<div>\n",
       "<style scoped>\n",
       "    .dataframe tbody tr th:only-of-type {\n",
       "        vertical-align: middle;\n",
       "    }\n",
       "\n",
       "    .dataframe tbody tr th {\n",
       "        vertical-align: top;\n",
       "    }\n",
       "\n",
       "    .dataframe thead th {\n",
       "        text-align: right;\n",
       "    }\n",
       "</style>\n",
       "<table border=\"1\" class=\"dataframe\">\n",
       "  <thead>\n",
       "    <tr style=\"text-align: right;\">\n",
       "      <th></th>\n",
       "      <th>n_clusters</th>\n",
       "      <th>silhouette_score_euclidean</th>\n",
       "      <th>silhouette_score_correlation</th>\n",
       "      <th>silhouette_score_manhattan</th>\n",
       "      <th>calinski_harabasz_score</th>\n",
       "    </tr>\n",
       "  </thead>\n",
       "  <tbody>\n",
       "    <tr>\n",
       "      <th>6</th>\n",
       "      <td>2</td>\n",
       "      <td>0.105046</td>\n",
       "      <td>0.100257</td>\n",
       "      <td>0.111406</td>\n",
       "      <td>67.637558</td>\n",
       "    </tr>\n",
       "    <tr>\n",
       "      <th>11</th>\n",
       "      <td>3</td>\n",
       "      <td>0.098069</td>\n",
       "      <td>0.086517</td>\n",
       "      <td>0.101042</td>\n",
       "      <td>49.970344</td>\n",
       "    </tr>\n",
       "    <tr>\n",
       "      <th>7</th>\n",
       "      <td>4</td>\n",
       "      <td>0.047396</td>\n",
       "      <td>0.108036</td>\n",
       "      <td>0.064936</td>\n",
       "      <td>49.366318</td>\n",
       "    </tr>\n",
       "    <tr>\n",
       "      <th>4</th>\n",
       "      <td>14</td>\n",
       "      <td>0.043717</td>\n",
       "      <td>0.085975</td>\n",
       "      <td>0.050136</td>\n",
       "      <td>23.464538</td>\n",
       "    </tr>\n",
       "  </tbody>\n",
       "</table>\n",
       "</div>"
      ],
      "text/plain": [
       "    n_clusters  silhouette_score_euclidean  silhouette_score_correlation  \\\n",
       "6            2                    0.105046                      0.100257   \n",
       "11           3                    0.098069                      0.086517   \n",
       "7            4                    0.047396                      0.108036   \n",
       "4           14                    0.043717                      0.085975   \n",
       "\n",
       "    silhouette_score_manhattan  calinski_harabasz_score  \n",
       "6                     0.111406                67.637558  \n",
       "11                    0.101042                49.970344  \n",
       "7                     0.064936                49.366318  \n",
       "4                     0.050136                23.464538  "
      ]
     },
     "execution_count": 18,
     "metadata": {},
     "output_type": "execute_result"
    }
   ],
   "source": [
    "results_grid['hddc'].sort_values('silhouette_score_euclidean', axis=0, ascending=False).head(4)"
   ]
  },
  {
   "cell_type": "code",
   "execution_count": 19,
   "id": "2a67edd8",
   "metadata": {
    "scrolled": true
   },
   "outputs": [
    {
     "data": {
      "text/html": [
       "<div>\n",
       "<style scoped>\n",
       "    .dataframe tbody tr th:only-of-type {\n",
       "        vertical-align: middle;\n",
       "    }\n",
       "\n",
       "    .dataframe tbody tr th {\n",
       "        vertical-align: top;\n",
       "    }\n",
       "\n",
       "    .dataframe thead th {\n",
       "        text-align: right;\n",
       "    }\n",
       "</style>\n",
       "<table border=\"1\" class=\"dataframe\">\n",
       "  <thead>\n",
       "    <tr style=\"text-align: right;\">\n",
       "      <th></th>\n",
       "      <th>n_clusters</th>\n",
       "      <th>silhouette_score_euclidean</th>\n",
       "      <th>silhouette_score_correlation</th>\n",
       "      <th>silhouette_score_manhattan</th>\n",
       "      <th>calinski_harabasz_score</th>\n",
       "    </tr>\n",
       "  </thead>\n",
       "  <tbody>\n",
       "    <tr>\n",
       "      <th>7</th>\n",
       "      <td>4</td>\n",
       "      <td>0.047396</td>\n",
       "      <td>0.108036</td>\n",
       "      <td>0.064936</td>\n",
       "      <td>49.366318</td>\n",
       "    </tr>\n",
       "    <tr>\n",
       "      <th>12</th>\n",
       "      <td>13</td>\n",
       "      <td>0.039065</td>\n",
       "      <td>0.106259</td>\n",
       "      <td>0.050703</td>\n",
       "      <td>23.317217</td>\n",
       "    </tr>\n",
       "    <tr>\n",
       "      <th>6</th>\n",
       "      <td>2</td>\n",
       "      <td>0.105046</td>\n",
       "      <td>0.100257</td>\n",
       "      <td>0.111406</td>\n",
       "      <td>67.637558</td>\n",
       "    </tr>\n",
       "    <tr>\n",
       "      <th>1</th>\n",
       "      <td>5</td>\n",
       "      <td>0.036925</td>\n",
       "      <td>0.090075</td>\n",
       "      <td>0.050502</td>\n",
       "      <td>39.756188</td>\n",
       "    </tr>\n",
       "  </tbody>\n",
       "</table>\n",
       "</div>"
      ],
      "text/plain": [
       "    n_clusters  silhouette_score_euclidean  silhouette_score_correlation  \\\n",
       "7            4                    0.047396                      0.108036   \n",
       "12          13                    0.039065                      0.106259   \n",
       "6            2                    0.105046                      0.100257   \n",
       "1            5                    0.036925                      0.090075   \n",
       "\n",
       "    silhouette_score_manhattan  calinski_harabasz_score  \n",
       "7                     0.064936                49.366318  \n",
       "12                    0.050703                23.317217  \n",
       "6                     0.111406                67.637558  \n",
       "1                     0.050502                39.756188  "
      ]
     },
     "execution_count": 19,
     "metadata": {},
     "output_type": "execute_result"
    }
   ],
   "source": [
    "results_grid['hddc'].sort_values('silhouette_score_correlation', axis=0, ascending=False).head(4)"
   ]
  },
  {
   "cell_type": "code",
   "execution_count": 20,
   "id": "d3f92273",
   "metadata": {},
   "outputs": [
    {
     "data": {
      "text/html": [
       "<div>\n",
       "<style scoped>\n",
       "    .dataframe tbody tr th:only-of-type {\n",
       "        vertical-align: middle;\n",
       "    }\n",
       "\n",
       "    .dataframe tbody tr th {\n",
       "        vertical-align: top;\n",
       "    }\n",
       "\n",
       "    .dataframe thead th {\n",
       "        text-align: right;\n",
       "    }\n",
       "</style>\n",
       "<table border=\"1\" class=\"dataframe\">\n",
       "  <thead>\n",
       "    <tr style=\"text-align: right;\">\n",
       "      <th></th>\n",
       "      <th>n_clusters</th>\n",
       "      <th>silhouette_score_euclidean</th>\n",
       "      <th>silhouette_score_correlation</th>\n",
       "      <th>silhouette_score_manhattan</th>\n",
       "      <th>calinski_harabasz_score</th>\n",
       "    </tr>\n",
       "  </thead>\n",
       "  <tbody>\n",
       "    <tr>\n",
       "      <th>6</th>\n",
       "      <td>2</td>\n",
       "      <td>0.105046</td>\n",
       "      <td>0.100257</td>\n",
       "      <td>0.111406</td>\n",
       "      <td>67.637558</td>\n",
       "    </tr>\n",
       "    <tr>\n",
       "      <th>11</th>\n",
       "      <td>3</td>\n",
       "      <td>0.098069</td>\n",
       "      <td>0.086517</td>\n",
       "      <td>0.101042</td>\n",
       "      <td>49.970344</td>\n",
       "    </tr>\n",
       "    <tr>\n",
       "      <th>7</th>\n",
       "      <td>4</td>\n",
       "      <td>0.047396</td>\n",
       "      <td>0.108036</td>\n",
       "      <td>0.064936</td>\n",
       "      <td>49.366318</td>\n",
       "    </tr>\n",
       "    <tr>\n",
       "      <th>10</th>\n",
       "      <td>7</td>\n",
       "      <td>0.043128</td>\n",
       "      <td>0.083040</td>\n",
       "      <td>0.053666</td>\n",
       "      <td>31.857787</td>\n",
       "    </tr>\n",
       "  </tbody>\n",
       "</table>\n",
       "</div>"
      ],
      "text/plain": [
       "    n_clusters  silhouette_score_euclidean  silhouette_score_correlation  \\\n",
       "6            2                    0.105046                      0.100257   \n",
       "11           3                    0.098069                      0.086517   \n",
       "7            4                    0.047396                      0.108036   \n",
       "10           7                    0.043128                      0.083040   \n",
       "\n",
       "    silhouette_score_manhattan  calinski_harabasz_score  \n",
       "6                     0.111406                67.637558  \n",
       "11                    0.101042                49.970344  \n",
       "7                     0.064936                49.366318  \n",
       "10                    0.053666                31.857787  "
      ]
     },
     "execution_count": 20,
     "metadata": {},
     "output_type": "execute_result"
    }
   ],
   "source": [
    "results_grid['hddc'].sort_values('silhouette_score_manhattan', axis=0, ascending=False).head(4)"
   ]
  },
  {
   "cell_type": "code",
   "execution_count": 21,
   "id": "41f7b957",
   "metadata": {
    "scrolled": true
   },
   "outputs": [
    {
     "data": {
      "text/html": [
       "<div>\n",
       "<style scoped>\n",
       "    .dataframe tbody tr th:only-of-type {\n",
       "        vertical-align: middle;\n",
       "    }\n",
       "\n",
       "    .dataframe tbody tr th {\n",
       "        vertical-align: top;\n",
       "    }\n",
       "\n",
       "    .dataframe thead th {\n",
       "        text-align: right;\n",
       "    }\n",
       "</style>\n",
       "<table border=\"1\" class=\"dataframe\">\n",
       "  <thead>\n",
       "    <tr style=\"text-align: right;\">\n",
       "      <th></th>\n",
       "      <th>n_clusters</th>\n",
       "      <th>silhouette_score_euclidean</th>\n",
       "      <th>silhouette_score_correlation</th>\n",
       "      <th>silhouette_score_manhattan</th>\n",
       "      <th>calinski_harabasz_score</th>\n",
       "    </tr>\n",
       "  </thead>\n",
       "  <tbody>\n",
       "    <tr>\n",
       "      <th>6</th>\n",
       "      <td>2</td>\n",
       "      <td>0.105046</td>\n",
       "      <td>0.100257</td>\n",
       "      <td>0.111406</td>\n",
       "      <td>67.637558</td>\n",
       "    </tr>\n",
       "    <tr>\n",
       "      <th>11</th>\n",
       "      <td>3</td>\n",
       "      <td>0.098069</td>\n",
       "      <td>0.086517</td>\n",
       "      <td>0.101042</td>\n",
       "      <td>49.970344</td>\n",
       "    </tr>\n",
       "    <tr>\n",
       "      <th>7</th>\n",
       "      <td>4</td>\n",
       "      <td>0.047396</td>\n",
       "      <td>0.108036</td>\n",
       "      <td>0.064936</td>\n",
       "      <td>49.366318</td>\n",
       "    </tr>\n",
       "    <tr>\n",
       "      <th>1</th>\n",
       "      <td>5</td>\n",
       "      <td>0.036925</td>\n",
       "      <td>0.090075</td>\n",
       "      <td>0.050502</td>\n",
       "      <td>39.756188</td>\n",
       "    </tr>\n",
       "  </tbody>\n",
       "</table>\n",
       "</div>"
      ],
      "text/plain": [
       "    n_clusters  silhouette_score_euclidean  silhouette_score_correlation  \\\n",
       "6            2                    0.105046                      0.100257   \n",
       "11           3                    0.098069                      0.086517   \n",
       "7            4                    0.047396                      0.108036   \n",
       "1            5                    0.036925                      0.090075   \n",
       "\n",
       "    silhouette_score_manhattan  calinski_harabasz_score  \n",
       "6                     0.111406                67.637558  \n",
       "11                    0.101042                49.970344  \n",
       "7                     0.064936                49.366318  \n",
       "1                     0.050502                39.756188  "
      ]
     },
     "execution_count": 21,
     "metadata": {},
     "output_type": "execute_result"
    }
   ],
   "source": [
    "results_grid['hddc'].sort_values('calinski_harabasz_score', axis=0, ascending=False).head(4)"
   ]
  },
  {
   "cell_type": "code",
   "execution_count": 23,
   "id": "0283b80f",
   "metadata": {
    "scrolled": true
   },
   "outputs": [
    {
     "data": {
      "text/html": [
       "<div>\n",
       "<style scoped>\n",
       "    .dataframe tbody tr th:only-of-type {\n",
       "        vertical-align: middle;\n",
       "    }\n",
       "\n",
       "    .dataframe tbody tr th {\n",
       "        vertical-align: top;\n",
       "    }\n",
       "\n",
       "    .dataframe thead th {\n",
       "        text-align: right;\n",
       "    }\n",
       "</style>\n",
       "<table border=\"1\" class=\"dataframe\">\n",
       "  <thead>\n",
       "    <tr style=\"text-align: right;\">\n",
       "      <th></th>\n",
       "      <th>model</th>\n",
       "      <th>K</th>\n",
       "      <th>threshold</th>\n",
       "      <th>LL</th>\n",
       "      <th>BIC</th>\n",
       "      <th>ICL</th>\n",
       "      <th>rank</th>\n",
       "      <th>complexity</th>\n",
       "    </tr>\n",
       "  </thead>\n",
       "  <tbody>\n",
       "    <tr>\n",
       "      <th>12</th>\n",
       "      <td>1.0</td>\n",
       "      <td>2.0</td>\n",
       "      <td>0.01</td>\n",
       "      <td>-2.344247e+07</td>\n",
       "      <td>-5.304252e+07</td>\n",
       "      <td>-5.304252e+07</td>\n",
       "      <td>1</td>\n",
       "      <td>883109.0</td>\n",
       "    </tr>\n",
       "    <tr>\n",
       "      <th>30</th>\n",
       "      <td>1.0</td>\n",
       "      <td>3.0</td>\n",
       "      <td>0.10</td>\n",
       "      <td>-2.508192e+07</td>\n",
       "      <td>-5.372283e+07</td>\n",
       "      <td>-5.372283e+07</td>\n",
       "      <td>2</td>\n",
       "      <td>510424.0</td>\n",
       "    </tr>\n",
       "    <tr>\n",
       "      <th>13</th>\n",
       "      <td>1.0</td>\n",
       "      <td>2.0</td>\n",
       "      <td>0.10</td>\n",
       "      <td>-2.592310e+07</td>\n",
       "      <td>-5.376267e+07</td>\n",
       "      <td>-5.376267e+07</td>\n",
       "      <td>3</td>\n",
       "      <td>274856.0</td>\n",
       "    </tr>\n",
       "    <tr>\n",
       "      <th>24</th>\n",
       "      <td>1.0</td>\n",
       "      <td>4.0</td>\n",
       "      <td>0.10</td>\n",
       "      <td>-2.406654e+07</td>\n",
       "      <td>-5.442940e+07</td>\n",
       "      <td>-5.442940e+07</td>\n",
       "      <td>4</td>\n",
       "      <td>903009.0</td>\n",
       "    </tr>\n",
       "    <tr>\n",
       "      <th>31</th>\n",
       "      <td>1.0</td>\n",
       "      <td>3.0</td>\n",
       "      <td>0.20</td>\n",
       "      <td>-2.591699e+07</td>\n",
       "      <td>-5.443493e+07</td>\n",
       "      <td>-5.443493e+07</td>\n",
       "      <td>5</td>\n",
       "      <td>373024.0</td>\n",
       "    </tr>\n",
       "  </tbody>\n",
       "</table>\n",
       "</div>"
      ],
      "text/plain": [
       "    model    K  threshold            LL           BIC           ICL  rank  \\\n",
       "12    1.0  2.0       0.01 -2.344247e+07 -5.304252e+07 -5.304252e+07     1   \n",
       "30    1.0  3.0       0.10 -2.508192e+07 -5.372283e+07 -5.372283e+07     2   \n",
       "13    1.0  2.0       0.10 -2.592310e+07 -5.376267e+07 -5.376267e+07     3   \n",
       "24    1.0  4.0       0.10 -2.406654e+07 -5.442940e+07 -5.442940e+07     4   \n",
       "31    1.0  3.0       0.20 -2.591699e+07 -5.443493e+07 -5.443493e+07     5   \n",
       "\n",
       "    complexity  \n",
       "12    883109.0  \n",
       "30    510424.0  \n",
       "13    274856.0  \n",
       "24    903009.0  \n",
       "31    373024.0  "
      ]
     },
     "execution_count": 23,
     "metadata": {},
     "output_type": "execute_result"
    }
   ],
   "source": [
    "with open(f'/home/g0017139/UMCG_Thesis/Working_Code/Results/TSet1/Merged_GridHDDC.pkl', 'rb') as f:\n",
    "    bic_df = pickle.load(f)\n",
    "bic_df.head()"
   ]
  },
  {
   "cell_type": "markdown",
   "id": "0aa32f57",
   "metadata": {},
   "source": [
    "# Combine"
   ]
  },
  {
   "cell_type": "code",
   "execution_count": 30,
   "id": "228d35ae",
   "metadata": {},
   "outputs": [],
   "source": [
    "from bokeh.transform import factor_cmap, factor_mark\n",
    "from bokeh.plotting import figure, show, output_file, save\n",
    "from bokeh.models import ColumnDataSource, Dropdown, Select, Panel, Tabs, CustomJS, LinearAxis, Range1d, HoverTool\n",
    "from bokeh.palettes import Category20\n",
    "from bokeh.layouts import row, column\n",
    "from bokeh.transform import cumsum\n",
    "\n",
    "import panel as pn"
   ]
  },
  {
   "cell_type": "code",
   "execution_count": 62,
   "id": "838c6b98",
   "metadata": {},
   "outputs": [],
   "source": [
    "def cluster_plot_bokeh(grid):\n",
    "    line_dash = ['solid', 'dashed', 'dotted', 'dotdash']\n",
    "    color = ['blue', 'red', 'hotpink', 'green']\n",
    "    p = figure(width=1400, height=500, x_axis_label='Number clusters', y_axis_label='Harbrasz score')\n",
    "    p.extra_y_ranges = {\"foo1\": Range1d(start=0, end=0.15)}\n",
    "    p.add_layout(LinearAxis(y_range_name=\"foo1\", axis_label='Silhouette score'), 'left')\n",
    "    for i, alg in enumerate(grid):\n",
    "        df = grid[alg].groupby(['n_clusters']).max().reset_index()\n",
    "        df = df.sort_values('n_clusters')\n",
    "        source = ColumnDataSource(df)\n",
    "        l1 = p.line('n_clusters', 'calinski_harabasz_score', legend_label=f'calinski_harabasz_score {alg}',\n",
    "                    source=source, line_dash=line_dash[0], color=color[i])\n",
    "        p.add_tools(HoverTool(renderers=[l1], tooltips=[(f'Calinski Score {alg}',\"@calinski_harabasz_score{0.00}\"),\n",
    "                                                        ('Clusters', '@n_clusters')],\n",
    "                              mode='vline'))\n",
    "        l2 = p.line('n_clusters', 'silhouette_score_euclidean', source=source,\n",
    "                    y_range_name=\"foo1\", legend_label=f'silhouette_score_euclidean {alg}', color=color[i],\n",
    "                    line_dash=line_dash[1])\n",
    "        p.add_tools(HoverTool(renderers=[l2], tooltips=[(f'Silhoette euclidian {alg}',\"@silhouette_score_euclidean{0.00}\")],\n",
    "                              mode='vline'))\n",
    "        l3 = p.line('n_clusters', 'silhouette_score_correlation', source=source,\n",
    "                    y_range_name=\"foo1\", legend_label=f'silhouette_score_correlation {alg}', color=color[i], \n",
    "                    line_dash=line_dash[2])\n",
    "        p.add_tools(HoverTool(renderers=[l3], tooltips=[(f'Silhoette correlation {alg}',\"@silhouette_score_correlation{0.00}\")],\n",
    "                              mode='vline'))\n",
    "        l4 = p.line('n_clusters', 'silhouette_score_manhattan', source=source,\n",
    "                    y_range_name=\"foo1\", legend_label=f'silhouette_score_manhattan {alg}', color=color[i],\n",
    "                    line_dash=line_dash[3])\n",
    "        p.add_tools(HoverTool(renderers=[l4], tooltips=[(f'Silhoette manhattan {alg}',\"@silhouette_score_manhattan{0.00}\")],\n",
    "                               mode='vline'))\n",
    "    p.add_layout(p.legend[0], 'right')\n",
    "    p.legend.click_policy=\"hide\"\n",
    "    return p"
   ]
  },
  {
   "cell_type": "code",
   "execution_count": 63,
   "id": "78062e83",
   "metadata": {},
   "outputs": [
    {
     "data": {
      "text/plain": [
       "'/home/g0017139/UMCG_Thesis/Working_Code/test.html'"
      ]
     },
     "execution_count": 63,
     "metadata": {},
     "output_type": "execute_result"
    }
   ],
   "source": [
    "p = cluster_plot_bokeh(results_grid)\n",
    "save(p, 'test.html')"
   ]
  },
  {
   "cell_type": "code",
   "execution_count": 75,
   "id": "c567583d",
   "metadata": {},
   "outputs": [
    {
     "data": {
      "text/html": [
       "<div>\n",
       "<style scoped>\n",
       "    .dataframe tbody tr th:only-of-type {\n",
       "        vertical-align: middle;\n",
       "    }\n",
       "\n",
       "    .dataframe tbody tr th {\n",
       "        vertical-align: top;\n",
       "    }\n",
       "\n",
       "    .dataframe thead th {\n",
       "        text-align: right;\n",
       "    }\n",
       "</style>\n",
       "<table border=\"1\" class=\"dataframe\">\n",
       "  <thead>\n",
       "    <tr style=\"text-align: right;\">\n",
       "      <th></th>\n",
       "      <th>n_clusters</th>\n",
       "      <th>silhouette_score_euclidean</th>\n",
       "      <th>silhouette_score_correlation</th>\n",
       "      <th>silhouette_score_manhattan</th>\n",
       "      <th>calinski_harabasz_score</th>\n",
       "      <th>Algorithm</th>\n",
       "    </tr>\n",
       "  </thead>\n",
       "  <tbody>\n",
       "    <tr>\n",
       "      <th>6</th>\n",
       "      <td>2</td>\n",
       "      <td>0.105046</td>\n",
       "      <td>0.100257</td>\n",
       "      <td>0.111406</td>\n",
       "      <td>67.637558</td>\n",
       "      <td>hddc</td>\n",
       "    </tr>\n",
       "    <tr>\n",
       "      <th>143</th>\n",
       "      <td>2</td>\n",
       "      <td>0.104322</td>\n",
       "      <td>0.099542</td>\n",
       "      <td>0.111301</td>\n",
       "      <td>66.925385</td>\n",
       "      <td>dbscan</td>\n",
       "    </tr>\n",
       "    <tr>\n",
       "      <th>3</th>\n",
       "      <td>2</td>\n",
       "      <td>0.104322</td>\n",
       "      <td>0.099542</td>\n",
       "      <td>0.111301</td>\n",
       "      <td>66.925385</td>\n",
       "      <td>kMeans</td>\n",
       "    </tr>\n",
       "    <tr>\n",
       "      <th>152</th>\n",
       "      <td>2</td>\n",
       "      <td>0.104322</td>\n",
       "      <td>0.099542</td>\n",
       "      <td>0.111301</td>\n",
       "      <td>66.925385</td>\n",
       "      <td>dbscan</td>\n",
       "    </tr>\n",
       "    <tr>\n",
       "      <th>150</th>\n",
       "      <td>2</td>\n",
       "      <td>0.104322</td>\n",
       "      <td>0.099542</td>\n",
       "      <td>0.111301</td>\n",
       "      <td>66.925385</td>\n",
       "      <td>dbscan</td>\n",
       "    </tr>\n",
       "  </tbody>\n",
       "</table>\n",
       "</div>"
      ],
      "text/plain": [
       "     n_clusters  silhouette_score_euclidean  silhouette_score_correlation  \\\n",
       "6             2                    0.105046                      0.100257   \n",
       "143           2                    0.104322                      0.099542   \n",
       "3             2                    0.104322                      0.099542   \n",
       "152           2                    0.104322                      0.099542   \n",
       "150           2                    0.104322                      0.099542   \n",
       "\n",
       "     silhouette_score_manhattan  calinski_harabasz_score Algorithm  \n",
       "6                      0.111406                67.637558      hddc  \n",
       "143                    0.111301                66.925385    dbscan  \n",
       "3                      0.111301                66.925385    kMeans  \n",
       "152                    0.111301                66.925385    dbscan  \n",
       "150                    0.111301                66.925385    dbscan  "
      ]
     },
     "execution_count": 75,
     "metadata": {},
     "output_type": "execute_result"
    }
   ],
   "source": [
    "end_df = pd.DataFrame()\n",
    "for alg in results_grid:\n",
    "    merge_df = results_grid[alg].copy()[['n_clusters','silhouette_score_euclidean','silhouette_score_correlation','silhouette_score_manhattan',\n",
    "                                        'calinski_harabasz_score']].dropna()\n",
    "    merge_df['Algorithm'] = alg\n",
    "    end_df = end_df.append(merge_df)"
   ]
  },
  {
   "cell_type": "code",
   "execution_count": 76,
   "id": "d14c090c",
   "metadata": {},
   "outputs": [
    {
     "data": {
      "text/html": [
       "<div>\n",
       "<style scoped>\n",
       "    .dataframe tbody tr th:only-of-type {\n",
       "        vertical-align: middle;\n",
       "    }\n",
       "\n",
       "    .dataframe tbody tr th {\n",
       "        vertical-align: top;\n",
       "    }\n",
       "\n",
       "    .dataframe thead th {\n",
       "        text-align: right;\n",
       "    }\n",
       "</style>\n",
       "<table border=\"1\" class=\"dataframe\">\n",
       "  <thead>\n",
       "    <tr style=\"text-align: right;\">\n",
       "      <th></th>\n",
       "      <th>n_clusters</th>\n",
       "      <th>silhouette_score_euclidean</th>\n",
       "      <th>silhouette_score_correlation</th>\n",
       "      <th>silhouette_score_manhattan</th>\n",
       "      <th>calinski_harabasz_score</th>\n",
       "      <th>Algorithm</th>\n",
       "    </tr>\n",
       "  </thead>\n",
       "  <tbody>\n",
       "    <tr>\n",
       "      <th>6</th>\n",
       "      <td>2</td>\n",
       "      <td>0.105046</td>\n",
       "      <td>0.100257</td>\n",
       "      <td>0.111406</td>\n",
       "      <td>67.637558</td>\n",
       "      <td>hddc</td>\n",
       "    </tr>\n",
       "    <tr>\n",
       "      <th>143</th>\n",
       "      <td>2</td>\n",
       "      <td>0.104322</td>\n",
       "      <td>0.099542</td>\n",
       "      <td>0.111301</td>\n",
       "      <td>66.925385</td>\n",
       "      <td>dbscan</td>\n",
       "    </tr>\n",
       "    <tr>\n",
       "      <th>3</th>\n",
       "      <td>2</td>\n",
       "      <td>0.104322</td>\n",
       "      <td>0.099542</td>\n",
       "      <td>0.111301</td>\n",
       "      <td>66.925385</td>\n",
       "      <td>kMeans</td>\n",
       "    </tr>\n",
       "    <tr>\n",
       "      <th>152</th>\n",
       "      <td>2</td>\n",
       "      <td>0.104322</td>\n",
       "      <td>0.099542</td>\n",
       "      <td>0.111301</td>\n",
       "      <td>66.925385</td>\n",
       "      <td>dbscan</td>\n",
       "    </tr>\n",
       "    <tr>\n",
       "      <th>150</th>\n",
       "      <td>2</td>\n",
       "      <td>0.104322</td>\n",
       "      <td>0.099542</td>\n",
       "      <td>0.111301</td>\n",
       "      <td>66.925385</td>\n",
       "      <td>dbscan</td>\n",
       "    </tr>\n",
       "  </tbody>\n",
       "</table>\n",
       "</div>"
      ],
      "text/plain": [
       "     n_clusters  silhouette_score_euclidean  silhouette_score_correlation  \\\n",
       "6             2                    0.105046                      0.100257   \n",
       "143           2                    0.104322                      0.099542   \n",
       "3             2                    0.104322                      0.099542   \n",
       "152           2                    0.104322                      0.099542   \n",
       "150           2                    0.104322                      0.099542   \n",
       "\n",
       "     silhouette_score_manhattan  calinski_harabasz_score Algorithm  \n",
       "6                      0.111406                67.637558      hddc  \n",
       "143                    0.111301                66.925385    dbscan  \n",
       "3                      0.111301                66.925385    kMeans  \n",
       "152                    0.111301                66.925385    dbscan  \n",
       "150                    0.111301                66.925385    dbscan  "
      ]
     },
     "execution_count": 76,
     "metadata": {},
     "output_type": "execute_result"
    }
   ],
   "source": [
    "end_df.sort_values('silhouette_score_euclidean', ascending=False).head()"
   ]
  },
  {
   "cell_type": "code",
   "execution_count": 77,
   "id": "718af1e0",
   "metadata": {},
   "outputs": [
    {
     "data": {
      "text/html": [
       "<div>\n",
       "<style scoped>\n",
       "    .dataframe tbody tr th:only-of-type {\n",
       "        vertical-align: middle;\n",
       "    }\n",
       "\n",
       "    .dataframe tbody tr th {\n",
       "        vertical-align: top;\n",
       "    }\n",
       "\n",
       "    .dataframe thead th {\n",
       "        text-align: right;\n",
       "    }\n",
       "</style>\n",
       "<table border=\"1\" class=\"dataframe\">\n",
       "  <thead>\n",
       "    <tr style=\"text-align: right;\">\n",
       "      <th></th>\n",
       "      <th>n_clusters</th>\n",
       "      <th>silhouette_score_euclidean</th>\n",
       "      <th>silhouette_score_correlation</th>\n",
       "      <th>silhouette_score_manhattan</th>\n",
       "      <th>calinski_harabasz_score</th>\n",
       "      <th>Algorithm</th>\n",
       "    </tr>\n",
       "  </thead>\n",
       "  <tbody>\n",
       "    <tr>\n",
       "      <th>5</th>\n",
       "      <td>11</td>\n",
       "      <td>0.037080</td>\n",
       "      <td>0.108922</td>\n",
       "      <td>0.047856</td>\n",
       "      <td>24.547031</td>\n",
       "      <td>Hierarch</td>\n",
       "    </tr>\n",
       "    <tr>\n",
       "      <th>7</th>\n",
       "      <td>4</td>\n",
       "      <td>0.047396</td>\n",
       "      <td>0.108036</td>\n",
       "      <td>0.064936</td>\n",
       "      <td>49.366318</td>\n",
       "      <td>hddc</td>\n",
       "    </tr>\n",
       "    <tr>\n",
       "      <th>9</th>\n",
       "      <td>4</td>\n",
       "      <td>0.049518</td>\n",
       "      <td>0.107492</td>\n",
       "      <td>0.066756</td>\n",
       "      <td>49.714021</td>\n",
       "      <td>kMeans</td>\n",
       "    </tr>\n",
       "    <tr>\n",
       "      <th>11</th>\n",
       "      <td>4</td>\n",
       "      <td>0.050610</td>\n",
       "      <td>0.106588</td>\n",
       "      <td>0.067730</td>\n",
       "      <td>49.595017</td>\n",
       "      <td>kMeans</td>\n",
       "    </tr>\n",
       "    <tr>\n",
       "      <th>10</th>\n",
       "      <td>4</td>\n",
       "      <td>0.050594</td>\n",
       "      <td>0.106517</td>\n",
       "      <td>0.067694</td>\n",
       "      <td>49.571423</td>\n",
       "      <td>kMeans</td>\n",
       "    </tr>\n",
       "  </tbody>\n",
       "</table>\n",
       "</div>"
      ],
      "text/plain": [
       "    n_clusters  silhouette_score_euclidean  silhouette_score_correlation  \\\n",
       "5           11                    0.037080                      0.108922   \n",
       "7            4                    0.047396                      0.108036   \n",
       "9            4                    0.049518                      0.107492   \n",
       "11           4                    0.050610                      0.106588   \n",
       "10           4                    0.050594                      0.106517   \n",
       "\n",
       "    silhouette_score_manhattan  calinski_harabasz_score Algorithm  \n",
       "5                     0.047856                24.547031  Hierarch  \n",
       "7                     0.064936                49.366318      hddc  \n",
       "9                     0.066756                49.714021    kMeans  \n",
       "11                    0.067730                49.595017    kMeans  \n",
       "10                    0.067694                49.571423    kMeans  "
      ]
     },
     "execution_count": 77,
     "metadata": {},
     "output_type": "execute_result"
    }
   ],
   "source": [
    "end_df.sort_values('silhouette_score_correlation', ascending=False).head()"
   ]
  },
  {
   "cell_type": "code",
   "execution_count": 78,
   "id": "3e07d8f8",
   "metadata": {},
   "outputs": [
    {
     "data": {
      "text/html": [
       "<div>\n",
       "<style scoped>\n",
       "    .dataframe tbody tr th:only-of-type {\n",
       "        vertical-align: middle;\n",
       "    }\n",
       "\n",
       "    .dataframe tbody tr th {\n",
       "        vertical-align: top;\n",
       "    }\n",
       "\n",
       "    .dataframe thead th {\n",
       "        text-align: right;\n",
       "    }\n",
       "</style>\n",
       "<table border=\"1\" class=\"dataframe\">\n",
       "  <thead>\n",
       "    <tr style=\"text-align: right;\">\n",
       "      <th></th>\n",
       "      <th>n_clusters</th>\n",
       "      <th>silhouette_score_euclidean</th>\n",
       "      <th>silhouette_score_correlation</th>\n",
       "      <th>silhouette_score_manhattan</th>\n",
       "      <th>calinski_harabasz_score</th>\n",
       "      <th>Algorithm</th>\n",
       "    </tr>\n",
       "  </thead>\n",
       "  <tbody>\n",
       "    <tr>\n",
       "      <th>6</th>\n",
       "      <td>2</td>\n",
       "      <td>0.105046</td>\n",
       "      <td>0.100257</td>\n",
       "      <td>0.111406</td>\n",
       "      <td>67.637558</td>\n",
       "      <td>hddc</td>\n",
       "    </tr>\n",
       "    <tr>\n",
       "      <th>152</th>\n",
       "      <td>2</td>\n",
       "      <td>0.104322</td>\n",
       "      <td>0.099542</td>\n",
       "      <td>0.111301</td>\n",
       "      <td>66.925385</td>\n",
       "      <td>dbscan</td>\n",
       "    </tr>\n",
       "    <tr>\n",
       "      <th>143</th>\n",
       "      <td>2</td>\n",
       "      <td>0.104322</td>\n",
       "      <td>0.099542</td>\n",
       "      <td>0.111301</td>\n",
       "      <td>66.925385</td>\n",
       "      <td>dbscan</td>\n",
       "    </tr>\n",
       "    <tr>\n",
       "      <th>158</th>\n",
       "      <td>2</td>\n",
       "      <td>0.104322</td>\n",
       "      <td>0.099542</td>\n",
       "      <td>0.111301</td>\n",
       "      <td>66.925385</td>\n",
       "      <td>dbscan</td>\n",
       "    </tr>\n",
       "    <tr>\n",
       "      <th>157</th>\n",
       "      <td>2</td>\n",
       "      <td>0.104322</td>\n",
       "      <td>0.099542</td>\n",
       "      <td>0.111301</td>\n",
       "      <td>66.925385</td>\n",
       "      <td>dbscan</td>\n",
       "    </tr>\n",
       "  </tbody>\n",
       "</table>\n",
       "</div>"
      ],
      "text/plain": [
       "     n_clusters  silhouette_score_euclidean  silhouette_score_correlation  \\\n",
       "6             2                    0.105046                      0.100257   \n",
       "152           2                    0.104322                      0.099542   \n",
       "143           2                    0.104322                      0.099542   \n",
       "158           2                    0.104322                      0.099542   \n",
       "157           2                    0.104322                      0.099542   \n",
       "\n",
       "     silhouette_score_manhattan  calinski_harabasz_score Algorithm  \n",
       "6                      0.111406                67.637558      hddc  \n",
       "152                    0.111301                66.925385    dbscan  \n",
       "143                    0.111301                66.925385    dbscan  \n",
       "158                    0.111301                66.925385    dbscan  \n",
       "157                    0.111301                66.925385    dbscan  "
      ]
     },
     "execution_count": 78,
     "metadata": {},
     "output_type": "execute_result"
    }
   ],
   "source": [
    "end_df.sort_values('silhouette_score_manhattan', ascending=False).head()"
   ]
  },
  {
   "cell_type": "code",
   "execution_count": 79,
   "id": "78ac1c58",
   "metadata": {},
   "outputs": [
    {
     "data": {
      "text/html": [
       "<div>\n",
       "<style scoped>\n",
       "    .dataframe tbody tr th:only-of-type {\n",
       "        vertical-align: middle;\n",
       "    }\n",
       "\n",
       "    .dataframe tbody tr th {\n",
       "        vertical-align: top;\n",
       "    }\n",
       "\n",
       "    .dataframe thead th {\n",
       "        text-align: right;\n",
       "    }\n",
       "</style>\n",
       "<table border=\"1\" class=\"dataframe\">\n",
       "  <thead>\n",
       "    <tr style=\"text-align: right;\">\n",
       "      <th></th>\n",
       "      <th>n_clusters</th>\n",
       "      <th>silhouette_score_euclidean</th>\n",
       "      <th>silhouette_score_correlation</th>\n",
       "      <th>silhouette_score_manhattan</th>\n",
       "      <th>calinski_harabasz_score</th>\n",
       "      <th>Algorithm</th>\n",
       "    </tr>\n",
       "  </thead>\n",
       "  <tbody>\n",
       "    <tr>\n",
       "      <th>6</th>\n",
       "      <td>2</td>\n",
       "      <td>0.105046</td>\n",
       "      <td>0.100257</td>\n",
       "      <td>0.111406</td>\n",
       "      <td>67.637558</td>\n",
       "      <td>hddc</td>\n",
       "    </tr>\n",
       "    <tr>\n",
       "      <th>0</th>\n",
       "      <td>2</td>\n",
       "      <td>0.102786</td>\n",
       "      <td>0.100446</td>\n",
       "      <td>0.109186</td>\n",
       "      <td>67.610557</td>\n",
       "      <td>kMeans</td>\n",
       "    </tr>\n",
       "    <tr>\n",
       "      <th>95</th>\n",
       "      <td>2</td>\n",
       "      <td>0.104322</td>\n",
       "      <td>0.099542</td>\n",
       "      <td>0.111301</td>\n",
       "      <td>66.925385</td>\n",
       "      <td>dbscan</td>\n",
       "    </tr>\n",
       "    <tr>\n",
       "      <th>120</th>\n",
       "      <td>2</td>\n",
       "      <td>0.104322</td>\n",
       "      <td>0.099542</td>\n",
       "      <td>0.111301</td>\n",
       "      <td>66.925385</td>\n",
       "      <td>dbscan</td>\n",
       "    </tr>\n",
       "    <tr>\n",
       "      <th>149</th>\n",
       "      <td>2</td>\n",
       "      <td>0.104322</td>\n",
       "      <td>0.099542</td>\n",
       "      <td>0.111301</td>\n",
       "      <td>66.925385</td>\n",
       "      <td>dbscan</td>\n",
       "    </tr>\n",
       "  </tbody>\n",
       "</table>\n",
       "</div>"
      ],
      "text/plain": [
       "     n_clusters  silhouette_score_euclidean  silhouette_score_correlation  \\\n",
       "6             2                    0.105046                      0.100257   \n",
       "0             2                    0.102786                      0.100446   \n",
       "95            2                    0.104322                      0.099542   \n",
       "120           2                    0.104322                      0.099542   \n",
       "149           2                    0.104322                      0.099542   \n",
       "\n",
       "     silhouette_score_manhattan  calinski_harabasz_score Algorithm  \n",
       "6                      0.111406                67.637558      hddc  \n",
       "0                      0.109186                67.610557    kMeans  \n",
       "95                     0.111301                66.925385    dbscan  \n",
       "120                    0.111301                66.925385    dbscan  \n",
       "149                    0.111301                66.925385    dbscan  "
      ]
     },
     "execution_count": 79,
     "metadata": {},
     "output_type": "execute_result"
    }
   ],
   "source": [
    "end_df.sort_values('calinski_harabasz_score', ascending=False).head()"
   ]
  },
  {
   "cell_type": "markdown",
   "id": "cecb305e",
   "metadata": {},
   "source": [
    "# Set2"
   ]
  },
  {
   "cell_type": "code",
   "execution_count": 31,
   "id": "cd1d4f35",
   "metadata": {},
   "outputs": [],
   "source": [
    "df, df_normalized, Type_df = load_sets(2)"
   ]
  },
  {
   "cell_type": "markdown",
   "id": "e567b8d4",
   "metadata": {},
   "source": [
    "## Hierarchical clustering"
   ]
  },
  {
   "cell_type": "code",
   "execution_count": 32,
   "id": "446093bb",
   "metadata": {
    "scrolled": false
   },
   "outputs": [
    {
     "name": "stdout",
     "output_type": "stream",
     "text": [
      "GO Sample\n",
      "GO Sample\n",
      "GO Sample\n",
      "GO Sample\n",
      "GO Sample\n",
      "GO Sample\n",
      "GO Sample\n",
      "GO Sample\n",
      "GO Sample\n",
      "GO Sample\n",
      "GO Sample\n",
      "GO Sample\n",
      "GO Sample\n",
      "GO Sample\n",
      "GO Sample\n",
      "GO Sample\n",
      "GO Sample\n",
      "GO Sample\n",
      "GO Sample\n",
      "GO Sample\n",
      "GO Sample\n",
      "GO Sample\n",
      "GO Sample\n",
      "GO Sample\n",
      "GO Sample\n",
      "GO Sample\n",
      "GO Sample\n",
      "GO Sample\n"
     ]
    }
   ],
   "source": [
    "results_grid_2 = {}\n",
    "clusters, results_grid_2['Hierarch'] =  merge_Results('/home/g0017139/UMCG_Thesis/Working_Code/Results/Set2/', 'Hierarch', df_normalized)"
   ]
  },
  {
   "cell_type": "code",
   "execution_count": 33,
   "id": "63bd0339",
   "metadata": {
    "scrolled": true
   },
   "outputs": [
    {
     "data": {
      "text/html": [
       "<div>\n",
       "<style scoped>\n",
       "    .dataframe tbody tr th:only-of-type {\n",
       "        vertical-align: middle;\n",
       "    }\n",
       "\n",
       "    .dataframe tbody tr th {\n",
       "        vertical-align: top;\n",
       "    }\n",
       "\n",
       "    .dataframe thead th {\n",
       "        text-align: right;\n",
       "    }\n",
       "</style>\n",
       "<table border=\"1\" class=\"dataframe\">\n",
       "  <thead>\n",
       "    <tr style=\"text-align: right;\">\n",
       "      <th></th>\n",
       "      <th>n_clusters</th>\n",
       "      <th>silhouette_score</th>\n",
       "      <th>calinski_harabasz_score</th>\n",
       "      <th>davies_bouldin_score</th>\n",
       "    </tr>\n",
       "  </thead>\n",
       "  <tbody>\n",
       "    <tr>\n",
       "      <th>8</th>\n",
       "      <td>3</td>\n",
       "      <td>0.096387</td>\n",
       "      <td>1562.673504</td>\n",
       "      <td>3.259362</td>\n",
       "    </tr>\n",
       "    <tr>\n",
       "      <th>5</th>\n",
       "      <td>11</td>\n",
       "      <td>0.083546</td>\n",
       "      <td>975.211974</td>\n",
       "      <td>2.457754</td>\n",
       "    </tr>\n",
       "    <tr>\n",
       "      <th>13</th>\n",
       "      <td>2</td>\n",
       "      <td>0.083147</td>\n",
       "      <td>1653.816122</td>\n",
       "      <td>3.507638</td>\n",
       "    </tr>\n",
       "    <tr>\n",
       "      <th>4</th>\n",
       "      <td>12</td>\n",
       "      <td>0.080416</td>\n",
       "      <td>936.667096</td>\n",
       "      <td>2.494200</td>\n",
       "    </tr>\n",
       "  </tbody>\n",
       "</table>\n",
       "</div>"
      ],
      "text/plain": [
       "    n_clusters  silhouette_score  calinski_harabasz_score  \\\n",
       "8            3          0.096387              1562.673504   \n",
       "5           11          0.083546               975.211974   \n",
       "13           2          0.083147              1653.816122   \n",
       "4           12          0.080416               936.667096   \n",
       "\n",
       "    davies_bouldin_score  \n",
       "8               3.259362  \n",
       "5               2.457754  \n",
       "13              3.507638  \n",
       "4               2.494200  "
      ]
     },
     "execution_count": 33,
     "metadata": {},
     "output_type": "execute_result"
    }
   ],
   "source": [
    "results_grid_2['Hierarch'].sort_values('silhouette_score', axis=0, ascending=False).head(4)"
   ]
  },
  {
   "cell_type": "code",
   "execution_count": 34,
   "id": "fcb4fdc0",
   "metadata": {
    "scrolled": false
   },
   "outputs": [
    {
     "data": {
      "text/html": [
       "<div>\n",
       "<style scoped>\n",
       "    .dataframe tbody tr th:only-of-type {\n",
       "        vertical-align: middle;\n",
       "    }\n",
       "\n",
       "    .dataframe tbody tr th {\n",
       "        vertical-align: top;\n",
       "    }\n",
       "\n",
       "    .dataframe thead th {\n",
       "        text-align: right;\n",
       "    }\n",
       "</style>\n",
       "<table border=\"1\" class=\"dataframe\">\n",
       "  <thead>\n",
       "    <tr style=\"text-align: right;\">\n",
       "      <th></th>\n",
       "      <th>n_clusters</th>\n",
       "      <th>silhouette_score</th>\n",
       "      <th>calinski_harabasz_score</th>\n",
       "      <th>davies_bouldin_score</th>\n",
       "    </tr>\n",
       "  </thead>\n",
       "  <tbody>\n",
       "    <tr>\n",
       "      <th>13</th>\n",
       "      <td>2</td>\n",
       "      <td>0.083147</td>\n",
       "      <td>1653.816122</td>\n",
       "      <td>3.507638</td>\n",
       "    </tr>\n",
       "    <tr>\n",
       "      <th>8</th>\n",
       "      <td>3</td>\n",
       "      <td>0.096387</td>\n",
       "      <td>1562.673504</td>\n",
       "      <td>3.259362</td>\n",
       "    </tr>\n",
       "    <tr>\n",
       "      <th>3</th>\n",
       "      <td>5</td>\n",
       "      <td>0.048015</td>\n",
       "      <td>1305.012778</td>\n",
       "      <td>2.910270</td>\n",
       "    </tr>\n",
       "    <tr>\n",
       "      <th>10</th>\n",
       "      <td>4</td>\n",
       "      <td>0.029088</td>\n",
       "      <td>1280.769951</td>\n",
       "      <td>3.143995</td>\n",
       "    </tr>\n",
       "  </tbody>\n",
       "</table>\n",
       "</div>"
      ],
      "text/plain": [
       "    n_clusters  silhouette_score  calinski_harabasz_score  \\\n",
       "13           2          0.083147              1653.816122   \n",
       "8            3          0.096387              1562.673504   \n",
       "3            5          0.048015              1305.012778   \n",
       "10           4          0.029088              1280.769951   \n",
       "\n",
       "    davies_bouldin_score  \n",
       "13              3.507638  \n",
       "8               3.259362  \n",
       "3               2.910270  \n",
       "10              3.143995  "
      ]
     },
     "execution_count": 34,
     "metadata": {},
     "output_type": "execute_result"
    }
   ],
   "source": [
    "results_grid_2['Hierarch'].sort_values('calinski_harabasz_score', axis=0, ascending=False).head(4)"
   ]
  },
  {
   "cell_type": "code",
   "execution_count": 35,
   "id": "29231a0f",
   "metadata": {},
   "outputs": [
    {
     "name": "stdout",
     "output_type": "stream",
     "text": [
      "GO Sample\n",
      "GO Sample\n"
     ]
    },
    {
     "data": {
      "text/plain": [
       "{'silhouette_score': 0.08583627783284727,\n",
       " 'calinski_harabasz_score': 1653.816121908958,\n",
       " 'davies_bouldin_score': 3.5076380711316593}"
      ]
     },
     "execution_count": 35,
     "metadata": {},
     "output_type": "execute_result"
    }
   ],
   "source": [
    "get_score(df_normalized, clusters['3'].values)"
   ]
  },
  {
   "cell_type": "code",
   "execution_count": 36,
   "id": "4ba0226a",
   "metadata": {},
   "outputs": [],
   "source": [
    "with open('/home/g0017139/UMCG_Thesis/Working_Code/Results/Set2/MergedClustersHierarch.pkl', 'wb') as f:\n",
    "    pickle.dump(clusters, f, protocol=pickle.HIGHEST_PROTOCOL)"
   ]
  },
  {
   "cell_type": "markdown",
   "id": "9bb5c9c7",
   "metadata": {},
   "source": [
    "## Kmeans"
   ]
  },
  {
   "cell_type": "code",
   "execution_count": 37,
   "id": "e242e439",
   "metadata": {
    "scrolled": false
   },
   "outputs": [],
   "source": [
    "with open(\"/home/g0017139/UMCG_Thesis/Working_Code/Results/Set2/kmeans.pkl\", 'rb') as f:\n",
    "        results_grid_2['kMeans'] = pickle.load(f)"
   ]
  },
  {
   "cell_type": "code",
   "execution_count": 38,
   "id": "ccf27fcf",
   "metadata": {
    "scrolled": false
   },
   "outputs": [
    {
     "data": {
      "text/html": [
       "<div>\n",
       "<style scoped>\n",
       "    .dataframe tbody tr th:only-of-type {\n",
       "        vertical-align: middle;\n",
       "    }\n",
       "\n",
       "    .dataframe tbody tr th {\n",
       "        vertical-align: top;\n",
       "    }\n",
       "\n",
       "    .dataframe thead th {\n",
       "        text-align: right;\n",
       "    }\n",
       "</style>\n",
       "<table border=\"1\" class=\"dataframe\">\n",
       "  <thead>\n",
       "    <tr style=\"text-align: right;\">\n",
       "      <th></th>\n",
       "      <th>silhouette_score</th>\n",
       "      <th>calinski_harabasz_score</th>\n",
       "      <th>davies_bouldin_score</th>\n",
       "      <th>Fit_Time</th>\n",
       "      <th>n_clusters</th>\n",
       "      <th>batch_size</th>\n",
       "    </tr>\n",
       "  </thead>\n",
       "  <tbody>\n",
       "    <tr>\n",
       "      <th>5</th>\n",
       "      <td>0.132201</td>\n",
       "      <td>1875.684671</td>\n",
       "      <td>2.545246</td>\n",
       "      <td>122.278544</td>\n",
       "      <td>3</td>\n",
       "      <td>256</td>\n",
       "    </tr>\n",
       "    <tr>\n",
       "      <th>2</th>\n",
       "      <td>0.127093</td>\n",
       "      <td>2250.382308</td>\n",
       "      <td>2.835238</td>\n",
       "      <td>102.589599</td>\n",
       "      <td>2</td>\n",
       "      <td>512</td>\n",
       "    </tr>\n",
       "    <tr>\n",
       "      <th>3</th>\n",
       "      <td>0.125968</td>\n",
       "      <td>2172.172687</td>\n",
       "      <td>2.928323</td>\n",
       "      <td>133.569641</td>\n",
       "      <td>2</td>\n",
       "      <td>1024</td>\n",
       "    </tr>\n",
       "    <tr>\n",
       "      <th>0</th>\n",
       "      <td>0.123465</td>\n",
       "      <td>2208.600047</td>\n",
       "      <td>2.832577</td>\n",
       "      <td>46.080600</td>\n",
       "      <td>2</td>\n",
       "      <td>128</td>\n",
       "    </tr>\n",
       "  </tbody>\n",
       "</table>\n",
       "</div>"
      ],
      "text/plain": [
       "   silhouette_score  calinski_harabasz_score  davies_bouldin_score  \\\n",
       "5          0.132201              1875.684671              2.545246   \n",
       "2          0.127093              2250.382308              2.835238   \n",
       "3          0.125968              2172.172687              2.928323   \n",
       "0          0.123465              2208.600047              2.832577   \n",
       "\n",
       "     Fit_Time  n_clusters  batch_size  \n",
       "5  122.278544           3         256  \n",
       "2  102.589599           2         512  \n",
       "3  133.569641           2        1024  \n",
       "0   46.080600           2         128  "
      ]
     },
     "execution_count": 38,
     "metadata": {},
     "output_type": "execute_result"
    }
   ],
   "source": [
    "results_grid_2['kMeans'].sort_values('silhouette_score', axis=0, ascending=False).head(4)"
   ]
  },
  {
   "cell_type": "code",
   "execution_count": 39,
   "id": "64934e1d",
   "metadata": {
    "scrolled": false
   },
   "outputs": [
    {
     "data": {
      "text/html": [
       "<div>\n",
       "<style scoped>\n",
       "    .dataframe tbody tr th:only-of-type {\n",
       "        vertical-align: middle;\n",
       "    }\n",
       "\n",
       "    .dataframe tbody tr th {\n",
       "        vertical-align: top;\n",
       "    }\n",
       "\n",
       "    .dataframe thead th {\n",
       "        text-align: right;\n",
       "    }\n",
       "</style>\n",
       "<table border=\"1\" class=\"dataframe\">\n",
       "  <thead>\n",
       "    <tr style=\"text-align: right;\">\n",
       "      <th></th>\n",
       "      <th>silhouette_score</th>\n",
       "      <th>calinski_harabasz_score</th>\n",
       "      <th>davies_bouldin_score</th>\n",
       "      <th>Fit_Time</th>\n",
       "      <th>n_clusters</th>\n",
       "      <th>batch_size</th>\n",
       "    </tr>\n",
       "  </thead>\n",
       "  <tbody>\n",
       "    <tr>\n",
       "      <th>1</th>\n",
       "      <td>0.120491</td>\n",
       "      <td>2282.028137</td>\n",
       "      <td>2.951187</td>\n",
       "      <td>99.034494</td>\n",
       "      <td>2</td>\n",
       "      <td>256</td>\n",
       "    </tr>\n",
       "    <tr>\n",
       "      <th>2</th>\n",
       "      <td>0.127093</td>\n",
       "      <td>2250.382308</td>\n",
       "      <td>2.835238</td>\n",
       "      <td>102.589599</td>\n",
       "      <td>2</td>\n",
       "      <td>512</td>\n",
       "    </tr>\n",
       "    <tr>\n",
       "      <th>0</th>\n",
       "      <td>0.123465</td>\n",
       "      <td>2208.600047</td>\n",
       "      <td>2.832577</td>\n",
       "      <td>46.080600</td>\n",
       "      <td>2</td>\n",
       "      <td>128</td>\n",
       "    </tr>\n",
       "    <tr>\n",
       "      <th>3</th>\n",
       "      <td>0.125968</td>\n",
       "      <td>2172.172687</td>\n",
       "      <td>2.928323</td>\n",
       "      <td>133.569641</td>\n",
       "      <td>2</td>\n",
       "      <td>1024</td>\n",
       "    </tr>\n",
       "  </tbody>\n",
       "</table>\n",
       "</div>"
      ],
      "text/plain": [
       "   silhouette_score  calinski_harabasz_score  davies_bouldin_score  \\\n",
       "1          0.120491              2282.028137              2.951187   \n",
       "2          0.127093              2250.382308              2.835238   \n",
       "0          0.123465              2208.600047              2.832577   \n",
       "3          0.125968              2172.172687              2.928323   \n",
       "\n",
       "     Fit_Time  n_clusters  batch_size  \n",
       "1   99.034494           2         256  \n",
       "2  102.589599           2         512  \n",
       "0   46.080600           2         128  \n",
       "3  133.569641           2        1024  "
      ]
     },
     "execution_count": 39,
     "metadata": {},
     "output_type": "execute_result"
    }
   ],
   "source": [
    "results_grid_2['kMeans'].sort_values('calinski_harabasz_score', axis=0, ascending=False).head(4)"
   ]
  },
  {
   "cell_type": "code",
   "execution_count": 40,
   "id": "9cfb045c",
   "metadata": {
    "scrolled": false
   },
   "outputs": [
    {
     "data": {
      "text/plain": [
       "MiniBatchKMeans(batch_size=256, n_clusters=3, random_state=0)"
      ]
     },
     "execution_count": 40,
     "metadata": {},
     "output_type": "execute_result"
    }
   ],
   "source": [
    "kmeans = MiniBatchKMeans(n_clusters=3,\n",
    "                         random_state=0,\n",
    "                         batch_size=256)\n",
    "kmeans.fit(df_normalized)"
   ]
  },
  {
   "cell_type": "code",
   "execution_count": 41,
   "id": "59afa3ba",
   "metadata": {},
   "outputs": [
    {
     "name": "stdout",
     "output_type": "stream",
     "text": [
      "GO Sample\n",
      "GO Sample\n"
     ]
    },
    {
     "data": {
      "text/plain": [
       "{'silhouette_score': 0.13061665238582404,\n",
       " 'calinski_harabasz_score': 1875.6846708036805,\n",
       " 'davies_bouldin_score': 2.5452457372669395}"
      ]
     },
     "execution_count": 41,
     "metadata": {},
     "output_type": "execute_result"
    }
   ],
   "source": [
    "get_score(df_normalized, kmeans.labels_)"
   ]
  },
  {
   "cell_type": "markdown",
   "id": "b3d4d0cc",
   "metadata": {},
   "source": [
    "## UMAP + DBSCAN"
   ]
  },
  {
   "cell_type": "code",
   "execution_count": 42,
   "id": "0e3f165b",
   "metadata": {
    "scrolled": false
   },
   "outputs": [],
   "source": [
    "# with open('/home/g0017139/UMCG_Thesis/Working_Code/Results/Set2/', 'rb') as f:\n",
    "#         results_grid_2['dbscan'] = pickle.load(f)"
   ]
  },
  {
   "cell_type": "code",
   "execution_count": 43,
   "id": "cfbea927",
   "metadata": {
    "scrolled": false
   },
   "outputs": [],
   "source": [
    "#results_grid_2['dbscan'].sort_values('silhouette_score', axis=0, ascending=False).head(4)"
   ]
  },
  {
   "cell_type": "code",
   "execution_count": 44,
   "id": "5a48272b",
   "metadata": {
    "scrolled": false
   },
   "outputs": [],
   "source": [
    "#results_grid_2['dbscan'].sort_values('calinski_harabasz_score', axis=0, ascending=False).head(4)"
   ]
  },
  {
   "cell_type": "code",
   "execution_count": 45,
   "id": "503e94c2",
   "metadata": {
    "scrolled": true
   },
   "outputs": [],
   "source": [
    "# pipe = Pipeline([('DimReduction', \n",
    "#                   umap.UMAP(\n",
    "#                       n_neighbors=30,\n",
    "#                       min_dist=0.0,\n",
    "#                       n_components=1,\n",
    "#                       random_state=1)),\n",
    "#                  ('Clustering', \n",
    "#                  hdbscan.HDBSCAN(min_cluster_size=50,\n",
    "#                                 min_samples=75,\n",
    "#                                 cluster_selection_epsilon=1.0,\n",
    "#                                 cluster_selection_method='eom'))\n",
    "#                 ])\n",
    "# pipe.fit(df_normalized)"
   ]
  },
  {
   "cell_type": "code",
   "execution_count": 46,
   "id": "58ec1031",
   "metadata": {
    "scrolled": false
   },
   "outputs": [],
   "source": [
    "#get_score(df_normalized, pipe['Clustering'].labels_)"
   ]
  },
  {
   "cell_type": "markdown",
   "id": "c9b0f444",
   "metadata": {},
   "source": [
    "## HDDC"
   ]
  },
  {
   "cell_type": "code",
   "execution_count": 47,
   "id": "38bf69a7",
   "metadata": {
    "scrolled": false
   },
   "outputs": [
    {
     "name": "stdout",
     "output_type": "stream",
     "text": [
      "GO Sample\n",
      "GO Sample\n",
      "GO Sample\n",
      "GO Sample\n",
      "GO Sample\n",
      "GO Sample\n",
      "GO Sample\n",
      "GO Sample\n",
      "GO Sample\n",
      "GO Sample\n",
      "GO Sample\n",
      "GO Sample\n",
      "GO Sample\n",
      "GO Sample\n",
      "GO Sample\n",
      "GO Sample\n"
     ]
    }
   ],
   "source": [
    "clusters, results_grid_2['hddc'], bic_df  =  merge_Results('/home/g0017139/UMCG_Thesis/Working_Code/Results/Set2/', 'HDDC', df_normalized)"
   ]
  },
  {
   "cell_type": "code",
   "execution_count": 48,
   "id": "473c53a6",
   "metadata": {
    "scrolled": false
   },
   "outputs": [
    {
     "data": {
      "text/html": [
       "<div>\n",
       "<style scoped>\n",
       "    .dataframe tbody tr th:only-of-type {\n",
       "        vertical-align: middle;\n",
       "    }\n",
       "\n",
       "    .dataframe tbody tr th {\n",
       "        vertical-align: top;\n",
       "    }\n",
       "\n",
       "    .dataframe thead th {\n",
       "        text-align: right;\n",
       "    }\n",
       "</style>\n",
       "<table border=\"1\" class=\"dataframe\">\n",
       "  <thead>\n",
       "    <tr style=\"text-align: right;\">\n",
       "      <th></th>\n",
       "      <th>n_clusters</th>\n",
       "      <th>silhouette_score</th>\n",
       "      <th>calinski_harabasz_score</th>\n",
       "      <th>davies_bouldin_score</th>\n",
       "    </tr>\n",
       "  </thead>\n",
       "  <tbody>\n",
       "    <tr>\n",
       "      <th>1</th>\n",
       "      <td>5</td>\n",
       "      <td>0.120907</td>\n",
       "      <td>1322.542301</td>\n",
       "      <td>3.010284</td>\n",
       "    </tr>\n",
       "    <tr>\n",
       "      <th>8</th>\n",
       "      <td>3</td>\n",
       "      <td>0.113357</td>\n",
       "      <td>1693.289297</td>\n",
       "      <td>2.991432</td>\n",
       "    </tr>\n",
       "    <tr>\n",
       "      <th>4</th>\n",
       "      <td>2</td>\n",
       "      <td>0.104630</td>\n",
       "      <td>1871.341515</td>\n",
       "      <td>3.194748</td>\n",
       "    </tr>\n",
       "    <tr>\n",
       "      <th>5</th>\n",
       "      <td>4</td>\n",
       "      <td>0.096226</td>\n",
       "      <td>1243.688353</td>\n",
       "      <td>3.417905</td>\n",
       "    </tr>\n",
       "  </tbody>\n",
       "</table>\n",
       "</div>"
      ],
      "text/plain": [
       "   n_clusters  silhouette_score  calinski_harabasz_score  davies_bouldin_score\n",
       "1           5          0.120907              1322.542301              3.010284\n",
       "8           3          0.113357              1693.289297              2.991432\n",
       "4           2          0.104630              1871.341515              3.194748\n",
       "5           4          0.096226              1243.688353              3.417905"
      ]
     },
     "execution_count": 48,
     "metadata": {},
     "output_type": "execute_result"
    }
   ],
   "source": [
    "results_grid_2['hddc'].sort_values('silhouette_score', axis=0, ascending=False).head(4)"
   ]
  },
  {
   "cell_type": "code",
   "execution_count": 49,
   "id": "384e20cc",
   "metadata": {
    "scrolled": false
   },
   "outputs": [
    {
     "data": {
      "text/html": [
       "<div>\n",
       "<style scoped>\n",
       "    .dataframe tbody tr th:only-of-type {\n",
       "        vertical-align: middle;\n",
       "    }\n",
       "\n",
       "    .dataframe tbody tr th {\n",
       "        vertical-align: top;\n",
       "    }\n",
       "\n",
       "    .dataframe thead th {\n",
       "        text-align: right;\n",
       "    }\n",
       "</style>\n",
       "<table border=\"1\" class=\"dataframe\">\n",
       "  <thead>\n",
       "    <tr style=\"text-align: right;\">\n",
       "      <th></th>\n",
       "      <th>n_clusters</th>\n",
       "      <th>silhouette_score</th>\n",
       "      <th>calinski_harabasz_score</th>\n",
       "      <th>davies_bouldin_score</th>\n",
       "    </tr>\n",
       "  </thead>\n",
       "  <tbody>\n",
       "    <tr>\n",
       "      <th>2</th>\n",
       "      <td>8</td>\n",
       "      <td>0.069902</td>\n",
       "      <td>1155.281963</td>\n",
       "      <td>2.972268</td>\n",
       "    </tr>\n",
       "    <tr>\n",
       "      <th>7</th>\n",
       "      <td>7</td>\n",
       "      <td>0.056353</td>\n",
       "      <td>1143.419300</td>\n",
       "      <td>2.958209</td>\n",
       "    </tr>\n",
       "    <tr>\n",
       "      <th>0</th>\n",
       "      <td>9</td>\n",
       "      <td>0.065857</td>\n",
       "      <td>1042.710405</td>\n",
       "      <td>2.987186</td>\n",
       "    </tr>\n",
       "    <tr>\n",
       "      <th>6</th>\n",
       "      <td>10</td>\n",
       "      <td>0.077499</td>\n",
       "      <td>1023.927455</td>\n",
       "      <td>2.956921</td>\n",
       "    </tr>\n",
       "  </tbody>\n",
       "</table>\n",
       "</div>"
      ],
      "text/plain": [
       "   n_clusters  silhouette_score  calinski_harabasz_score  davies_bouldin_score\n",
       "2           8          0.069902              1155.281963              2.972268\n",
       "7           7          0.056353              1143.419300              2.958209\n",
       "0           9          0.065857              1042.710405              2.987186\n",
       "6          10          0.077499              1023.927455              2.956921"
      ]
     },
     "execution_count": 49,
     "metadata": {},
     "output_type": "execute_result"
    }
   ],
   "source": [
    "results_grid_2['hddc'].sort_values('calinski_harabasz_score', axis=0, ascending=False).tail(4)"
   ]
  },
  {
   "cell_type": "code",
   "execution_count": 50,
   "id": "7f33f1e8",
   "metadata": {
    "scrolled": true
   },
   "outputs": [
    {
     "data": {
      "text/html": [
       "<div>\n",
       "<style scoped>\n",
       "    .dataframe tbody tr th:only-of-type {\n",
       "        vertical-align: middle;\n",
       "    }\n",
       "\n",
       "    .dataframe tbody tr th {\n",
       "        vertical-align: top;\n",
       "    }\n",
       "\n",
       "    .dataframe thead th {\n",
       "        text-align: right;\n",
       "    }\n",
       "</style>\n",
       "<table border=\"1\" class=\"dataframe\">\n",
       "  <thead>\n",
       "    <tr style=\"text-align: right;\">\n",
       "      <th></th>\n",
       "      <th>model</th>\n",
       "      <th>K</th>\n",
       "      <th>threshold</th>\n",
       "      <th>LL</th>\n",
       "      <th>BIC</th>\n",
       "      <th>ICL</th>\n",
       "      <th>rank</th>\n",
       "      <th>complexity</th>\n",
       "    </tr>\n",
       "  </thead>\n",
       "  <tbody>\n",
       "    <tr>\n",
       "      <th>336</th>\n",
       "      <td>8.0</td>\n",
       "      <td>10.0</td>\n",
       "      <td>0.01</td>\n",
       "      <td>-3.361843e+08</td>\n",
       "      <td>-7.154549e+08</td>\n",
       "      <td>-7.154549e+08</td>\n",
       "      <td>1</td>\n",
       "      <td>4317230.0</td>\n",
       "    </tr>\n",
       "    <tr>\n",
       "      <th>0</th>\n",
       "      <td>8.0</td>\n",
       "      <td>8.0</td>\n",
       "      <td>0.01</td>\n",
       "      <td>-3.389497e+08</td>\n",
       "      <td>-7.170655e+08</td>\n",
       "      <td>-7.170655e+08</td>\n",
       "      <td>2</td>\n",
       "      <td>3924437.0</td>\n",
       "    </tr>\n",
       "    <tr>\n",
       "      <th>337</th>\n",
       "      <td>1.0</td>\n",
       "      <td>10.0</td>\n",
       "      <td>0.01</td>\n",
       "      <td>-3.385387e+08</td>\n",
       "      <td>-7.201656e+08</td>\n",
       "      <td>-7.201656e+08</td>\n",
       "      <td>3</td>\n",
       "      <td>4317411.0</td>\n",
       "    </tr>\n",
       "    <tr>\n",
       "      <th>294</th>\n",
       "      <td>12.0</td>\n",
       "      <td>9.0</td>\n",
       "      <td>0.01</td>\n",
       "      <td>-3.415283e+08</td>\n",
       "      <td>-7.230116e+08</td>\n",
       "      <td>-7.230116e+08</td>\n",
       "      <td>4</td>\n",
       "      <td>4003467.0</td>\n",
       "    </tr>\n",
       "    <tr>\n",
       "      <th>338</th>\n",
       "      <td>7.0</td>\n",
       "      <td>10.0</td>\n",
       "      <td>0.01</td>\n",
       "      <td>-3.400606e+08</td>\n",
       "      <td>-7.232094e+08</td>\n",
       "      <td>-7.232094e+08</td>\n",
       "      <td>5</td>\n",
       "      <td>4317420.0</td>\n",
       "    </tr>\n",
       "  </tbody>\n",
       "</table>\n",
       "</div>"
      ],
      "text/plain": [
       "     model     K  threshold            LL           BIC           ICL  rank  \\\n",
       "336    8.0  10.0       0.01 -3.361843e+08 -7.154549e+08 -7.154549e+08     1   \n",
       "0      8.0   8.0       0.01 -3.389497e+08 -7.170655e+08 -7.170655e+08     2   \n",
       "337    1.0  10.0       0.01 -3.385387e+08 -7.201656e+08 -7.201656e+08     3   \n",
       "294   12.0   9.0       0.01 -3.415283e+08 -7.230116e+08 -7.230116e+08     4   \n",
       "338    7.0  10.0       0.01 -3.400606e+08 -7.232094e+08 -7.232094e+08     5   \n",
       "\n",
       "     complexity  \n",
       "336   4317230.0  \n",
       "0     3924437.0  \n",
       "337   4317411.0  \n",
       "294   4003467.0  \n",
       "338   4317420.0  "
      ]
     },
     "execution_count": 50,
     "metadata": {},
     "output_type": "execute_result"
    }
   ],
   "source": [
    "bic_df.head()"
   ]
  },
  {
   "cell_type": "code",
   "execution_count": 51,
   "id": "0315073c",
   "metadata": {
    "scrolled": true
   },
   "outputs": [
    {
     "name": "stdout",
     "output_type": "stream",
     "text": [
      "GO Sample\n",
      "GO Sample\n"
     ]
    },
    {
     "data": {
      "text/plain": [
       "{'silhouette_score': 0.07696662548998101,\n",
       " 'calinski_harabasz_score': 1023.9274554453598,\n",
       " 'davies_bouldin_score': 2.9569212067108146}"
      ]
     },
     "execution_count": 51,
     "metadata": {},
     "output_type": "execute_result"
    }
   ],
   "source": [
    "get_score(df_normalized, clusters['10'].values)"
   ]
  },
  {
   "cell_type": "code",
   "execution_count": 52,
   "id": "b0432f7d",
   "metadata": {},
   "outputs": [],
   "source": [
    "with open('/home/g0017139/UMCG_Thesis/Working_Code/Results/Set2/Merged_results.pkl', 'wb') as f:\n",
    "    pickle.dump(results_grid_2, f, protocol=pickle.HIGHEST_PROTOCOL)"
   ]
  },
  {
   "cell_type": "code",
   "execution_count": 53,
   "id": "d664e983",
   "metadata": {},
   "outputs": [],
   "source": [
    "with open('/home/g0017139/UMCG_Thesis/Working_Code/Results/Set2/Merged_GridHDDC.pkl', 'wb') as f:\n",
    "    pickle.dump(bic_df, f, protocol=pickle.HIGHEST_PROTOCOL)"
   ]
  },
  {
   "cell_type": "code",
   "execution_count": 54,
   "id": "e83db196",
   "metadata": {},
   "outputs": [],
   "source": [
    "with open('/home/g0017139/UMCG_Thesis/Working_Code/Results/Set2/MergedClustersHDDC.pkl', 'wb') as f:\n",
    "    pickle.dump(clusters, f, protocol=pickle.HIGHEST_PROTOCOL)"
   ]
  },
  {
   "cell_type": "markdown",
   "id": "ffd09db9",
   "metadata": {},
   "source": [
    "# Mixing set"
   ]
  },
  {
   "cell_type": "code",
   "execution_count": 8,
   "id": "9f199d05",
   "metadata": {
    "scrolled": true
   },
   "outputs": [],
   "source": [
    "df, df_normalized, Type_df = load_sets(3)"
   ]
  },
  {
   "cell_type": "markdown",
   "id": "bc4cffd9",
   "metadata": {
    "scrolled": true
   },
   "source": [
    "## Kmeans"
   ]
  },
  {
   "cell_type": "code",
   "execution_count": 9,
   "id": "256ffbb9",
   "metadata": {
    "scrolled": false
   },
   "outputs": [],
   "source": [
    "results_grid_3 = {}"
   ]
  },
  {
   "cell_type": "code",
   "execution_count": 10,
   "id": "49d8558a",
   "metadata": {
    "scrolled": false
   },
   "outputs": [],
   "source": [
    "with open(\"/home/g0017139/UMCG_Thesis/Working_Code/Results/Set3/kmeans.pkl\", 'rb') as f:\n",
    "        results_grid_3['kMeans'] = pickle.load(f)"
   ]
  },
  {
   "cell_type": "code",
   "execution_count": 11,
   "id": "7e4f2c83",
   "metadata": {
    "scrolled": false
   },
   "outputs": [
    {
     "data": {
      "text/html": [
       "<div>\n",
       "<style scoped>\n",
       "    .dataframe tbody tr th:only-of-type {\n",
       "        vertical-align: middle;\n",
       "    }\n",
       "\n",
       "    .dataframe tbody tr th {\n",
       "        vertical-align: top;\n",
       "    }\n",
       "\n",
       "    .dataframe thead th {\n",
       "        text-align: right;\n",
       "    }\n",
       "</style>\n",
       "<table border=\"1\" class=\"dataframe\">\n",
       "  <thead>\n",
       "    <tr style=\"text-align: right;\">\n",
       "      <th></th>\n",
       "      <th>silhouette_score</th>\n",
       "      <th>calinski_harabasz_score</th>\n",
       "      <th>davies_bouldin_score</th>\n",
       "      <th>Fit_Time</th>\n",
       "      <th>n_clusters</th>\n",
       "      <th>batch_size</th>\n",
       "    </tr>\n",
       "  </thead>\n",
       "  <tbody>\n",
       "    <tr>\n",
       "      <th>2</th>\n",
       "      <td>0.149892</td>\n",
       "      <td>1333.994266</td>\n",
       "      <td>2.025419</td>\n",
       "      <td>0.074822</td>\n",
       "      <td>2</td>\n",
       "      <td>512</td>\n",
       "    </tr>\n",
       "    <tr>\n",
       "      <th>3</th>\n",
       "      <td>0.119751</td>\n",
       "      <td>1361.239351</td>\n",
       "      <td>2.132719</td>\n",
       "      <td>0.103506</td>\n",
       "      <td>2</td>\n",
       "      <td>1024</td>\n",
       "    </tr>\n",
       "    <tr>\n",
       "      <th>0</th>\n",
       "      <td>0.118935</td>\n",
       "      <td>1361.788266</td>\n",
       "      <td>2.140628</td>\n",
       "      <td>0.995648</td>\n",
       "      <td>2</td>\n",
       "      <td>128</td>\n",
       "    </tr>\n",
       "    <tr>\n",
       "      <th>4</th>\n",
       "      <td>0.117163</td>\n",
       "      <td>962.474313</td>\n",
       "      <td>2.177568</td>\n",
       "      <td>0.052269</td>\n",
       "      <td>3</td>\n",
       "      <td>128</td>\n",
       "    </tr>\n",
       "  </tbody>\n",
       "</table>\n",
       "</div>"
      ],
      "text/plain": [
       "   silhouette_score  calinski_harabasz_score  davies_bouldin_score  Fit_Time  \\\n",
       "2          0.149892              1333.994266              2.025419  0.074822   \n",
       "3          0.119751              1361.239351              2.132719  0.103506   \n",
       "0          0.118935              1361.788266              2.140628  0.995648   \n",
       "4          0.117163               962.474313              2.177568  0.052269   \n",
       "\n",
       "   n_clusters  batch_size  \n",
       "2           2         512  \n",
       "3           2        1024  \n",
       "0           2         128  \n",
       "4           3         128  "
      ]
     },
     "execution_count": 11,
     "metadata": {},
     "output_type": "execute_result"
    }
   ],
   "source": [
    "results_grid_3['kMeans'].sort_values('silhouette_score', axis=0, ascending=False).head(4)"
   ]
  },
  {
   "cell_type": "code",
   "execution_count": 12,
   "id": "e8a5bfdb",
   "metadata": {
    "scrolled": false
   },
   "outputs": [
    {
     "data": {
      "text/html": [
       "<div>\n",
       "<style scoped>\n",
       "    .dataframe tbody tr th:only-of-type {\n",
       "        vertical-align: middle;\n",
       "    }\n",
       "\n",
       "    .dataframe tbody tr th {\n",
       "        vertical-align: top;\n",
       "    }\n",
       "\n",
       "    .dataframe thead th {\n",
       "        text-align: right;\n",
       "    }\n",
       "</style>\n",
       "<table border=\"1\" class=\"dataframe\">\n",
       "  <thead>\n",
       "    <tr style=\"text-align: right;\">\n",
       "      <th></th>\n",
       "      <th>silhouette_score</th>\n",
       "      <th>calinski_harabasz_score</th>\n",
       "      <th>davies_bouldin_score</th>\n",
       "      <th>Fit_Time</th>\n",
       "      <th>n_clusters</th>\n",
       "      <th>batch_size</th>\n",
       "    </tr>\n",
       "  </thead>\n",
       "  <tbody>\n",
       "    <tr>\n",
       "      <th>0</th>\n",
       "      <td>0.118935</td>\n",
       "      <td>1361.788266</td>\n",
       "      <td>2.140628</td>\n",
       "      <td>0.995648</td>\n",
       "      <td>2</td>\n",
       "      <td>128</td>\n",
       "    </tr>\n",
       "    <tr>\n",
       "      <th>3</th>\n",
       "      <td>0.119751</td>\n",
       "      <td>1361.239351</td>\n",
       "      <td>2.132719</td>\n",
       "      <td>0.103506</td>\n",
       "      <td>2</td>\n",
       "      <td>1024</td>\n",
       "    </tr>\n",
       "    <tr>\n",
       "      <th>1</th>\n",
       "      <td>0.112108</td>\n",
       "      <td>1355.976603</td>\n",
       "      <td>2.160696</td>\n",
       "      <td>0.094072</td>\n",
       "      <td>2</td>\n",
       "      <td>256</td>\n",
       "    </tr>\n",
       "    <tr>\n",
       "      <th>2</th>\n",
       "      <td>0.149892</td>\n",
       "      <td>1333.994266</td>\n",
       "      <td>2.025419</td>\n",
       "      <td>0.074822</td>\n",
       "      <td>2</td>\n",
       "      <td>512</td>\n",
       "    </tr>\n",
       "  </tbody>\n",
       "</table>\n",
       "</div>"
      ],
      "text/plain": [
       "   silhouette_score  calinski_harabasz_score  davies_bouldin_score  Fit_Time  \\\n",
       "0          0.118935              1361.788266              2.140628  0.995648   \n",
       "3          0.119751              1361.239351              2.132719  0.103506   \n",
       "1          0.112108              1355.976603              2.160696  0.094072   \n",
       "2          0.149892              1333.994266              2.025419  0.074822   \n",
       "\n",
       "   n_clusters  batch_size  \n",
       "0           2         128  \n",
       "3           2        1024  \n",
       "1           2         256  \n",
       "2           2         512  "
      ]
     },
     "execution_count": 12,
     "metadata": {},
     "output_type": "execute_result"
    }
   ],
   "source": [
    "results_grid_3['kMeans'].sort_values('calinski_harabasz_score', axis=0, ascending=False).head(4)"
   ]
  },
  {
   "cell_type": "code",
   "execution_count": 13,
   "id": "8fcb61d6",
   "metadata": {
    "scrolled": false
   },
   "outputs": [
    {
     "data": {
      "text/plain": [
       "MiniBatchKMeans(batch_size=512, n_clusters=2, random_state=0)"
      ]
     },
     "execution_count": 13,
     "metadata": {},
     "output_type": "execute_result"
    }
   ],
   "source": [
    "kmeans = MiniBatchKMeans(n_clusters=2,\n",
    "                         random_state=0,\n",
    "                         batch_size=512)\n",
    "kmeans.fit(df_normalized)"
   ]
  },
  {
   "cell_type": "code",
   "execution_count": 14,
   "id": "e0805140",
   "metadata": {},
   "outputs": [
    {
     "data": {
      "text/plain": [
       "{'silhouette_score': 0.14989164962724896,\n",
       " 'calinski_harabasz_score': 1333.994266220463,\n",
       " 'davies_bouldin_score': 2.025418652841891}"
      ]
     },
     "execution_count": 14,
     "metadata": {},
     "output_type": "execute_result"
    }
   ],
   "source": [
    "get_score(df_normalized, kmeans.labels_)"
   ]
  },
  {
   "cell_type": "markdown",
   "id": "c6dab762",
   "metadata": {},
   "source": [
    "## Hierachical"
   ]
  },
  {
   "cell_type": "code",
   "execution_count": 15,
   "id": "2a4c48de",
   "metadata": {
    "scrolled": false
   },
   "outputs": [],
   "source": [
    "clusters, results_grid_3['hierarch'] =  merge_Results('/home/g0017139/UMCG_Thesis/Working_Code/Results/Set3/', 'Hierarch', df_normalized)"
   ]
  },
  {
   "cell_type": "code",
   "execution_count": 16,
   "id": "1d1332bf",
   "metadata": {
    "scrolled": false
   },
   "outputs": [
    {
     "data": {
      "text/html": [
       "<div>\n",
       "<style scoped>\n",
       "    .dataframe tbody tr th:only-of-type {\n",
       "        vertical-align: middle;\n",
       "    }\n",
       "\n",
       "    .dataframe tbody tr th {\n",
       "        vertical-align: top;\n",
       "    }\n",
       "\n",
       "    .dataframe thead th {\n",
       "        text-align: right;\n",
       "    }\n",
       "</style>\n",
       "<table border=\"1\" class=\"dataframe\">\n",
       "  <thead>\n",
       "    <tr style=\"text-align: right;\">\n",
       "      <th></th>\n",
       "      <th>n_clusters</th>\n",
       "      <th>silhouette_score</th>\n",
       "      <th>calinski_harabasz_score</th>\n",
       "      <th>davies_bouldin_score</th>\n",
       "    </tr>\n",
       "  </thead>\n",
       "  <tbody>\n",
       "    <tr>\n",
       "      <th>10</th>\n",
       "      <td>4</td>\n",
       "      <td>0.134237</td>\n",
       "      <td>765.642918</td>\n",
       "      <td>2.004267</td>\n",
       "    </tr>\n",
       "    <tr>\n",
       "      <th>8</th>\n",
       "      <td>3</td>\n",
       "      <td>0.131812</td>\n",
       "      <td>737.023991</td>\n",
       "      <td>2.470519</td>\n",
       "    </tr>\n",
       "    <tr>\n",
       "      <th>13</th>\n",
       "      <td>2</td>\n",
       "      <td>0.125887</td>\n",
       "      <td>815.872864</td>\n",
       "      <td>2.299241</td>\n",
       "    </tr>\n",
       "    <tr>\n",
       "      <th>9</th>\n",
       "      <td>6</td>\n",
       "      <td>0.064162</td>\n",
       "      <td>627.242106</td>\n",
       "      <td>2.471408</td>\n",
       "    </tr>\n",
       "  </tbody>\n",
       "</table>\n",
       "</div>"
      ],
      "text/plain": [
       "    n_clusters  silhouette_score  calinski_harabasz_score  \\\n",
       "10           4          0.134237               765.642918   \n",
       "8            3          0.131812               737.023991   \n",
       "13           2          0.125887               815.872864   \n",
       "9            6          0.064162               627.242106   \n",
       "\n",
       "    davies_bouldin_score  \n",
       "10              2.004267  \n",
       "8               2.470519  \n",
       "13              2.299241  \n",
       "9               2.471408  "
      ]
     },
     "execution_count": 16,
     "metadata": {},
     "output_type": "execute_result"
    }
   ],
   "source": [
    "results_grid_3['hierarch'].sort_values('silhouette_score', axis=0, ascending=False).head(4)"
   ]
  },
  {
   "cell_type": "code",
   "execution_count": 17,
   "id": "a3553b7d",
   "metadata": {
    "scrolled": false
   },
   "outputs": [
    {
     "data": {
      "text/html": [
       "<div>\n",
       "<style scoped>\n",
       "    .dataframe tbody tr th:only-of-type {\n",
       "        vertical-align: middle;\n",
       "    }\n",
       "\n",
       "    .dataframe tbody tr th {\n",
       "        vertical-align: top;\n",
       "    }\n",
       "\n",
       "    .dataframe thead th {\n",
       "        text-align: right;\n",
       "    }\n",
       "</style>\n",
       "<table border=\"1\" class=\"dataframe\">\n",
       "  <thead>\n",
       "    <tr style=\"text-align: right;\">\n",
       "      <th></th>\n",
       "      <th>n_clusters</th>\n",
       "      <th>silhouette_score</th>\n",
       "      <th>calinski_harabasz_score</th>\n",
       "      <th>davies_bouldin_score</th>\n",
       "    </tr>\n",
       "  </thead>\n",
       "  <tbody>\n",
       "    <tr>\n",
       "      <th>13</th>\n",
       "      <td>2</td>\n",
       "      <td>0.125887</td>\n",
       "      <td>815.872864</td>\n",
       "      <td>2.299241</td>\n",
       "    </tr>\n",
       "    <tr>\n",
       "      <th>10</th>\n",
       "      <td>4</td>\n",
       "      <td>0.134237</td>\n",
       "      <td>765.642918</td>\n",
       "      <td>2.004267</td>\n",
       "    </tr>\n",
       "    <tr>\n",
       "      <th>8</th>\n",
       "      <td>3</td>\n",
       "      <td>0.131812</td>\n",
       "      <td>737.023991</td>\n",
       "      <td>2.470519</td>\n",
       "    </tr>\n",
       "    <tr>\n",
       "      <th>3</th>\n",
       "      <td>5</td>\n",
       "      <td>0.059688</td>\n",
       "      <td>689.817782</td>\n",
       "      <td>2.443426</td>\n",
       "    </tr>\n",
       "  </tbody>\n",
       "</table>\n",
       "</div>"
      ],
      "text/plain": [
       "    n_clusters  silhouette_score  calinski_harabasz_score  \\\n",
       "13           2          0.125887               815.872864   \n",
       "10           4          0.134237               765.642918   \n",
       "8            3          0.131812               737.023991   \n",
       "3            5          0.059688               689.817782   \n",
       "\n",
       "    davies_bouldin_score  \n",
       "13              2.299241  \n",
       "10              2.004267  \n",
       "8               2.470519  \n",
       "3               2.443426  "
      ]
     },
     "execution_count": 17,
     "metadata": {},
     "output_type": "execute_result"
    }
   ],
   "source": [
    "results_grid_3['hierarch'].sort_values('calinski_harabasz_score', axis=0, ascending=False).head(4)"
   ]
  },
  {
   "cell_type": "code",
   "execution_count": 18,
   "id": "85eb265a",
   "metadata": {},
   "outputs": [
    {
     "data": {
      "text/plain": [
       "{'silhouette_score': 0.12588674056625399,\n",
       " 'calinski_harabasz_score': 815.8728638997788,\n",
       " 'davies_bouldin_score': 2.299240732627995}"
      ]
     },
     "execution_count": 18,
     "metadata": {},
     "output_type": "execute_result"
    }
   ],
   "source": [
    "get_score(df_normalized, clusters['2'])"
   ]
  },
  {
   "cell_type": "code",
   "execution_count": 19,
   "id": "1bb0a98a",
   "metadata": {},
   "outputs": [],
   "source": [
    "with open('/home/g0017139/UMCG_Thesis/Working_Code/Results/Set3/MergedClustersHierarch.pkl', 'wb') as f:\n",
    "    pickle.dump(clusters, f, protocol=pickle.HIGHEST_PROTOCOL)"
   ]
  },
  {
   "cell_type": "markdown",
   "id": "ef3e642f",
   "metadata": {},
   "source": [
    "## UMAP + DBSCAN"
   ]
  },
  {
   "cell_type": "code",
   "execution_count": 20,
   "id": "dde69a6c",
   "metadata": {
    "scrolled": false
   },
   "outputs": [],
   "source": [
    "with open('/home/g0017139/UMCG_Thesis/Working_Code/Results/Set3/dbscan.pkl', 'rb') as f:\n",
    "        results_grid_3['dbscan'] = pickle.load(f)"
   ]
  },
  {
   "cell_type": "code",
   "execution_count": 21,
   "id": "8a0fdca9",
   "metadata": {
    "scrolled": false
   },
   "outputs": [
    {
     "data": {
      "text/html": [
       "<div>\n",
       "<style scoped>\n",
       "    .dataframe tbody tr th:only-of-type {\n",
       "        vertical-align: middle;\n",
       "    }\n",
       "\n",
       "    .dataframe tbody tr th {\n",
       "        vertical-align: top;\n",
       "    }\n",
       "\n",
       "    .dataframe thead th {\n",
       "        text-align: right;\n",
       "    }\n",
       "</style>\n",
       "<table border=\"1\" class=\"dataframe\">\n",
       "  <thead>\n",
       "    <tr style=\"text-align: right;\">\n",
       "      <th></th>\n",
       "      <th>silhouette_score</th>\n",
       "      <th>calinski_harabasz_score</th>\n",
       "      <th>davies_bouldin_score</th>\n",
       "      <th>Fit_Time</th>\n",
       "      <th>DimReduction__n_neighbors</th>\n",
       "      <th>DimReduction__min_dist</th>\n",
       "      <th>DimReduction__n_components</th>\n",
       "      <th>Clustering__min_cluster_size</th>\n",
       "      <th>Clustering__min_samples</th>\n",
       "      <th>Clustering__cluster_selection_epsilon</th>\n",
       "      <th>Clustering__cluster_selection_method</th>\n",
       "      <th>n_clusters</th>\n",
       "    </tr>\n",
       "  </thead>\n",
       "  <tbody>\n",
       "    <tr>\n",
       "      <th>740</th>\n",
       "      <td>0.340171</td>\n",
       "      <td>629.62311</td>\n",
       "      <td>1.530836</td>\n",
       "      <td>38.771169</td>\n",
       "      <td>50</td>\n",
       "      <td>0.5</td>\n",
       "      <td>10</td>\n",
       "      <td>100</td>\n",
       "      <td>25</td>\n",
       "      <td>0.5</td>\n",
       "      <td>eom</td>\n",
       "      <td>2</td>\n",
       "    </tr>\n",
       "    <tr>\n",
       "      <th>736</th>\n",
       "      <td>0.340171</td>\n",
       "      <td>629.62311</td>\n",
       "      <td>1.530836</td>\n",
       "      <td>38.924523</td>\n",
       "      <td>50</td>\n",
       "      <td>0.5</td>\n",
       "      <td>10</td>\n",
       "      <td>50</td>\n",
       "      <td>100</td>\n",
       "      <td>1.0</td>\n",
       "      <td>eom</td>\n",
       "      <td>2</td>\n",
       "    </tr>\n",
       "    <tr>\n",
       "      <th>730</th>\n",
       "      <td>0.340171</td>\n",
       "      <td>629.62311</td>\n",
       "      <td>1.530836</td>\n",
       "      <td>42.138569</td>\n",
       "      <td>50</td>\n",
       "      <td>0.5</td>\n",
       "      <td>10</td>\n",
       "      <td>50</td>\n",
       "      <td>50</td>\n",
       "      <td>1.0</td>\n",
       "      <td>eom</td>\n",
       "      <td>2</td>\n",
       "    </tr>\n",
       "    <tr>\n",
       "      <th>268</th>\n",
       "      <td>0.340171</td>\n",
       "      <td>629.62311</td>\n",
       "      <td>1.530836</td>\n",
       "      <td>27.277199</td>\n",
       "      <td>25</td>\n",
       "      <td>0.5</td>\n",
       "      <td>10</td>\n",
       "      <td>100</td>\n",
       "      <td>100</td>\n",
       "      <td>1.0</td>\n",
       "      <td>eom</td>\n",
       "      <td>2</td>\n",
       "    </tr>\n",
       "    <tr>\n",
       "      <th>732</th>\n",
       "      <td>0.340171</td>\n",
       "      <td>629.62311</td>\n",
       "      <td>1.530836</td>\n",
       "      <td>40.799728</td>\n",
       "      <td>50</td>\n",
       "      <td>0.5</td>\n",
       "      <td>10</td>\n",
       "      <td>50</td>\n",
       "      <td>100</td>\n",
       "      <td>0.1</td>\n",
       "      <td>eom</td>\n",
       "      <td>2</td>\n",
       "    </tr>\n",
       "  </tbody>\n",
       "</table>\n",
       "</div>"
      ],
      "text/plain": [
       "     silhouette_score  calinski_harabasz_score  davies_bouldin_score  \\\n",
       "740          0.340171                629.62311              1.530836   \n",
       "736          0.340171                629.62311              1.530836   \n",
       "730          0.340171                629.62311              1.530836   \n",
       "268          0.340171                629.62311              1.530836   \n",
       "732          0.340171                629.62311              1.530836   \n",
       "\n",
       "      Fit_Time  DimReduction__n_neighbors  DimReduction__min_dist  \\\n",
       "740  38.771169                         50                     0.5   \n",
       "736  38.924523                         50                     0.5   \n",
       "730  42.138569                         50                     0.5   \n",
       "268  27.277199                         25                     0.5   \n",
       "732  40.799728                         50                     0.5   \n",
       "\n",
       "     DimReduction__n_components  Clustering__min_cluster_size  \\\n",
       "740                          10                           100   \n",
       "736                          10                            50   \n",
       "730                          10                            50   \n",
       "268                          10                           100   \n",
       "732                          10                            50   \n",
       "\n",
       "     Clustering__min_samples  Clustering__cluster_selection_epsilon  \\\n",
       "740                       25                                    0.5   \n",
       "736                      100                                    1.0   \n",
       "730                       50                                    1.0   \n",
       "268                      100                                    1.0   \n",
       "732                      100                                    0.1   \n",
       "\n",
       "    Clustering__cluster_selection_method  n_clusters  \n",
       "740                                  eom           2  \n",
       "736                                  eom           2  \n",
       "730                                  eom           2  \n",
       "268                                  eom           2  \n",
       "732                                  eom           2  "
      ]
     },
     "execution_count": 21,
     "metadata": {},
     "output_type": "execute_result"
    }
   ],
   "source": [
    "results_grid_3['dbscan'].sort_values('silhouette_score', axis=0, ascending=False).head()"
   ]
  },
  {
   "cell_type": "code",
   "execution_count": 22,
   "id": "f360dd3f",
   "metadata": {
    "scrolled": false
   },
   "outputs": [
    {
     "data": {
      "text/html": [
       "<div>\n",
       "<style scoped>\n",
       "    .dataframe tbody tr th:only-of-type {\n",
       "        vertical-align: middle;\n",
       "    }\n",
       "\n",
       "    .dataframe tbody tr th {\n",
       "        vertical-align: top;\n",
       "    }\n",
       "\n",
       "    .dataframe thead th {\n",
       "        text-align: right;\n",
       "    }\n",
       "</style>\n",
       "<table border=\"1\" class=\"dataframe\">\n",
       "  <thead>\n",
       "    <tr style=\"text-align: right;\">\n",
       "      <th></th>\n",
       "      <th>silhouette_score</th>\n",
       "      <th>calinski_harabasz_score</th>\n",
       "      <th>davies_bouldin_score</th>\n",
       "      <th>Fit_Time</th>\n",
       "      <th>DimReduction__n_neighbors</th>\n",
       "      <th>DimReduction__min_dist</th>\n",
       "      <th>DimReduction__n_components</th>\n",
       "      <th>Clustering__min_cluster_size</th>\n",
       "      <th>Clustering__min_samples</th>\n",
       "      <th>Clustering__cluster_selection_epsilon</th>\n",
       "      <th>Clustering__cluster_selection_method</th>\n",
       "      <th>n_clusters</th>\n",
       "    </tr>\n",
       "  </thead>\n",
       "  <tbody>\n",
       "    <tr>\n",
       "      <th>808</th>\n",
       "      <td>0.340171</td>\n",
       "      <td>629.62311</td>\n",
       "      <td>1.530836</td>\n",
       "      <td>39.087287</td>\n",
       "      <td>50</td>\n",
       "      <td>0.5</td>\n",
       "      <td>2</td>\n",
       "      <td>100</td>\n",
       "      <td>100</td>\n",
       "      <td>1.0</td>\n",
       "      <td>eom</td>\n",
       "      <td>2</td>\n",
       "    </tr>\n",
       "    <tr>\n",
       "      <th>750</th>\n",
       "      <td>0.340171</td>\n",
       "      <td>629.62311</td>\n",
       "      <td>1.530836</td>\n",
       "      <td>40.780310</td>\n",
       "      <td>50</td>\n",
       "      <td>0.5</td>\n",
       "      <td>10</td>\n",
       "      <td>100</td>\n",
       "      <td>100</td>\n",
       "      <td>0.1</td>\n",
       "      <td>eom</td>\n",
       "      <td>2</td>\n",
       "    </tr>\n",
       "    <tr>\n",
       "      <th>754</th>\n",
       "      <td>0.340171</td>\n",
       "      <td>629.62311</td>\n",
       "      <td>1.530836</td>\n",
       "      <td>43.609672</td>\n",
       "      <td>50</td>\n",
       "      <td>0.5</td>\n",
       "      <td>10</td>\n",
       "      <td>100</td>\n",
       "      <td>100</td>\n",
       "      <td>1.0</td>\n",
       "      <td>eom</td>\n",
       "      <td>2</td>\n",
       "    </tr>\n",
       "    <tr>\n",
       "      <th>1254</th>\n",
       "      <td>0.340171</td>\n",
       "      <td>629.62311</td>\n",
       "      <td>1.530836</td>\n",
       "      <td>46.790243</td>\n",
       "      <td>100</td>\n",
       "      <td>0.5</td>\n",
       "      <td>2</td>\n",
       "      <td>25</td>\n",
       "      <td>100</td>\n",
       "      <td>0.1</td>\n",
       "      <td>eom</td>\n",
       "      <td>2</td>\n",
       "    </tr>\n",
       "  </tbody>\n",
       "</table>\n",
       "</div>"
      ],
      "text/plain": [
       "      silhouette_score  calinski_harabasz_score  davies_bouldin_score  \\\n",
       "808           0.340171                629.62311              1.530836   \n",
       "750           0.340171                629.62311              1.530836   \n",
       "754           0.340171                629.62311              1.530836   \n",
       "1254          0.340171                629.62311              1.530836   \n",
       "\n",
       "       Fit_Time  DimReduction__n_neighbors  DimReduction__min_dist  \\\n",
       "808   39.087287                         50                     0.5   \n",
       "750   40.780310                         50                     0.5   \n",
       "754   43.609672                         50                     0.5   \n",
       "1254  46.790243                        100                     0.5   \n",
       "\n",
       "      DimReduction__n_components  Clustering__min_cluster_size  \\\n",
       "808                            2                           100   \n",
       "750                           10                           100   \n",
       "754                           10                           100   \n",
       "1254                           2                            25   \n",
       "\n",
       "      Clustering__min_samples  Clustering__cluster_selection_epsilon  \\\n",
       "808                       100                                    1.0   \n",
       "750                       100                                    0.1   \n",
       "754                       100                                    1.0   \n",
       "1254                      100                                    0.1   \n",
       "\n",
       "     Clustering__cluster_selection_method  n_clusters  \n",
       "808                                   eom           2  \n",
       "750                                   eom           2  \n",
       "754                                   eom           2  \n",
       "1254                                  eom           2  "
      ]
     },
     "execution_count": 22,
     "metadata": {},
     "output_type": "execute_result"
    }
   ],
   "source": [
    "results_grid_3['dbscan'].sort_values('calinski_harabasz_score', axis=0, ascending=False).head(4)"
   ]
  },
  {
   "cell_type": "code",
   "execution_count": 23,
   "id": "8be32a41",
   "metadata": {
    "scrolled": true
   },
   "outputs": [
    {
     "data": {
      "text/plain": [
       "Pipeline(steps=[('DimReduction',\n",
       "                 UMAP(dens_frac=0.0, dens_lambda=0.0, min_dist=0.5,\n",
       "                      n_components=50, n_neighbors=50, random_state=42)),\n",
       "                ('Clustering',\n",
       "                 HDBSCAN(cluster_selection_epsilon=1.0, min_cluster_size=25,\n",
       "                         min_samples=100))])"
      ]
     },
     "execution_count": 23,
     "metadata": {},
     "output_type": "execute_result"
    }
   ],
   "source": [
    "pipe = Pipeline([('DimReduction', \n",
    "                  umap.UMAP(\n",
    "                      n_neighbors=50,\n",
    "                      min_dist=0.5,\n",
    "                      n_components=50,\n",
    "                      random_state=42)),\n",
    "                 ('Clustering', \n",
    "                 hdbscan.HDBSCAN(min_cluster_size=25,\n",
    "                                min_samples=100,\n",
    "                                cluster_selection_epsilon=1.0,\n",
    "                                cluster_selection_method='eom'))\n",
    "                ])\n",
    "pipe.fit(df_normalized)"
   ]
  },
  {
   "cell_type": "code",
   "execution_count": 24,
   "id": "3c62f285",
   "metadata": {
    "scrolled": false
   },
   "outputs": [
    {
     "data": {
      "text/plain": [
       "{'silhouette_score': 0.34017073834245265,\n",
       " 'calinski_harabasz_score': 629.6231101637583,\n",
       " 'davies_bouldin_score': 1.530836481901089}"
      ]
     },
     "execution_count": 24,
     "metadata": {},
     "output_type": "execute_result"
    }
   ],
   "source": [
    "get_score(df_normalized, pipe['Clustering'].labels_)"
   ]
  },
  {
   "cell_type": "markdown",
   "id": "85834e14",
   "metadata": {},
   "source": [
    "## HDDC"
   ]
  },
  {
   "cell_type": "code",
   "execution_count": 27,
   "id": "9ea6408e",
   "metadata": {
    "scrolled": false
   },
   "outputs": [],
   "source": [
    "clusters, results_grid_3['hddc'], bic_df =  merge_Results('/home/g0017139/UMCG_Thesis/Working_Code/Results/Set3/', 'HDDC', df_normalized)"
   ]
  },
  {
   "cell_type": "code",
   "execution_count": 28,
   "id": "6d7064b0",
   "metadata": {
    "scrolled": false
   },
   "outputs": [
    {
     "data": {
      "text/html": [
       "<div>\n",
       "<style scoped>\n",
       "    .dataframe tbody tr th:only-of-type {\n",
       "        vertical-align: middle;\n",
       "    }\n",
       "\n",
       "    .dataframe tbody tr th {\n",
       "        vertical-align: top;\n",
       "    }\n",
       "\n",
       "    .dataframe thead th {\n",
       "        text-align: right;\n",
       "    }\n",
       "</style>\n",
       "<table border=\"1\" class=\"dataframe\">\n",
       "  <thead>\n",
       "    <tr style=\"text-align: right;\">\n",
       "      <th></th>\n",
       "      <th>n_clusters</th>\n",
       "      <th>silhouette_score</th>\n",
       "      <th>calinski_harabasz_score</th>\n",
       "      <th>davies_bouldin_score</th>\n",
       "    </tr>\n",
       "  </thead>\n",
       "  <tbody>\n",
       "    <tr>\n",
       "      <th>3</th>\n",
       "      <td>8</td>\n",
       "      <td>0.064705</td>\n",
       "      <td>498.799162</td>\n",
       "      <td>2.371565</td>\n",
       "    </tr>\n",
       "    <tr>\n",
       "      <th>5</th>\n",
       "      <td>6</td>\n",
       "      <td>0.055544</td>\n",
       "      <td>475.664813</td>\n",
       "      <td>2.912394</td>\n",
       "    </tr>\n",
       "    <tr>\n",
       "      <th>8</th>\n",
       "      <td>10</td>\n",
       "      <td>0.053181</td>\n",
       "      <td>429.416490</td>\n",
       "      <td>2.687975</td>\n",
       "    </tr>\n",
       "    <tr>\n",
       "      <th>9</th>\n",
       "      <td>12</td>\n",
       "      <td>0.038021</td>\n",
       "      <td>386.022327</td>\n",
       "      <td>2.867803</td>\n",
       "    </tr>\n",
       "    <tr>\n",
       "      <th>7</th>\n",
       "      <td>4</td>\n",
       "      <td>0.033622</td>\n",
       "      <td>348.701800</td>\n",
       "      <td>2.959841</td>\n",
       "    </tr>\n",
       "  </tbody>\n",
       "</table>\n",
       "</div>"
      ],
      "text/plain": [
       "   n_clusters  silhouette_score  calinski_harabasz_score  davies_bouldin_score\n",
       "3           8          0.064705               498.799162              2.371565\n",
       "5           6          0.055544               475.664813              2.912394\n",
       "8          10          0.053181               429.416490              2.687975\n",
       "9          12          0.038021               386.022327              2.867803\n",
       "7           4          0.033622               348.701800              2.959841"
      ]
     },
     "execution_count": 28,
     "metadata": {},
     "output_type": "execute_result"
    }
   ],
   "source": [
    "results_grid_3['hddc'].sort_values('silhouette_score', axis=0, ascending=False).head()"
   ]
  },
  {
   "cell_type": "code",
   "execution_count": 29,
   "id": "19a1ebc3",
   "metadata": {
    "scrolled": false
   },
   "outputs": [
    {
     "data": {
      "text/html": [
       "<div>\n",
       "<style scoped>\n",
       "    .dataframe tbody tr th:only-of-type {\n",
       "        vertical-align: middle;\n",
       "    }\n",
       "\n",
       "    .dataframe tbody tr th {\n",
       "        vertical-align: top;\n",
       "    }\n",
       "\n",
       "    .dataframe thead th {\n",
       "        text-align: right;\n",
       "    }\n",
       "</style>\n",
       "<table border=\"1\" class=\"dataframe\">\n",
       "  <thead>\n",
       "    <tr style=\"text-align: right;\">\n",
       "      <th></th>\n",
       "      <th>n_clusters</th>\n",
       "      <th>silhouette_score</th>\n",
       "      <th>calinski_harabasz_score</th>\n",
       "      <th>davies_bouldin_score</th>\n",
       "    </tr>\n",
       "  </thead>\n",
       "  <tbody>\n",
       "    <tr>\n",
       "      <th>3</th>\n",
       "      <td>8</td>\n",
       "      <td>0.064705</td>\n",
       "      <td>498.799162</td>\n",
       "      <td>2.371565</td>\n",
       "    </tr>\n",
       "    <tr>\n",
       "      <th>5</th>\n",
       "      <td>6</td>\n",
       "      <td>0.055544</td>\n",
       "      <td>475.664813</td>\n",
       "      <td>2.912394</td>\n",
       "    </tr>\n",
       "    <tr>\n",
       "      <th>1</th>\n",
       "      <td>5</td>\n",
       "      <td>0.022890</td>\n",
       "      <td>468.324839</td>\n",
       "      <td>2.773197</td>\n",
       "    </tr>\n",
       "    <tr>\n",
       "      <th>10</th>\n",
       "      <td>7</td>\n",
       "      <td>0.030595</td>\n",
       "      <td>447.758197</td>\n",
       "      <td>2.896149</td>\n",
       "    </tr>\n",
       "  </tbody>\n",
       "</table>\n",
       "</div>"
      ],
      "text/plain": [
       "    n_clusters  silhouette_score  calinski_harabasz_score  \\\n",
       "3            8          0.064705               498.799162   \n",
       "5            6          0.055544               475.664813   \n",
       "1            5          0.022890               468.324839   \n",
       "10           7          0.030595               447.758197   \n",
       "\n",
       "    davies_bouldin_score  \n",
       "3               2.371565  \n",
       "5               2.912394  \n",
       "1               2.773197  \n",
       "10              2.896149  "
      ]
     },
     "execution_count": 29,
     "metadata": {},
     "output_type": "execute_result"
    }
   ],
   "source": [
    "results_grid_3['hddc'].sort_values('calinski_harabasz_score', axis=0, ascending=False).head(4)"
   ]
  },
  {
   "cell_type": "code",
   "execution_count": 30,
   "id": "4fb6b589",
   "metadata": {
    "scrolled": false
   },
   "outputs": [
    {
     "data": {
      "text/html": [
       "<div>\n",
       "<style scoped>\n",
       "    .dataframe tbody tr th:only-of-type {\n",
       "        vertical-align: middle;\n",
       "    }\n",
       "\n",
       "    .dataframe tbody tr th {\n",
       "        vertical-align: top;\n",
       "    }\n",
       "\n",
       "    .dataframe thead th {\n",
       "        text-align: right;\n",
       "    }\n",
       "</style>\n",
       "<table border=\"1\" class=\"dataframe\">\n",
       "  <thead>\n",
       "    <tr style=\"text-align: right;\">\n",
       "      <th></th>\n",
       "      <th>model</th>\n",
       "      <th>K</th>\n",
       "      <th>threshold</th>\n",
       "      <th>LL</th>\n",
       "      <th>BIC</th>\n",
       "      <th>ICL</th>\n",
       "      <th>rank</th>\n",
       "      <th>complexity</th>\n",
       "      <th>comment</th>\n",
       "    </tr>\n",
       "  </thead>\n",
       "  <tbody>\n",
       "    <tr>\n",
       "      <th>1092</th>\n",
       "      <td>12.0</td>\n",
       "      <td>10.0</td>\n",
       "      <td>0.01</td>\n",
       "      <td>7.586122e+06</td>\n",
       "      <td>1.428560e+07</td>\n",
       "      <td>1.428542e+07</td>\n",
       "      <td>1</td>\n",
       "      <td>99972.0</td>\n",
       "      <td>0</td>\n",
       "    </tr>\n",
       "    <tr>\n",
       "      <th>504</th>\n",
       "      <td>8.0</td>\n",
       "      <td>6.0</td>\n",
       "      <td>0.01</td>\n",
       "      <td>7.369402e+06</td>\n",
       "      <td>1.426302e+07</td>\n",
       "      <td>1.426295e+07</td>\n",
       "      <td>2</td>\n",
       "      <td>53646.0</td>\n",
       "      <td>0</td>\n",
       "    </tr>\n",
       "    <tr>\n",
       "      <th>378</th>\n",
       "      <td>8.0</td>\n",
       "      <td>7.0</td>\n",
       "      <td>0.01</td>\n",
       "      <td>7.417999e+06</td>\n",
       "      <td>1.426141e+07</td>\n",
       "      <td>1.426132e+07</td>\n",
       "      <td>3</td>\n",
       "      <td>64786.0</td>\n",
       "      <td>0</td>\n",
       "    </tr>\n",
       "    <tr>\n",
       "      <th>505</th>\n",
       "      <td>12.0</td>\n",
       "      <td>7.0</td>\n",
       "      <td>0.01</td>\n",
       "      <td>7.403864e+06</td>\n",
       "      <td>1.425936e+07</td>\n",
       "      <td>1.425930e+07</td>\n",
       "      <td>4</td>\n",
       "      <td>61830.0</td>\n",
       "      <td>0</td>\n",
       "    </tr>\n",
       "  </tbody>\n",
       "</table>\n",
       "</div>"
      ],
      "text/plain": [
       "     model     K threshold            LL           BIC           ICL  rank  \\\n",
       "1092  12.0  10.0      0.01  7.586122e+06  1.428560e+07  1.428542e+07     1   \n",
       "504    8.0   6.0      0.01  7.369402e+06  1.426302e+07  1.426295e+07     2   \n",
       "378    8.0   7.0      0.01  7.417999e+06  1.426141e+07  1.426132e+07     3   \n",
       "505   12.0   7.0      0.01  7.403864e+06  1.425936e+07  1.425930e+07     4   \n",
       "\n",
       "      complexity comment  \n",
       "1092     99972.0       0  \n",
       "504      53646.0       0  \n",
       "378      64786.0       0  \n",
       "505      61830.0       0  "
      ]
     },
     "execution_count": 30,
     "metadata": {},
     "output_type": "execute_result"
    }
   ],
   "source": [
    "bic_df.head(4)"
   ]
  },
  {
   "cell_type": "code",
   "execution_count": 31,
   "id": "b8c86806",
   "metadata": {
    "scrolled": false
   },
   "outputs": [
    {
     "data": {
      "text/plain": [
       "{'silhouette_score': 0.024128409722691153,\n",
       " 'calinski_harabasz_score': 396.54654228173393,\n",
       " 'davies_bouldin_score': 3.6515097695441505}"
      ]
     },
     "execution_count": 31,
     "metadata": {},
     "output_type": "execute_result"
    }
   ],
   "source": [
    "get_score(df_normalized, clusters['2'])"
   ]
  },
  {
   "cell_type": "code",
   "execution_count": 32,
   "id": "38eccfac",
   "metadata": {},
   "outputs": [],
   "source": [
    "with open('/home/g0017139/UMCG_Thesis/Working_Code/Results/Set3/Merged_results.pkl', 'wb') as f:\n",
    "    pickle.dump(results_grid_3, f, protocol=pickle.HIGHEST_PROTOCOL)"
   ]
  },
  {
   "cell_type": "code",
   "execution_count": 33,
   "id": "8fafc8fe",
   "metadata": {},
   "outputs": [],
   "source": [
    "with open('/home/g0017139/UMCG_Thesis/Working_Code/Results/Set3/Merged_GridHDDC.pkl', 'wb') as f:\n",
    "    pickle.dump(bic_df, f, protocol=pickle.HIGHEST_PROTOCOL)"
   ]
  },
  {
   "cell_type": "code",
   "execution_count": 34,
   "id": "da2b83dd",
   "metadata": {},
   "outputs": [],
   "source": [
    "with open('/home/g0017139/UMCG_Thesis/Working_Code/Results/Set3/MergedClustersHDDC.pkl', 'wb') as f:\n",
    "    pickle.dump(clusters, f, protocol=pickle.HIGHEST_PROTOCOL)"
   ]
  },
  {
   "cell_type": "markdown",
   "id": "ecfb28e1",
   "metadata": {},
   "source": [
    "# Set3"
   ]
  },
  {
   "cell_type": "code",
   "execution_count": 35,
   "id": "eba4363b",
   "metadata": {
    "scrolled": true
   },
   "outputs": [],
   "source": [
    "df, df_normalized, Type_df = load_sets(4)"
   ]
  },
  {
   "cell_type": "markdown",
   "id": "9a45afe5",
   "metadata": {},
   "source": [
    "## Hierarchical clustering"
   ]
  },
  {
   "cell_type": "code",
   "execution_count": 37,
   "id": "7bdb4b77",
   "metadata": {
    "scrolled": false
   },
   "outputs": [
    {
     "name": "stdout",
     "output_type": "stream",
     "text": [
      "GO Sample\n",
      "GO Sample\n",
      "GO Sample\n",
      "GO Sample\n",
      "GO Sample\n",
      "GO Sample\n",
      "GO Sample\n",
      "GO Sample\n",
      "GO Sample\n",
      "GO Sample\n",
      "GO Sample\n",
      "GO Sample\n",
      "GO Sample\n",
      "GO Sample\n",
      "GO Sample\n",
      "GO Sample\n",
      "GO Sample\n",
      "GO Sample\n",
      "GO Sample\n",
      "GO Sample\n",
      "GO Sample\n",
      "GO Sample\n",
      "GO Sample\n",
      "GO Sample\n",
      "GO Sample\n",
      "GO Sample\n",
      "GO Sample\n",
      "GO Sample\n"
     ]
    }
   ],
   "source": [
    "results_grid_4 = {}\n",
    "clusters, results_grid_4['Hierarch'] =  merge_Results('/home/g0017139/UMCG_Thesis/Working_Code/Results/Set4/', 'Hierarch', df_normalized)"
   ]
  },
  {
   "cell_type": "code",
   "execution_count": 38,
   "id": "9aa8bac5",
   "metadata": {
    "scrolled": true
   },
   "outputs": [
    {
     "data": {
      "text/html": [
       "<div>\n",
       "<style scoped>\n",
       "    .dataframe tbody tr th:only-of-type {\n",
       "        vertical-align: middle;\n",
       "    }\n",
       "\n",
       "    .dataframe tbody tr th {\n",
       "        vertical-align: top;\n",
       "    }\n",
       "\n",
       "    .dataframe thead th {\n",
       "        text-align: right;\n",
       "    }\n",
       "</style>\n",
       "<table border=\"1\" class=\"dataframe\">\n",
       "  <thead>\n",
       "    <tr style=\"text-align: right;\">\n",
       "      <th></th>\n",
       "      <th>n_clusters</th>\n",
       "      <th>silhouette_score</th>\n",
       "      <th>calinski_harabasz_score</th>\n",
       "      <th>davies_bouldin_score</th>\n",
       "    </tr>\n",
       "  </thead>\n",
       "  <tbody>\n",
       "    <tr>\n",
       "      <th>7</th>\n",
       "      <td>14</td>\n",
       "      <td>0.070960</td>\n",
       "      <td>202.337064</td>\n",
       "      <td>3.622430</td>\n",
       "    </tr>\n",
       "    <tr>\n",
       "      <th>12</th>\n",
       "      <td>15</td>\n",
       "      <td>0.066621</td>\n",
       "      <td>193.715501</td>\n",
       "      <td>3.592057</td>\n",
       "    </tr>\n",
       "    <tr>\n",
       "      <th>0</th>\n",
       "      <td>13</td>\n",
       "      <td>0.065438</td>\n",
       "      <td>208.544113</td>\n",
       "      <td>3.489262</td>\n",
       "    </tr>\n",
       "    <tr>\n",
       "      <th>8</th>\n",
       "      <td>3</td>\n",
       "      <td>0.062752</td>\n",
       "      <td>363.632244</td>\n",
       "      <td>4.465577</td>\n",
       "    </tr>\n",
       "  </tbody>\n",
       "</table>\n",
       "</div>"
      ],
      "text/plain": [
       "    n_clusters  silhouette_score  calinski_harabasz_score  \\\n",
       "7           14          0.070960               202.337064   \n",
       "12          15          0.066621               193.715501   \n",
       "0           13          0.065438               208.544113   \n",
       "8            3          0.062752               363.632244   \n",
       "\n",
       "    davies_bouldin_score  \n",
       "7               3.622430  \n",
       "12              3.592057  \n",
       "0               3.489262  \n",
       "8               4.465577  "
      ]
     },
     "execution_count": 38,
     "metadata": {},
     "output_type": "execute_result"
    }
   ],
   "source": [
    "results_grid_4['Hierarch'].sort_values('silhouette_score', axis=0, ascending=False).head(4)"
   ]
  },
  {
   "cell_type": "code",
   "execution_count": 39,
   "id": "e235a955",
   "metadata": {
    "scrolled": true
   },
   "outputs": [
    {
     "data": {
      "text/html": [
       "<div>\n",
       "<style scoped>\n",
       "    .dataframe tbody tr th:only-of-type {\n",
       "        vertical-align: middle;\n",
       "    }\n",
       "\n",
       "    .dataframe tbody tr th {\n",
       "        vertical-align: top;\n",
       "    }\n",
       "\n",
       "    .dataframe thead th {\n",
       "        text-align: right;\n",
       "    }\n",
       "</style>\n",
       "<table border=\"1\" class=\"dataframe\">\n",
       "  <thead>\n",
       "    <tr style=\"text-align: right;\">\n",
       "      <th></th>\n",
       "      <th>n_clusters</th>\n",
       "      <th>silhouette_score</th>\n",
       "      <th>calinski_harabasz_score</th>\n",
       "      <th>davies_bouldin_score</th>\n",
       "    </tr>\n",
       "  </thead>\n",
       "  <tbody>\n",
       "    <tr>\n",
       "      <th>8</th>\n",
       "      <td>3</td>\n",
       "      <td>0.062752</td>\n",
       "      <td>363.632244</td>\n",
       "      <td>4.465577</td>\n",
       "    </tr>\n",
       "    <tr>\n",
       "      <th>13</th>\n",
       "      <td>2</td>\n",
       "      <td>0.053204</td>\n",
       "      <td>328.626991</td>\n",
       "      <td>5.395752</td>\n",
       "    </tr>\n",
       "    <tr>\n",
       "      <th>10</th>\n",
       "      <td>4</td>\n",
       "      <td>0.047767</td>\n",
       "      <td>319.223193</td>\n",
       "      <td>4.226990</td>\n",
       "    </tr>\n",
       "    <tr>\n",
       "      <th>3</th>\n",
       "      <td>5</td>\n",
       "      <td>0.039610</td>\n",
       "      <td>282.414376</td>\n",
       "      <td>4.178298</td>\n",
       "    </tr>\n",
       "  </tbody>\n",
       "</table>\n",
       "</div>"
      ],
      "text/plain": [
       "    n_clusters  silhouette_score  calinski_harabasz_score  \\\n",
       "8            3          0.062752               363.632244   \n",
       "13           2          0.053204               328.626991   \n",
       "10           4          0.047767               319.223193   \n",
       "3            5          0.039610               282.414376   \n",
       "\n",
       "    davies_bouldin_score  \n",
       "8               4.465577  \n",
       "13              5.395752  \n",
       "10              4.226990  \n",
       "3               4.178298  "
      ]
     },
     "execution_count": 39,
     "metadata": {},
     "output_type": "execute_result"
    }
   ],
   "source": [
    "results_grid_4['Hierarch'].sort_values('calinski_harabasz_score', axis=0, ascending=False).head(4)"
   ]
  },
  {
   "cell_type": "code",
   "execution_count": 40,
   "id": "13b3f3c2",
   "metadata": {},
   "outputs": [
    {
     "name": "stdout",
     "output_type": "stream",
     "text": [
      "GO Sample\n",
      "GO Sample\n"
     ]
    },
    {
     "data": {
      "text/plain": [
       "{'silhouette_score': 0.05459389405738467,\n",
       " 'calinski_harabasz_score': 328.6269912164971,\n",
       " 'davies_bouldin_score': 5.395752485891356}"
      ]
     },
     "execution_count": 40,
     "metadata": {},
     "output_type": "execute_result"
    }
   ],
   "source": [
    "get_score(df_normalized, clusters['2'])"
   ]
  },
  {
   "cell_type": "code",
   "execution_count": 41,
   "id": "5c744292",
   "metadata": {},
   "outputs": [],
   "source": [
    "with open('/home/g0017139/UMCG_Thesis/Working_Code/Results/Set4/MergedClustersHierarch.pkl', 'wb') as f:\n",
    "    pickle.dump(clusters, f, protocol=pickle.HIGHEST_PROTOCOL)"
   ]
  },
  {
   "cell_type": "markdown",
   "id": "5f28712d",
   "metadata": {},
   "source": [
    "## Kmeans"
   ]
  },
  {
   "cell_type": "code",
   "execution_count": 43,
   "id": "c394b294",
   "metadata": {
    "scrolled": false
   },
   "outputs": [],
   "source": [
    "with open(\"/home/g0017139/UMCG_Thesis/Working_Code/Results/Set4/kmeans.pkl\", 'rb') as f:\n",
    "        results_grid_4['kMeans'] = pickle.load(f)"
   ]
  },
  {
   "cell_type": "code",
   "execution_count": 44,
   "id": "dd6c2253",
   "metadata": {
    "scrolled": false
   },
   "outputs": [
    {
     "data": {
      "text/html": [
       "<div>\n",
       "<style scoped>\n",
       "    .dataframe tbody tr th:only-of-type {\n",
       "        vertical-align: middle;\n",
       "    }\n",
       "\n",
       "    .dataframe tbody tr th {\n",
       "        vertical-align: top;\n",
       "    }\n",
       "\n",
       "    .dataframe thead th {\n",
       "        text-align: right;\n",
       "    }\n",
       "</style>\n",
       "<table border=\"1\" class=\"dataframe\">\n",
       "  <thead>\n",
       "    <tr style=\"text-align: right;\">\n",
       "      <th></th>\n",
       "      <th>silhouette_score</th>\n",
       "      <th>calinski_harabasz_score</th>\n",
       "      <th>davies_bouldin_score</th>\n",
       "      <th>Fit_Time</th>\n",
       "      <th>n_clusters</th>\n",
       "      <th>batch_size</th>\n",
       "    </tr>\n",
       "  </thead>\n",
       "  <tbody>\n",
       "    <tr>\n",
       "      <th>1</th>\n",
       "      <td>0.301160</td>\n",
       "      <td>285.554676</td>\n",
       "      <td>1.604930</td>\n",
       "      <td>3.765494</td>\n",
       "      <td>2</td>\n",
       "      <td>256</td>\n",
       "    </tr>\n",
       "    <tr>\n",
       "      <th>3</th>\n",
       "      <td>0.146398</td>\n",
       "      <td>427.135577</td>\n",
       "      <td>2.535278</td>\n",
       "      <td>7.665748</td>\n",
       "      <td>2</td>\n",
       "      <td>1024</td>\n",
       "    </tr>\n",
       "    <tr>\n",
       "      <th>2</th>\n",
       "      <td>0.108926</td>\n",
       "      <td>355.253090</td>\n",
       "      <td>4.509859</td>\n",
       "      <td>9.856236</td>\n",
       "      <td>2</td>\n",
       "      <td>512</td>\n",
       "    </tr>\n",
       "    <tr>\n",
       "      <th>10</th>\n",
       "      <td>0.094110</td>\n",
       "      <td>314.124875</td>\n",
       "      <td>3.388982</td>\n",
       "      <td>14.794719</td>\n",
       "      <td>4</td>\n",
       "      <td>512</td>\n",
       "    </tr>\n",
       "  </tbody>\n",
       "</table>\n",
       "</div>"
      ],
      "text/plain": [
       "    silhouette_score  calinski_harabasz_score  davies_bouldin_score  \\\n",
       "1           0.301160               285.554676              1.604930   \n",
       "3           0.146398               427.135577              2.535278   \n",
       "2           0.108926               355.253090              4.509859   \n",
       "10          0.094110               314.124875              3.388982   \n",
       "\n",
       "     Fit_Time  n_clusters  batch_size  \n",
       "1    3.765494           2         256  \n",
       "3    7.665748           2        1024  \n",
       "2    9.856236           2         512  \n",
       "10  14.794719           4         512  "
      ]
     },
     "execution_count": 44,
     "metadata": {},
     "output_type": "execute_result"
    }
   ],
   "source": [
    "results_grid_4['kMeans'].sort_values('silhouette_score', axis=0, ascending=False).head(4)"
   ]
  },
  {
   "cell_type": "code",
   "execution_count": 45,
   "id": "f51fea6e",
   "metadata": {
    "scrolled": false
   },
   "outputs": [
    {
     "data": {
      "text/html": [
       "<div>\n",
       "<style scoped>\n",
       "    .dataframe tbody tr th:only-of-type {\n",
       "        vertical-align: middle;\n",
       "    }\n",
       "\n",
       "    .dataframe tbody tr th {\n",
       "        vertical-align: top;\n",
       "    }\n",
       "\n",
       "    .dataframe thead th {\n",
       "        text-align: right;\n",
       "    }\n",
       "</style>\n",
       "<table border=\"1\" class=\"dataframe\">\n",
       "  <thead>\n",
       "    <tr style=\"text-align: right;\">\n",
       "      <th></th>\n",
       "      <th>silhouette_score</th>\n",
       "      <th>calinski_harabasz_score</th>\n",
       "      <th>davies_bouldin_score</th>\n",
       "      <th>Fit_Time</th>\n",
       "      <th>n_clusters</th>\n",
       "      <th>batch_size</th>\n",
       "    </tr>\n",
       "  </thead>\n",
       "  <tbody>\n",
       "    <tr>\n",
       "      <th>3</th>\n",
       "      <td>0.146398</td>\n",
       "      <td>427.135577</td>\n",
       "      <td>2.535278</td>\n",
       "      <td>7.665748</td>\n",
       "      <td>2</td>\n",
       "      <td>1024</td>\n",
       "    </tr>\n",
       "    <tr>\n",
       "      <th>0</th>\n",
       "      <td>0.067395</td>\n",
       "      <td>406.932042</td>\n",
       "      <td>4.833783</td>\n",
       "      <td>6.548981</td>\n",
       "      <td>2</td>\n",
       "      <td>128</td>\n",
       "    </tr>\n",
       "    <tr>\n",
       "      <th>7</th>\n",
       "      <td>0.066097</td>\n",
       "      <td>389.851276</td>\n",
       "      <td>4.054005</td>\n",
       "      <td>8.252044</td>\n",
       "      <td>3</td>\n",
       "      <td>1024</td>\n",
       "    </tr>\n",
       "    <tr>\n",
       "      <th>9</th>\n",
       "      <td>0.077487</td>\n",
       "      <td>363.298433</td>\n",
       "      <td>3.879248</td>\n",
       "      <td>3.787388</td>\n",
       "      <td>4</td>\n",
       "      <td>256</td>\n",
       "    </tr>\n",
       "  </tbody>\n",
       "</table>\n",
       "</div>"
      ],
      "text/plain": [
       "   silhouette_score  calinski_harabasz_score  davies_bouldin_score  Fit_Time  \\\n",
       "3          0.146398               427.135577              2.535278  7.665748   \n",
       "0          0.067395               406.932042              4.833783  6.548981   \n",
       "7          0.066097               389.851276              4.054005  8.252044   \n",
       "9          0.077487               363.298433              3.879248  3.787388   \n",
       "\n",
       "   n_clusters  batch_size  \n",
       "3           2        1024  \n",
       "0           2         128  \n",
       "7           3        1024  \n",
       "9           4         256  "
      ]
     },
     "execution_count": 45,
     "metadata": {},
     "output_type": "execute_result"
    }
   ],
   "source": [
    "results_grid_4['kMeans'].sort_values('calinski_harabasz_score', axis=0, ascending=False).head(4)"
   ]
  },
  {
   "cell_type": "code",
   "execution_count": 46,
   "id": "000655eb",
   "metadata": {
    "scrolled": false
   },
   "outputs": [
    {
     "data": {
      "text/plain": [
       "MiniBatchKMeans(batch_size=1024, n_clusters=2, random_state=0)"
      ]
     },
     "execution_count": 46,
     "metadata": {},
     "output_type": "execute_result"
    }
   ],
   "source": [
    "kmeans = MiniBatchKMeans(n_clusters=2,\n",
    "                         random_state=0,\n",
    "                         batch_size=1024)\n",
    "kmeans.fit(df_normalized)"
   ]
  },
  {
   "cell_type": "code",
   "execution_count": 47,
   "id": "ace0c7c0",
   "metadata": {
    "scrolled": true
   },
   "outputs": [
    {
     "name": "stdout",
     "output_type": "stream",
     "text": [
      "GO Sample\n",
      "GO Sample\n"
     ]
    },
    {
     "data": {
      "text/plain": [
       "{'silhouette_score': 0.15201761458507923,\n",
       " 'calinski_harabasz_score': 427.13557667184295,\n",
       " 'davies_bouldin_score': 2.5352782783036907}"
      ]
     },
     "execution_count": 47,
     "metadata": {},
     "output_type": "execute_result"
    }
   ],
   "source": [
    "get_score(df_normalized, kmeans.labels_)"
   ]
  },
  {
   "cell_type": "markdown",
   "id": "28f85565",
   "metadata": {},
   "source": [
    "## DBSCAN + UMAP"
   ]
  },
  {
   "cell_type": "code",
   "execution_count": 48,
   "id": "55ff57dd",
   "metadata": {
    "scrolled": false
   },
   "outputs": [],
   "source": [
    "with open(\"/home/g0017139/UMCG_Thesis/Working_Code/Results/Set4/dbscan.pkl\", 'rb') as f:\n",
    "        results_grid_4['dbscan'] = pickle.load(f)"
   ]
  },
  {
   "cell_type": "code",
   "execution_count": 49,
   "id": "52a85ff4",
   "metadata": {
    "scrolled": false
   },
   "outputs": [
    {
     "data": {
      "text/html": [
       "<div>\n",
       "<style scoped>\n",
       "    .dataframe tbody tr th:only-of-type {\n",
       "        vertical-align: middle;\n",
       "    }\n",
       "\n",
       "    .dataframe tbody tr th {\n",
       "        vertical-align: top;\n",
       "    }\n",
       "\n",
       "    .dataframe thead th {\n",
       "        text-align: right;\n",
       "    }\n",
       "</style>\n",
       "<table border=\"1\" class=\"dataframe\">\n",
       "  <thead>\n",
       "    <tr style=\"text-align: right;\">\n",
       "      <th></th>\n",
       "      <th>silhouette_score</th>\n",
       "      <th>calinski_harabasz_score</th>\n",
       "      <th>davies_bouldin_score</th>\n",
       "      <th>Fit_Time</th>\n",
       "      <th>DimReduction__n_neighbors</th>\n",
       "      <th>DimReduction__min_dist</th>\n",
       "      <th>DimReduction__n_components</th>\n",
       "      <th>Clustering__min_cluster_size</th>\n",
       "      <th>Clustering__min_samples</th>\n",
       "      <th>Clustering__cluster_selection_epsilon</th>\n",
       "      <th>Clustering__cluster_selection_method</th>\n",
       "      <th>n_clusters</th>\n",
       "    </tr>\n",
       "  </thead>\n",
       "  <tbody>\n",
       "    <tr>\n",
       "      <th>856</th>\n",
       "      <td>0.320121</td>\n",
       "      <td>285.554676</td>\n",
       "      <td>1.60493</td>\n",
       "      <td>305.186532</td>\n",
       "      <td>50</td>\n",
       "      <td>1.0</td>\n",
       "      <td>50</td>\n",
       "      <td>100</td>\n",
       "      <td>50</td>\n",
       "      <td>1.0</td>\n",
       "      <td>eom</td>\n",
       "      <td>2</td>\n",
       "    </tr>\n",
       "    <tr>\n",
       "      <th>820</th>\n",
       "      <td>0.319187</td>\n",
       "      <td>285.554676</td>\n",
       "      <td>1.60493</td>\n",
       "      <td>313.165519</td>\n",
       "      <td>50</td>\n",
       "      <td>1.0</td>\n",
       "      <td>50</td>\n",
       "      <td>25</td>\n",
       "      <td>50</td>\n",
       "      <td>1.0</td>\n",
       "      <td>eom</td>\n",
       "      <td>2</td>\n",
       "    </tr>\n",
       "    <tr>\n",
       "      <th>886</th>\n",
       "      <td>0.317110</td>\n",
       "      <td>285.554676</td>\n",
       "      <td>1.60493</td>\n",
       "      <td>162.304850</td>\n",
       "      <td>50</td>\n",
       "      <td>1.0</td>\n",
       "      <td>10</td>\n",
       "      <td>50</td>\n",
       "      <td>25</td>\n",
       "      <td>1.0</td>\n",
       "      <td>eom</td>\n",
       "      <td>2</td>\n",
       "    </tr>\n",
       "    <tr>\n",
       "      <th>356</th>\n",
       "      <td>0.314472</td>\n",
       "      <td>285.554676</td>\n",
       "      <td>1.60493</td>\n",
       "      <td>188.696043</td>\n",
       "      <td>25</td>\n",
       "      <td>1.0</td>\n",
       "      <td>50</td>\n",
       "      <td>50</td>\n",
       "      <td>100</td>\n",
       "      <td>0.5</td>\n",
       "      <td>eom</td>\n",
       "      <td>2</td>\n",
       "    </tr>\n",
       "  </tbody>\n",
       "</table>\n",
       "</div>"
      ],
      "text/plain": [
       "     silhouette_score  calinski_harabasz_score  davies_bouldin_score  \\\n",
       "856          0.320121               285.554676               1.60493   \n",
       "820          0.319187               285.554676               1.60493   \n",
       "886          0.317110               285.554676               1.60493   \n",
       "356          0.314472               285.554676               1.60493   \n",
       "\n",
       "       Fit_Time  DimReduction__n_neighbors  DimReduction__min_dist  \\\n",
       "856  305.186532                         50                     1.0   \n",
       "820  313.165519                         50                     1.0   \n",
       "886  162.304850                         50                     1.0   \n",
       "356  188.696043                         25                     1.0   \n",
       "\n",
       "     DimReduction__n_components  Clustering__min_cluster_size  \\\n",
       "856                          50                           100   \n",
       "820                          50                            25   \n",
       "886                          10                            50   \n",
       "356                          50                            50   \n",
       "\n",
       "     Clustering__min_samples  Clustering__cluster_selection_epsilon  \\\n",
       "856                       50                                    1.0   \n",
       "820                       50                                    1.0   \n",
       "886                       25                                    1.0   \n",
       "356                      100                                    0.5   \n",
       "\n",
       "    Clustering__cluster_selection_method  n_clusters  \n",
       "856                                  eom           2  \n",
       "820                                  eom           2  \n",
       "886                                  eom           2  \n",
       "356                                  eom           2  "
      ]
     },
     "execution_count": 49,
     "metadata": {},
     "output_type": "execute_result"
    }
   ],
   "source": [
    "results_grid_4['dbscan'].sort_values('silhouette_score', axis=0, ascending=False).head(4)"
   ]
  },
  {
   "cell_type": "code",
   "execution_count": 50,
   "id": "3fb8739a",
   "metadata": {
    "scrolled": false
   },
   "outputs": [
    {
     "data": {
      "text/html": [
       "<div>\n",
       "<style scoped>\n",
       "    .dataframe tbody tr th:only-of-type {\n",
       "        vertical-align: middle;\n",
       "    }\n",
       "\n",
       "    .dataframe tbody tr th {\n",
       "        vertical-align: top;\n",
       "    }\n",
       "\n",
       "    .dataframe thead th {\n",
       "        text-align: right;\n",
       "    }\n",
       "</style>\n",
       "<table border=\"1\" class=\"dataframe\">\n",
       "  <thead>\n",
       "    <tr style=\"text-align: right;\">\n",
       "      <th></th>\n",
       "      <th>silhouette_score</th>\n",
       "      <th>calinski_harabasz_score</th>\n",
       "      <th>davies_bouldin_score</th>\n",
       "      <th>Fit_Time</th>\n",
       "      <th>DimReduction__n_neighbors</th>\n",
       "      <th>DimReduction__min_dist</th>\n",
       "      <th>DimReduction__n_components</th>\n",
       "      <th>Clustering__min_cluster_size</th>\n",
       "      <th>Clustering__min_samples</th>\n",
       "      <th>Clustering__cluster_selection_epsilon</th>\n",
       "      <th>Clustering__cluster_selection_method</th>\n",
       "      <th>n_clusters</th>\n",
       "    </tr>\n",
       "  </thead>\n",
       "  <tbody>\n",
       "    <tr>\n",
       "      <th>1420</th>\n",
       "      <td>0.143368</td>\n",
       "      <td>392.656581</td>\n",
       "      <td>2.255541</td>\n",
       "      <td>640.879837</td>\n",
       "      <td>100</td>\n",
       "      <td>1.0</td>\n",
       "      <td>2</td>\n",
       "      <td>25</td>\n",
       "      <td>100</td>\n",
       "      <td>1.0</td>\n",
       "      <td>eom</td>\n",
       "      <td>2</td>\n",
       "    </tr>\n",
       "    <tr>\n",
       "      <th>1430</th>\n",
       "      <td>0.154656</td>\n",
       "      <td>392.436666</td>\n",
       "      <td>2.256462</td>\n",
       "      <td>645.837430</td>\n",
       "      <td>100</td>\n",
       "      <td>1.0</td>\n",
       "      <td>2</td>\n",
       "      <td>50</td>\n",
       "      <td>50</td>\n",
       "      <td>0.5</td>\n",
       "      <td>eom</td>\n",
       "      <td>2</td>\n",
       "    </tr>\n",
       "    <tr>\n",
       "      <th>1218</th>\n",
       "      <td>0.154278</td>\n",
       "      <td>349.967024</td>\n",
       "      <td>2.021050</td>\n",
       "      <td>755.840429</td>\n",
       "      <td>100</td>\n",
       "      <td>0.5</td>\n",
       "      <td>10</td>\n",
       "      <td>50</td>\n",
       "      <td>100</td>\n",
       "      <td>0.1</td>\n",
       "      <td>eom</td>\n",
       "      <td>3</td>\n",
       "    </tr>\n",
       "    <tr>\n",
       "      <th>1146</th>\n",
       "      <td>0.152783</td>\n",
       "      <td>349.967024</td>\n",
       "      <td>2.021050</td>\n",
       "      <td>351.981237</td>\n",
       "      <td>100</td>\n",
       "      <td>0.5</td>\n",
       "      <td>50</td>\n",
       "      <td>25</td>\n",
       "      <td>100</td>\n",
       "      <td>0.1</td>\n",
       "      <td>eom</td>\n",
       "      <td>3</td>\n",
       "    </tr>\n",
       "  </tbody>\n",
       "</table>\n",
       "</div>"
      ],
      "text/plain": [
       "      silhouette_score  calinski_harabasz_score  davies_bouldin_score  \\\n",
       "1420          0.143368               392.656581              2.255541   \n",
       "1430          0.154656               392.436666              2.256462   \n",
       "1218          0.154278               349.967024              2.021050   \n",
       "1146          0.152783               349.967024              2.021050   \n",
       "\n",
       "        Fit_Time  DimReduction__n_neighbors  DimReduction__min_dist  \\\n",
       "1420  640.879837                        100                     1.0   \n",
       "1430  645.837430                        100                     1.0   \n",
       "1218  755.840429                        100                     0.5   \n",
       "1146  351.981237                        100                     0.5   \n",
       "\n",
       "      DimReduction__n_components  Clustering__min_cluster_size  \\\n",
       "1420                           2                            25   \n",
       "1430                           2                            50   \n",
       "1218                          10                            50   \n",
       "1146                          50                            25   \n",
       "\n",
       "      Clustering__min_samples  Clustering__cluster_selection_epsilon  \\\n",
       "1420                      100                                    1.0   \n",
       "1430                       50                                    0.5   \n",
       "1218                      100                                    0.1   \n",
       "1146                      100                                    0.1   \n",
       "\n",
       "     Clustering__cluster_selection_method  n_clusters  \n",
       "1420                                  eom           2  \n",
       "1430                                  eom           2  \n",
       "1218                                  eom           3  \n",
       "1146                                  eom           3  "
      ]
     },
     "execution_count": 50,
     "metadata": {},
     "output_type": "execute_result"
    }
   ],
   "source": [
    "results_grid_4['dbscan'].sort_values('calinski_harabasz_score', axis=0, ascending=False).head(4)"
   ]
  },
  {
   "cell_type": "code",
   "execution_count": null,
   "id": "f0e6cf11",
   "metadata": {
    "scrolled": false
   },
   "outputs": [],
   "source": [
    "# pipe = Pipeline([('DimReduction', \n",
    "#                   umap.UMAP(\n",
    "#                       n_neighbors=50,\n",
    "#                       min_dist=1.0,\n",
    "#                       n_components=50,\n",
    "#                       random_state=1)),\n",
    "#                  ('Clustering', \n",
    "#                  hdbscan.HDBSCAN(min_cluster_size=50,\n",
    "#                                 min_samples=25,\n",
    "#                                 cluster_selection_epsilon=1.0,\n",
    "#                                 cluster_selection_method='eom'))\n",
    "#                 ])\n",
    "# pipe.fit(df_normalized)"
   ]
  },
  {
   "cell_type": "code",
   "execution_count": null,
   "id": "20398a3b",
   "metadata": {
    "scrolled": true
   },
   "outputs": [],
   "source": [
    "#get_score(df_normalized, pipe['Clustering'].labels_)"
   ]
  },
  {
   "cell_type": "markdown",
   "id": "ec5e78a4",
   "metadata": {},
   "source": [
    "## HDDC"
   ]
  },
  {
   "cell_type": "code",
   "execution_count": 51,
   "id": "136580b1",
   "metadata": {
    "scrolled": false
   },
   "outputs": [
    {
     "name": "stdout",
     "output_type": "stream",
     "text": [
      "GO Sample\n",
      "GO Sample\n",
      "GO Sample\n",
      "GO Sample\n",
      "GO Sample\n",
      "GO Sample\n",
      "GO Sample\n",
      "GO Sample\n",
      "GO Sample\n",
      "GO Sample\n",
      "GO Sample\n",
      "GO Sample\n",
      "GO Sample\n",
      "GO Sample\n",
      "GO Sample\n",
      "GO Sample\n",
      "GO Sample\n",
      "GO Sample\n",
      "GO Sample\n",
      "GO Sample\n",
      "GO Sample\n",
      "GO Sample\n",
      "GO Sample\n",
      "GO Sample\n"
     ]
    }
   ],
   "source": [
    "clusters, results_grid_4['hddc'], bic_df =  merge_Results('/home/g0017139/UMCG_Thesis/Working_Code/Results/Set4/', 'HDDC', df_normalized)"
   ]
  },
  {
   "cell_type": "code",
   "execution_count": 52,
   "id": "5b8d75b2",
   "metadata": {
    "scrolled": false
   },
   "outputs": [
    {
     "data": {
      "text/html": [
       "<div>\n",
       "<style scoped>\n",
       "    .dataframe tbody tr th:only-of-type {\n",
       "        vertical-align: middle;\n",
       "    }\n",
       "\n",
       "    .dataframe tbody tr th {\n",
       "        vertical-align: top;\n",
       "    }\n",
       "\n",
       "    .dataframe thead th {\n",
       "        text-align: right;\n",
       "    }\n",
       "</style>\n",
       "<table border=\"1\" class=\"dataframe\">\n",
       "  <thead>\n",
       "    <tr style=\"text-align: right;\">\n",
       "      <th></th>\n",
       "      <th>n_clusters</th>\n",
       "      <th>silhouette_score</th>\n",
       "      <th>calinski_harabasz_score</th>\n",
       "      <th>davies_bouldin_score</th>\n",
       "    </tr>\n",
       "  </thead>\n",
       "  <tbody>\n",
       "    <tr>\n",
       "      <th>11</th>\n",
       "      <td>15</td>\n",
       "      <td>0.050439</td>\n",
       "      <td>198.537141</td>\n",
       "      <td>3.816309</td>\n",
       "    </tr>\n",
       "    <tr>\n",
       "      <th>6</th>\n",
       "      <td>10</td>\n",
       "      <td>0.041570</td>\n",
       "      <td>211.003360</td>\n",
       "      <td>4.081448</td>\n",
       "    </tr>\n",
       "    <tr>\n",
       "      <th>4</th>\n",
       "      <td>2</td>\n",
       "      <td>0.029447</td>\n",
       "      <td>138.204736</td>\n",
       "      <td>8.302046</td>\n",
       "    </tr>\n",
       "    <tr>\n",
       "      <th>7</th>\n",
       "      <td>12</td>\n",
       "      <td>0.027156</td>\n",
       "      <td>196.569313</td>\n",
       "      <td>4.820216</td>\n",
       "    </tr>\n",
       "    <tr>\n",
       "      <th>10</th>\n",
       "      <td>13</td>\n",
       "      <td>0.024551</td>\n",
       "      <td>181.124951</td>\n",
       "      <td>4.929371</td>\n",
       "    </tr>\n",
       "  </tbody>\n",
       "</table>\n",
       "</div>"
      ],
      "text/plain": [
       "    n_clusters  silhouette_score  calinski_harabasz_score  \\\n",
       "11          15          0.050439               198.537141   \n",
       "6           10          0.041570               211.003360   \n",
       "4            2          0.029447               138.204736   \n",
       "7           12          0.027156               196.569313   \n",
       "10          13          0.024551               181.124951   \n",
       "\n",
       "    davies_bouldin_score  \n",
       "11              3.816309  \n",
       "6               4.081448  \n",
       "4               8.302046  \n",
       "7               4.820216  \n",
       "10              4.929371  "
      ]
     },
     "execution_count": 52,
     "metadata": {},
     "output_type": "execute_result"
    }
   ],
   "source": [
    "results_grid_4['hddc'].sort_values('silhouette_score', axis=0, ascending=False).head()"
   ]
  },
  {
   "cell_type": "code",
   "execution_count": 53,
   "id": "ce73d863",
   "metadata": {
    "scrolled": false
   },
   "outputs": [
    {
     "data": {
      "text/html": [
       "<div>\n",
       "<style scoped>\n",
       "    .dataframe tbody tr th:only-of-type {\n",
       "        vertical-align: middle;\n",
       "    }\n",
       "\n",
       "    .dataframe tbody tr th {\n",
       "        vertical-align: top;\n",
       "    }\n",
       "\n",
       "    .dataframe thead th {\n",
       "        text-align: right;\n",
       "    }\n",
       "</style>\n",
       "<table border=\"1\" class=\"dataframe\">\n",
       "  <thead>\n",
       "    <tr style=\"text-align: right;\">\n",
       "      <th></th>\n",
       "      <th>n_clusters</th>\n",
       "      <th>silhouette_score</th>\n",
       "      <th>calinski_harabasz_score</th>\n",
       "      <th>davies_bouldin_score</th>\n",
       "    </tr>\n",
       "  </thead>\n",
       "  <tbody>\n",
       "    <tr>\n",
       "      <th>5</th>\n",
       "      <td>4</td>\n",
       "      <td>0.009053</td>\n",
       "      <td>247.434559</td>\n",
       "      <td>6.383849</td>\n",
       "    </tr>\n",
       "    <tr>\n",
       "      <th>8</th>\n",
       "      <td>7</td>\n",
       "      <td>0.009325</td>\n",
       "      <td>243.171677</td>\n",
       "      <td>4.803565</td>\n",
       "    </tr>\n",
       "    <tr>\n",
       "      <th>3</th>\n",
       "      <td>6</td>\n",
       "      <td>0.020172</td>\n",
       "      <td>237.972790</td>\n",
       "      <td>4.986615</td>\n",
       "    </tr>\n",
       "    <tr>\n",
       "      <th>6</th>\n",
       "      <td>10</td>\n",
       "      <td>0.041570</td>\n",
       "      <td>211.003360</td>\n",
       "      <td>4.081448</td>\n",
       "    </tr>\n",
       "  </tbody>\n",
       "</table>\n",
       "</div>"
      ],
      "text/plain": [
       "   n_clusters  silhouette_score  calinski_harabasz_score  davies_bouldin_score\n",
       "5           4          0.009053               247.434559              6.383849\n",
       "8           7          0.009325               243.171677              4.803565\n",
       "3           6          0.020172               237.972790              4.986615\n",
       "6          10          0.041570               211.003360              4.081448"
      ]
     },
     "execution_count": 53,
     "metadata": {},
     "output_type": "execute_result"
    }
   ],
   "source": [
    "results_grid_4['hddc'].sort_values('calinski_harabasz_score', axis=0, ascending=False).head(4)"
   ]
  },
  {
   "cell_type": "code",
   "execution_count": 59,
   "id": "c44ae316",
   "metadata": {
    "scrolled": false
   },
   "outputs": [
    {
     "data": {
      "text/html": [
       "<div>\n",
       "<style scoped>\n",
       "    .dataframe tbody tr th:only-of-type {\n",
       "        vertical-align: middle;\n",
       "    }\n",
       "\n",
       "    .dataframe tbody tr th {\n",
       "        vertical-align: top;\n",
       "    }\n",
       "\n",
       "    .dataframe thead th {\n",
       "        text-align: right;\n",
       "    }\n",
       "</style>\n",
       "<table border=\"1\" class=\"dataframe\">\n",
       "  <thead>\n",
       "    <tr style=\"text-align: right;\">\n",
       "      <th></th>\n",
       "      <th>model</th>\n",
       "      <th>K</th>\n",
       "      <th>threshold</th>\n",
       "      <th>LL</th>\n",
       "      <th>BIC</th>\n",
       "      <th>ICL</th>\n",
       "      <th>rank</th>\n",
       "      <th>complexity</th>\n",
       "      <th>comment</th>\n",
       "      <th>1</th>\n",
       "    </tr>\n",
       "  </thead>\n",
       "  <tbody>\n",
       "  </tbody>\n",
       "</table>\n",
       "</div>"
      ],
      "text/plain": [
       "Empty DataFrame\n",
       "Columns: [model, K, threshold, LL, BIC, ICL, rank, complexity, comment, 1]\n",
       "Index: []"
      ]
     },
     "execution_count": 59,
     "metadata": {},
     "output_type": "execute_result"
    }
   ],
   "source": [
    "bic_df.head(4)"
   ]
  },
  {
   "cell_type": "code",
   "execution_count": 55,
   "id": "5c82e9e5",
   "metadata": {
    "scrolled": false
   },
   "outputs": [
    {
     "name": "stdout",
     "output_type": "stream",
     "text": [
      "GO Sample\n",
      "GO Sample\n"
     ]
    },
    {
     "data": {
      "text/plain": [
       "{'silhouette_score': 0.026905198615828282,\n",
       " 'calinski_harabasz_score': 138.20473635667233,\n",
       " 'davies_bouldin_score': 8.302045893487888}"
      ]
     },
     "execution_count": 55,
     "metadata": {},
     "output_type": "execute_result"
    }
   ],
   "source": [
    "get_score(df_normalized, clusters['2'])"
   ]
  },
  {
   "cell_type": "code",
   "execution_count": 56,
   "id": "3980d8bb",
   "metadata": {},
   "outputs": [],
   "source": [
    "with open('/home/g0017139/UMCG_Thesis/Working_Code/Results/Set4/Merged_results.pkl', 'wb') as f:\n",
    "    pickle.dump(results_grid_4, f, protocol=pickle.HIGHEST_PROTOCOL)"
   ]
  },
  {
   "cell_type": "code",
   "execution_count": 57,
   "id": "67a4bc55",
   "metadata": {},
   "outputs": [],
   "source": [
    "with open('/home/g0017139/UMCG_Thesis/Working_Code/Results/Set4/Merged_GridHDDC.pkl', 'wb') as f:\n",
    "    pickle.dump(bic_df, f, protocol=pickle.HIGHEST_PROTOCOL)"
   ]
  },
  {
   "cell_type": "code",
   "execution_count": 58,
   "id": "6c929861",
   "metadata": {},
   "outputs": [],
   "source": [
    "with open('/home/g0017139/UMCG_Thesis/Working_Code/Results/Set4/MergedClustersHDDC.pkl', 'wb') as f:\n",
    "    pickle.dump(clusters, f, protocol=pickle.HIGHEST_PROTOCOL)"
   ]
  },
  {
   "cell_type": "code",
   "execution_count": null,
   "id": "007e9735",
   "metadata": {},
   "outputs": [],
   "source": []
  },
  {
   "cell_type": "code",
   "execution_count": null,
   "id": "3905c679",
   "metadata": {},
   "outputs": [],
   "source": []
  }
 ],
 "metadata": {
  "kernelspec": {
   "display_name": "TryTwo",
   "language": "python",
   "name": "trytwo"
  },
  "language_info": {
   "codemirror_mode": {
    "name": "ipython",
    "version": 3
   },
   "file_extension": ".py",
   "mimetype": "text/x-python",
   "name": "python",
   "nbconvert_exporter": "python",
   "pygments_lexer": "ipython3",
   "version": "3.9.6"
  }
 },
 "nbformat": 4,
 "nbformat_minor": 5
}
