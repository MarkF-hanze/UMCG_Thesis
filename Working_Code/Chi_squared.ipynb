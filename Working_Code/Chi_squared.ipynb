{
 "cells": [
  {
   "cell_type": "code",
   "execution_count": 11,
   "id": "e238c2c8",
   "metadata": {},
   "outputs": [
    {
     "data": {
      "text/plain": [
       "(0.776907916885222,\n",
       " 0.9976725354975068,\n",
       " 7,\n",
       " array([[ 995.6682243 ,  994.17172897,  168.60514019,  205.51869159,\n",
       "          210.00817757,  127.2021028 ,  141.6682243 ,  146.15771028],\n",
       "        [1000.3317757 ,  998.82827103,  169.39485981,  206.48130841,\n",
       "          210.99182243,  127.7978972 ,  142.3317757 ,  146.84228972]]))"
      ]
     },
     "execution_count": 11,
     "metadata": {},
     "output_type": "execute_result"
    }
   ],
   "source": [
    "from scipy.stats import chi2_contingency\n",
    "import numpy as np\n",
    "obs = np.array([[996, 996, 167, 205, 207, 126, 148, 144], [1000, 997, 171, 207, 214, 129, 136, 149]])\n",
    "chi2_contingency(obs)"
   ]
  },
  {
   "cell_type": "code",
   "execution_count": null,
   "id": "bd997136",
   "metadata": {},
   "outputs": [],
   "source": []
  }
 ],
 "metadata": {
  "kernelspec": {
   "display_name": "TryTwo",
   "language": "python",
   "name": "trytwo"
  },
  "language_info": {
   "codemirror_mode": {
    "name": "ipython",
    "version": 3
   },
   "file_extension": ".py",
   "mimetype": "text/x-python",
   "name": "python",
   "nbconvert_exporter": "python",
   "pygments_lexer": "ipython3",
   "version": "3.9.6"
  }
 },
 "nbformat": 4,
 "nbformat_minor": 5
}
