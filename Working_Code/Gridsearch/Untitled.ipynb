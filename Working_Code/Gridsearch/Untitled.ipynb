{
 "cells": [
  {
   "cell_type": "code",
   "execution_count": 3,
   "id": "65c2ef6d",
   "metadata": {},
   "outputs": [],
   "source": [
    "from IPython.display import SVG, display\n",
    "from tqdm import tqdm\n",
    "from pyclustertend import hopkins,ivat\n",
    "from tqdm import tqdm\n",
    "\n",
    "\n",
    "import hdbscan\n",
    "import umap\n",
    "import pickle\n",
    "import os\n",
    "import itertools\n",
    "import time\n",
    "import pandas as pd\n",
    "import matplotlib.pyplot as plt\n",
    "import numpy as np\n",
    "import seaborn as sns\n",
    "\n",
    "from sklearn.pipeline import Pipeline\n",
    "from sklearn.decomposition import PCA, FastICA\n",
    "from sklearn.preprocessing import MinMaxScaler, StandardScaler\n",
    "from sklearn.cluster import MiniBatchKMeans, AgglomerativeClustering\n",
    "from sklearn.metrics import silhouette_score, calinski_harabasz_score, davies_bouldin_score"
   ]
  },
  {
   "cell_type": "code",
   "execution_count": 4,
   "id": "b5775c7e",
   "metadata": {},
   "outputs": [],
   "source": [
    "def get_score(X, labels):\n",
    "    result = {}\n",
    "    try:\n",
    "        result['silhouette_score'] = silhouette_score(X, labels, metric='euclidean')\n",
    "    except:\n",
    "        result['silhouette_score'] = np.nan\n",
    "\n",
    "    try:\n",
    "        result['calinski_harabasz_score'] = calinski_harabasz_score(X, labels)\n",
    "    except:\n",
    "        result['calinski_harabasz_score'] = np.nan\n",
    "\n",
    "    try:\n",
    "        result['davies_bouldin_score'] = davies_bouldin_score(X, labels)\n",
    "    except:\n",
    "        result['davies_bouldin_score'] = np.nan\n",
    "    return result\n",
    "\n",
    "X = pd.read_csv('/data/g0017139/gene_expression_norm.dat', sep=' ', header=None)"
   ]
  },
  {
   "cell_type": "code",
   "execution_count": null,
   "id": "01af1af4",
   "metadata": {},
   "outputs": [],
   "source": [
    "from subspaceClustering.cluster.selfrepresentation import ElasticNetSubspaceClustering\n",
    "start_time = time.time()\n",
    "model1 = ElasticNetSubspaceClustering(n_clusters=2, gamma=1000, algorithm='spams').fit(X)\n",
    "print(time.time()-start_time)"
   ]
  },
  {
   "cell_type": "code",
   "execution_count": 16,
   "id": "b89df044",
   "metadata": {},
   "outputs": [
    {
     "data": {
      "text/plain": [
       "{'silhouette_score': 0.00022614190890525934,\n",
       " 'calinski_harabasz_score': 1.3691082839873578,\n",
       " 'davies_bouldin_score': 27.61580268054757}"
      ]
     },
     "execution_count": 16,
     "metadata": {},
     "output_type": "execute_result"
    }
   ],
   "source": [
    "get_score(X, model1.labels_)"
   ]
  },
  {
   "cell_type": "code",
   "execution_count": null,
   "id": "da501042",
   "metadata": {},
   "outputs": [],
   "source": []
  }
 ],
 "metadata": {
  "kernelspec": {
   "display_name": "TryTwo",
   "language": "python",
   "name": "trytwo"
  },
  "language_info": {
   "codemirror_mode": {
    "name": "ipython",
    "version": 3
   },
   "file_extension": ".py",
   "mimetype": "text/x-python",
   "name": "python",
   "nbconvert_exporter": "python",
   "pygments_lexer": "ipython3",
   "version": "3.9.6"
  }
 },
 "nbformat": 4,
 "nbformat_minor": 5
}
